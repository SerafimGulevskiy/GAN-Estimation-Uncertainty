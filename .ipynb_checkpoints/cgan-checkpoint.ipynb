{
 "cells": [
  {
   "cell_type": "code",
   "execution_count": 85,
   "id": "4a0388f0-cb1c-4347-80c1-c51f055499d8",
   "metadata": {},
   "outputs": [],
   "source": [
    "import torch\n",
    "import torch.optim as optim\n",
    "import torch.nn as nn\n",
    "from torch.utils import data\n",
    "import torchvision\n",
    "\n",
    "import matplotlib.pyplot as plt\n",
    "import numpy as np\n",
    "import pandas as pd\n",
    "\n",
    "import math\n",
    "from tqdm import tqdm"
   ]
  },
  {
   "cell_type": "markdown",
   "id": "55e95992-efd2-4280-a5f3-bcc82a407640",
   "metadata": {},
   "source": [
    "### Prepare test dataset"
   ]
  },
  {
   "cell_type": "code",
   "execution_count": 203,
   "id": "e4d9b3b2-9393-421a-8245-2763a4abf82c",
   "metadata": {},
   "outputs": [],
   "source": [
    "train_data_length = 1000\n",
    "train_data_length_certain = 500 \n",
    "train_data_length_uncertain = train_data_length - train_data_length_certain\n",
    "train_data = torch.zeros((train_data_length, 2))\n",
    "train_data[:train_data_length_certain, 0] = 1.5 * math.pi * torch.rand(train_data_length_certain)\n",
    "train_data[train_data_length_certain:, 0] = 2 * math.pi * torch.rand(train_data_length_uncertain)\n",
    "train_data[:, 1] = torch.sin(train_data[:, 0])\n",
    "# train_labels = torch.zeros(train_data_length)\n",
    "# train_set = [\n",
    "#     (train_data[i], train_labels[i]) for i in range(train_data_length)\n",
    "# ]"
   ]
  },
  {
   "cell_type": "code",
   "execution_count": 204,
   "id": "c91d37bb-e95d-43e8-9833-348a946de912",
   "metadata": {},
   "outputs": [],
   "source": [
    "# train_data"
   ]
  },
  {
   "cell_type": "code",
   "execution_count": 205,
   "id": "d35c810a-e426-4681-910c-5accc8af7781",
   "metadata": {},
   "outputs": [],
   "source": [
    "# 2 * math.pi * torch.rand(train_data_length)"
   ]
  },
  {
   "cell_type": "code",
   "execution_count": 206,
   "id": "79405f32-39b8-400f-bc02-2014a909ac0a",
   "metadata": {},
   "outputs": [
    {
     "data": {
      "text/plain": [
       "[<matplotlib.lines.Line2D at 0x13fe420a0>]"
      ]
     },
     "execution_count": 206,
     "metadata": {},
     "output_type": "execute_result"
    },
    {
     "data": {
      "image/png": "[encoded data removed]",
      "text/plain": [
       "<Figure size 432x288 with 1 Axes>"
      ]
     },
     "metadata": {
      "needs_background": "light"
     },
     "output_type": "display_data"
    }
   ],
   "source": [
    "plt.plot(train_data[:, 0], train_data[:, 1], \".\")"
   ]
  },
  {
   "cell_type": "code",
   "execution_count": null,
   "id": "1647ae77-cc3e-49a7-8345-a6cdeff5bf02",
   "metadata": {},
   "outputs": [],
   "source": []
  },
  {
   "cell_type": "code",
   "execution_count": 207,
   "id": "5507d56b-0251-44a5-afb2-06258d1810c3",
   "metadata": {},
   "outputs": [],
   "source": [
    "BATCH_SIZE = 32\n",
    "train_loader = torch.utils.data.DataLoader(\n",
    "    train_data, batch_size=BATCH_SIZE, shuffle=True\n",
    ")"
   ]
  },
  {
   "cell_type": "markdown",
   "id": "744cef8e-69d2-42fe-8103-bdc1c93f6f65",
   "metadata": {},
   "source": [
    "define function that we will learn to predict by GAN"
   ]
  },
  {
   "cell_type": "code",
   "execution_count": 208,
   "id": "9a7f2184-bfdb-40ce-a084-bd28605655ed",
   "metadata": {},
   "outputs": [],
   "source": [
    "#Discriminator\n",
    "class Discriminator(nn.Module):\n",
    "    def __init__(self):\n",
    "        super().__init__()\n",
    "        self.model = nn.Sequential(\n",
    "            nn.Linear(2, 256),\n",
    "            nn.ReLU(),\n",
    "            nn.Dropout(0.3),\n",
    "            nn.Linear(256, 128),\n",
    "            nn.ReLU(),\n",
    "            nn.Dropout(0.3),\n",
    "            nn.Linear(128, 64),\n",
    "            nn.ReLU(),\n",
    "            nn.Dropout(0.3),\n",
    "            nn.Linear(64, 1),\n",
    "            nn.Sigmoid(),\n",
    "        )\n",
    "\n",
    "    def forward(self, x):\n",
    "        output = self.model(x)\n",
    "        return output"
   ]
  },
  {
   "cell_type": "code",
   "execution_count": 209,
   "id": "f523b54d-0a36-48cf-a04a-77955613b670",
   "metadata": {},
   "outputs": [],
   "source": [
    "class Generator(nn.Module):\n",
    "    def __init__(self):\n",
    "        super().__init__()\n",
    "        self.model = nn.Sequential(\n",
    "            nn.Linear(2, 16),\n",
    "            nn.ReLU(),\n",
    "            nn.Linear(16, 32),\n",
    "            nn.ReLU(),\n",
    "            nn.Linear(32, 2),\n",
    "        )\n",
    "\n",
    "    def forward(self, x):\n",
    "        output = self.model(x)\n",
    "        return output"
   ]
  },
  {
   "cell_type": "code",
   "execution_count": 210,
   "id": "d0027054-520c-42bb-b69b-53b0a7df7eca",
   "metadata": {},
   "outputs": [],
   "source": [
    "device = torch.device('cuda' if torch.cuda.is_available() else 'cpu')"
   ]
  },
  {
   "cell_type": "code",
   "execution_count": 211,
   "id": "a78e656c-40fb-4f85-a989-97218b6d09a3",
   "metadata": {},
   "outputs": [],
   "source": [
    "D = Discriminator().to(device=device)\n",
    "G = Generator().to(device=device)"
   ]
  },
  {
   "cell_type": "code",
   "execution_count": 212,
   "id": "2010aa4d-5c9f-46ba-a3ce-5fc060655984",
   "metadata": {},
   "outputs": [],
   "source": [
    "#model parametrs\n",
    "# learning_rate_G = 0.0001\n",
    "# learning_rate_D = 0.0004\n",
    "lr = 0.001\n",
    "NUM_EPOCHS = 200\n",
    "loss_function = nn.BCELoss()"
   ]
  },
  {
   "cell_type": "code",
   "execution_count": 213,
   "id": "3120e7d6-1327-42e6-a6d1-1e027226e536",
   "metadata": {},
   "outputs": [],
   "source": [
    "D_optimizer = torch.optim.Adam(D.parameters(), lr=lr)\n",
    "G_optimizer = torch.optim.Adam(G.parameters(), lr=lr)\n",
    "# D_optimizer = optim.Adam(D.parameters(), lr=learning_rate_G, betas=(0.5, 0.999))\n",
    "# G_optimizer = optim.Adam(G.parameters(), lr=learning_rate_D, betas=(0.5, 0.999))"
   ]
  },
  {
   "cell_type": "markdown",
   "id": "83c1d0d4-1b83-4615-9cdc-f7806119ae41",
   "metadata": {},
   "source": [
    "train Discriminator "
   ]
  },
  {
   "cell_type": "code",
   "execution_count": 214,
   "id": "e2ad6b35-8e6b-4b97-b007-949a5855c335",
   "metadata": {},
   "outputs": [],
   "source": [
    "def D_train(\n",
    "        x,\n",
    "        D = D,\n",
    "        G = G,\n",
    "        D_optimizer = D_optimizer,\n",
    "        criterion = loss_function,\n",
    "        device = device,\n",
    "        space_dimension = 2,\n",
    "        noise_dim = 2\n",
    "):\n",
    "    D.zero_grad()\n",
    "\n",
    "    # Train discriminator on real data\n",
    "    x_real, y_real = x.view(-1, space_dimension).to(device), torch.ones(x.size(0), 1).to(device)  # 1 is real\n",
    "    D_output = D(x_real)\n",
    "    D_real_loss = criterion(D_output, y_real)\n",
    "    D_real_score = D_output\n",
    "\n",
    "    # Train discriminator on fake data\n",
    "    z = torch.randn(x.size(0), noise_dim).to(device)\n",
    "    x_fake, y_fake = G(z).detach(), torch.zeros(x.size(0), 1).to(device)  # 0 is fake\n",
    "    D_output = D(x_fake)\n",
    "    D_fake_loss = criterion(D_output, y_fake)\n",
    "    D_fake_score = D_output\n",
    "\n",
    "    # Calculate the total discriminator loss\n",
    "    D_loss = D_real_loss + D_fake_loss\n",
    "\n",
    "    # Backpropagate and optimize ONLY D's parameters\n",
    "    D_loss.backward()\n",
    "    D_optimizer.step()\n",
    "\n",
    "    return D_loss.item()\n"
   ]
  },
  {
   "cell_type": "markdown",
   "id": "cbebe5b3-abcd-4371-b92e-84ec5573d292",
   "metadata": {},
   "source": [
    "train Generator"
   ]
  },
  {
   "cell_type": "code",
   "execution_count": 215,
   "id": "cd8e6a63-0707-43ed-804e-f4c326eceb65",
   "metadata": {},
   "outputs": [],
   "source": [
    "def G_train(\n",
    "        x,\n",
    "        D = D,\n",
    "        G = G,\n",
    "        D_optimizer = D_optimizer,\n",
    "        criterion = loss_function,\n",
    "        device = device,\n",
    "        space_dimension = 2,\n",
    "        noise_dim = 2\n",
    "):\n",
    "    G.zero_grad()\n",
    "    z = torch.randn(x.size(0), noise_dim).to(device)\n",
    "    y = torch.ones(x.size(0), 1).to(device)\n",
    "\n",
    "    G_output = G(z)\n",
    "    D_output = D(G_output)\n",
    "    G_loss = criterion(D_output, y)\n",
    "\n",
    "    # gradient backprop & optimize ONLY G's parameters\n",
    "    G_loss.backward()\n",
    "    G_optimizer.step()\n",
    "        \n",
    "    return G_loss.data.item()\n"
   ]
  },
  {
   "cell_type": "markdown",
   "id": "1ba9e94d-a6b5-4620-92d0-3cc028592c69",
   "metadata": {},
   "source": [
    "### Training"
   ]
  },
  {
   "cell_type": "code",
   "execution_count": 216,
   "id": "30dc891f-704e-4abb-bfd8-2d43ad45bc67",
   "metadata": {},
   "outputs": [
    {
     "name": "stderr",
     "output_type": "stream",
     "text": [
      " 10%|████▍                                     | 21/200 [00:02<00:23,  7.65it/s]"
     ]
    },
    {
     "name": "stdout",
     "output_type": "stream",
     "text": [
      "[20/200]: loss_d: 1.207, loss_g: 0.980\n"
     ]
    },
    {
     "name": "stderr",
     "output_type": "stream",
     "text": [
      " 20%|████████▌                                 | 41/200 [00:05<00:21,  7.32it/s]"
     ]
    },
    {
     "name": "stdout",
     "output_type": "stream",
     "text": [
      "[40/200]: loss_d: 1.288, loss_g: 0.906\n"
     ]
    },
    {
     "name": "stderr",
     "output_type": "stream",
     "text": [
      " 30%|████████████▊                             | 61/200 [00:08<00:18,  7.33it/s]"
     ]
    },
    {
     "name": "stdout",
     "output_type": "stream",
     "text": [
      "[60/200]: loss_d: 1.300, loss_g: 0.786\n"
     ]
    },
    {
     "name": "stderr",
     "output_type": "stream",
     "text": [
      " 40%|█████████████████                         | 81/200 [00:10<00:16,  7.20it/s]"
     ]
    },
    {
     "name": "stdout",
     "output_type": "stream",
     "text": [
      "[80/200]: loss_d: 1.373, loss_g: 0.717\n"
     ]
    },
    {
     "name": "stderr",
     "output_type": "stream",
     "text": [
      " 50%|████████████████████▋                    | 101/200 [00:13<00:14,  6.79it/s]"
     ]
    },
    {
     "name": "stdout",
     "output_type": "stream",
     "text": [
      "[100/200]: loss_d: 1.373, loss_g: 0.739\n"
     ]
    },
    {
     "name": "stderr",
     "output_type": "stream",
     "text": [
      " 60%|████████████████████████▊                | 121/200 [00:16<00:12,  6.58it/s]"
     ]
    },
    {
     "name": "stdout",
     "output_type": "stream",
     "text": [
      "[120/200]: loss_d: 1.378, loss_g: 0.723\n"
     ]
    },
    {
     "name": "stderr",
     "output_type": "stream",
     "text": [
      " 70%|████████████████████████████▉            | 141/200 [00:19<00:08,  7.05it/s]"
     ]
    },
    {
     "name": "stdout",
     "output_type": "stream",
     "text": [
      "[140/200]: loss_d: 1.379, loss_g: 0.775\n"
     ]
    },
    {
     "name": "stderr",
     "output_type": "stream",
     "text": [
      " 80%|█████████████████████████████████        | 161/200 [00:22<00:05,  7.39it/s]"
     ]
    },
    {
     "name": "stdout",
     "output_type": "stream",
     "text": [
      "[160/200]: loss_d: 1.339, loss_g: 0.786\n"
     ]
    },
    {
     "name": "stderr",
     "output_type": "stream",
     "text": [
      " 90%|█████████████████████████████████████    | 181/200 [00:25<00:02,  7.35it/s]"
     ]
    },
    {
     "name": "stdout",
     "output_type": "stream",
     "text": [
      "[180/200]: loss_d: 1.293, loss_g: 0.908\n"
     ]
    },
    {
     "name": "stderr",
     "output_type": "stream",
     "text": [
      "100%|█████████████████████████████████████████| 200/200 [00:27<00:00,  7.16it/s]"
     ]
    },
    {
     "name": "stdout",
     "output_type": "stream",
     "text": [
      "[200/200]: loss_d: 1.353, loss_g: 0.769\n"
     ]
    },
    {
     "name": "stderr",
     "output_type": "stream",
     "text": [
      "\n"
     ]
    }
   ],
   "source": [
    "D_losses_final = []\n",
    "G_losses_final = []\n",
    "\n",
    "for epoch in tqdm(range(1, NUM_EPOCHS+1)):           \n",
    "    D_losses, G_losses = [], []\n",
    "    for batch_idx, x in enumerate(train_loader):\n",
    "        # print(batch_idx, x.shape, _.shape)\n",
    "        D_losses.append(D_train(x))\n",
    "        G_losses.append(G_train(x))\n",
    "        \n",
    "    D_losses_final.append(torch.mean(torch.FloatTensor(D_losses)))\n",
    "    G_losses_final.append(torch.mean(torch.FloatTensor(G_losses)))\n",
    "    \n",
    "    if epoch % 20 == 0:\n",
    "        print('[%d/%d]: loss_d: %.3f, loss_g: %.3f' % (\n",
    "                (epoch), NUM_EPOCHS, torch.mean(torch.FloatTensor(D_losses)), torch.mean(torch.FloatTensor(G_losses))))"
   ]
  },
  {
   "cell_type": "code",
   "execution_count": 217,
   "id": "dc02a6c0-ede5-4ea4-bbed-1af9e1c452a1",
   "metadata": {},
   "outputs": [
    {
     "data": {
      "text/plain": [
       "<matplotlib.legend.Legend at 0x13fea1e20>"
      ]
     },
     "execution_count": 217,
     "metadata": {},
     "output_type": "execute_result"
    },
    {
     "data": {
      "image/png": "[encoded data removed]",
      "text/plain": [
       "<Figure size 432x288 with 1 Axes>"
      ]
     },
     "metadata": {
      "needs_background": "light"
     },
     "output_type": "display_data"
    }
   ],
   "source": [
    "fig, ax = plt.subplots()\n",
    "# losses = np.array(losses)\n",
    "plt.plot(D_losses_final, label='Discriminator')\n",
    "plt.plot(G_losses_final, label='Generator')\n",
    "plt.title(\"Training Losses\")\n",
    "plt.legend()"
   ]
  },
  {
   "cell_type": "markdown",
   "id": "2ad05b18-c5fd-421d-8e9e-520f45cac171",
   "metadata": {},
   "source": [
    "### Test"
   ]
  },
  {
   "cell_type": "code",
   "execution_count": 226,
   "id": "c7e03cbf-9fe5-421c-8761-1728d0fac208",
   "metadata": {},
   "outputs": [],
   "source": [
    "latent_space_samples = torch.randn(1000, 2)\n",
    "generated_samples = G(latent_space_samples)"
   ]
  },
  {
   "cell_type": "code",
   "execution_count": 227,
   "id": "018c9a71-452f-4aaa-a9bd-9f41cc117344",
   "metadata": {},
   "outputs": [
    {
     "data": {
      "text/plain": [
       "[<matplotlib.lines.Line2D at 0x13fd85340>]"
      ]
     },
     "execution_count": 227,
     "metadata": {},
     "output_type": "execute_result"
    },
    {
     "data": {
      "image/png": "[encoded data removed]",
      "text/plain": [
       "<Figure size 432x288 with 1 Axes>"
      ]
     },
     "metadata": {
      "needs_background": "light"
     },
     "output_type": "display_data"
    }
   ],
   "source": [
    "generated_samples = generated_samples.detach()\n",
    "plt.plot(generated_samples[:, 0], generated_samples[:, 1], \".\")"
   ]
  },
  {
   "cell_type": "code",
   "execution_count": null,
   "id": "16442565-6a67-4000-8267-7ae70ebed4e0",
   "metadata": {},
   "outputs": [],
   "source": []
  }
 ],
 "metadata": {
  "kernelspec": {
   "display_name": "Python 3 (ipykernel)",
   "language": "python",
   "name": "python3"
  },
  "language_info": {
   "codemirror_mode": {
    "name": "ipython",
    "version": 3
   },
   "file_extension": ".py",
   "mimetype": "text/x-python",
   "name": "python",
   "nbconvert_exporter": "python",
   "pygments_lexer": "ipython3",
   "version": "3.8.2"
  }
 },
 "nbformat": 4,
 "nbformat_minor": 5
}
