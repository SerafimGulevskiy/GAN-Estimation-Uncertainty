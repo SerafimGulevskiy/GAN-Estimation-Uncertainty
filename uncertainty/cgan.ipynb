{
 "cells": [
  {
   "cell_type": "code",
   "execution_count": 1,
   "id": "d00532c0-ed29-4298-9156-6441082fabd3",
   "metadata": {},
   "outputs": [],
   "source": [
    "%load_ext autoreload\n",
    "%autoreload 2"
   ]
  },
  {
   "cell_type": "code",
   "execution_count": 2,
   "id": "feb9c680-d105-4249-9185-5d88301400fe",
   "metadata": {},
   "outputs": [],
   "source": [
    "import os\n",
    "# print(os.getcwd())\n",
    "os.chdir('./GAN-Estimation-Uncertainty/uncertainty')"
   ]
  },
  {
   "cell_type": "code",
   "execution_count": 3,
   "id": "512a60ee-83ed-42e1-aa9d-a4ef120ac704",
   "metadata": {},
   "outputs": [],
   "source": [
    "import numpy as np"
   ]
  },
  {
   "cell_type": "code",
   "execution_count": 4,
   "id": "4a0388f0-cb1c-4347-80c1-c51f055499d8",
   "metadata": {},
   "outputs": [],
   "source": [
    "import torch\n",
    "import torch.optim as optim\n",
    "import torch.nn as nn\n",
    "from torch.utils import data\n",
    "import torchvision\n",
    "\n",
    "import matplotlib.pyplot as plt\n",
    "import numpy as np\n",
    "import pandas as pd\n",
    "\n",
    "import math\n",
    "from tqdm import tqdm"
   ]
  },
  {
   "cell_type": "markdown",
   "id": "ba89acaf-9e20-4660-972f-a6f2d48f9ce3",
   "metadata": {},
   "source": [
    "### Useful sites:\n",
    "1. [Torch-Uncertainty Library](https://github.com/ensta-u2is/torch-uncertainty)\n",
    "   - A library for uncertainty estimation in deep learning, including deep learning baselines like Deep Ensembles, MC-Dropout, and more. The repository also provides tutorials.\n",
    "\n",
    "2. [Awesome Uncertainty Deep Learning Repository](https://github.com/ENSTA-U2IS/awesome-uncertainty-deeplearning)\n",
    "   - A collection of papers and resources related to Uncertainty and Deep Learning.\n",
    "\n",
    "3. [Paper on Uncertainty Estimation](https://cds.cern.ch/record/2837844/files/2210.09767.pdf)\n",
    "   - A paper from HSE describing how uncertainty estimation was applied to a GAN task in a physics experiment, specifically the LHCb experiment.\n"
   ]
  },
  {
   "cell_type": "markdown",
   "id": "55e95992-efd2-4280-a5f3-bcc82a407640",
   "metadata": {},
   "source": [
    "### Prepare test dataset"
   ]
  },
  {
   "cell_type": "code",
   "execution_count": 5,
   "id": "97685244-04f7-4e74-b23c-e05cb5238423",
   "metadata": {},
   "outputs": [],
   "source": [
    "from datasets.sine import SinDataset"
   ]
  },
  {
   "cell_type": "code",
   "execution_count": 6,
   "id": "2352cf86-3866-4560-a607-6faf62fe53bb",
   "metadata": {},
   "outputs": [],
   "source": [
    "my_dataset = SinDataset(\n",
    "                  train_data_length = 1024,\n",
    "                  train_data_length_certain = 800\n",
    "                )"
   ]
  },
  {
   "cell_type": "code",
   "execution_count": 7,
   "id": "bd390cb9-f7f6-4690-a2d4-5164c491af7e",
   "metadata": {},
   "outputs": [
    {
     "data": {
      "text/plain": [
       "[<matplotlib.lines.Line2D at 0x1423cc0a0>]"
      ]
     },
     "execution_count": 7,
     "metadata": {},
     "output_type": "execute_result"
    },
    {
     "data": {
      "image/png": "[encoded data removed]",
      "text/plain": [
       "<Figure size 432x288 with 1 Axes>"
      ]
     },
     "metadata": {
      "needs_background": "light"
     },
     "output_type": "display_data"
    }
   ],
   "source": [
    "plt.plot(my_dataset[:][1], my_dataset[:][0], 'ko', markersize=0.5)"
   ]
  },
  {
   "cell_type": "code",
   "execution_count": 8,
   "id": "5507d56b-0251-44a5-afb2-06258d1810c3",
   "metadata": {},
   "outputs": [],
   "source": [
    "BATCH_SIZE = 32\n",
    "train_loader = torch.utils.data.DataLoader(\n",
    "    my_dataset, batch_size=BATCH_SIZE, shuffle=True\n",
    ")"
   ]
  },
  {
   "cell_type": "markdown",
   "id": "723da382-9a3c-4113-898f-6ce8e43159d6",
   "metadata": {},
   "source": [
    "### GAN architecture\n",
    ">start with basic simple cGAN"
   ]
  },
  {
   "cell_type": "markdown",
   "id": "744cef8e-69d2-42fe-8103-bdc1c93f6f65",
   "metadata": {},
   "source": [
    "Define the GAN\n",
    "\n",
    ">The GAN is designed such that a random latent number or vector is concatenated with a given variable 'x.' The GAN is then trained to learn the mapping from this combined input to the target variable 'y,' where 'y' is defined as the sine of 'x'"
   ]
  },
  {
   "cell_type": "code",
   "execution_count": 204,
   "id": "d81e9fd1-6864-47c5-9f70-cc85ba5e55c1",
   "metadata": {},
   "outputs": [],
   "source": [
    "from modules.base_GAN import Base_Discriminator, Base_Generator, train, plot_sine"
   ]
  },
  {
   "cell_type": "code",
   "execution_count": 205,
   "id": "d0027054-520c-42bb-b69b-53b0a7df7eca",
   "metadata": {},
   "outputs": [
    {
     "name": "stdout",
     "output_type": "stream",
     "text": [
      "cpu\n"
     ]
    }
   ],
   "source": [
    "device = torch.device('cuda' if torch.cuda.is_available() else 'cpu')\n",
    "print(device)"
   ]
  },
  {
   "cell_type": "code",
   "execution_count": 206,
   "id": "a78e656c-40fb-4f85-a989-97218b6d09a3",
   "metadata": {},
   "outputs": [],
   "source": [
    "D = Base_Discriminator().to(device=device)\n",
    "G = Base_Generator().to(device=device)"
   ]
  },
  {
   "cell_type": "code",
   "execution_count": 207,
   "id": "2010aa4d-5c9f-46ba-a3ce-5fc060655984",
   "metadata": {},
   "outputs": [],
   "source": [
    "#model parametrs\n",
    "# learning_rate_G = 0.0001\n",
    "# learning_rate_D = 0.0004\n",
    "lr = 0.001\n",
    "NUM_EPOCHS = 200\n",
    "loss_function = nn.BCELoss()"
   ]
  },
  {
   "cell_type": "code",
   "execution_count": 208,
   "id": "3120e7d6-1327-42e6-a6d1-1e027226e536",
   "metadata": {},
   "outputs": [],
   "source": [
    "D_optimizer = torch.optim.Adam(D.parameters(), lr=lr)\n",
    "G_optimizer = torch.optim.Adam(G.parameters(), lr=lr)\n",
    "# D_optimizer = optim.Adam(D.parameters(), lr=learning_rate_G, betas=(0.5, 0.999))\n",
    "# G_optimizer = optim.Adam(G.parameters(), lr=learning_rate_D, betas=(0.5, 0.999))"
   ]
  },
  {
   "cell_type": "markdown",
   "id": "83c1d0d4-1b83-4615-9cdc-f7806119ae41",
   "metadata": {},
   "source": [
    "Train Discriminator"
   ]
  },
  {
   "cell_type": "code",
   "execution_count": null,
   "id": "e2ad6b35-8e6b-4b97-b007-949a5855c335",
   "metadata": {},
   "outputs": [],
   "source": []
  },
  {
   "cell_type": "markdown",
   "id": "cbebe5b3-abcd-4371-b92e-84ec5573d292",
   "metadata": {},
   "source": [
    "Train Generator"
   ]
  },
  {
   "cell_type": "code",
   "execution_count": null,
   "id": "cd8e6a63-0707-43ed-804e-f4c326eceb65",
   "metadata": {},
   "outputs": [],
   "source": []
  },
  {
   "cell_type": "markdown",
   "id": "1ba9e94d-a6b5-4620-92d0-3cc028592c69",
   "metadata": {},
   "source": [
    "### Training"
   ]
  },
  {
   "cell_type": "code",
   "execution_count": 209,
   "id": "80a8dab0-4ca5-4e97-a9f9-1eec0b2d3caf",
   "metadata": {},
   "outputs": [
    {
     "ename": "NameError",
     "evalue": "name 'train_data_length' is not defined",
     "output_type": "error",
     "traceback": [
      "\u001b[0;31m---------------------------------------------------------------------------\u001b[0m",
      "\u001b[0;31mNameError\u001b[0m                                 Traceback (most recent call last)",
      "\u001b[0;32m/var/folders/zw/rd1vhmbn34vgll3fpyhd2dwh0000gn/T/ipykernel_44765/2052247264.py\u001b[0m in \u001b[0;36m<module>\u001b[0;34m\u001b[0m\n\u001b[0;32m----> 1\u001b[0;31m \u001b[0mbatches_per_epoch\u001b[0m \u001b[0;34m=\u001b[0m \u001b[0mtrain_data_length\u001b[0m\u001b[0;34m//\u001b[0m\u001b[0mBATCH_SIZE\u001b[0m\u001b[0;34m\u001b[0m\u001b[0;34m\u001b[0m\u001b[0m\n\u001b[0m\u001b[1;32m      2\u001b[0m \u001b[0mbatches_per_epoch\u001b[0m\u001b[0;34m\u001b[0m\u001b[0;34m\u001b[0m\u001b[0m\n",
      "\u001b[0;31mNameError\u001b[0m: name 'train_data_length' is not defined"
     ]
    }
   ],
   "source": [
    "batches_per_epoch = train_data_length//BATCH_SIZE\n",
    "batches_per_epoch"
   ]
  },
  {
   "cell_type": "code",
   "execution_count": 210,
   "id": "4ee3eb53-1f8d-4b88-8ed9-adb5871aa829",
   "metadata": {},
   "outputs": [],
   "source": [
    "from modules.optimal_batch import create_batch, calculate_variance, weights_variancies"
   ]
  },
  {
   "cell_type": "code",
   "execution_count": 211,
   "id": "2801f8c4-e1b4-444b-b40a-330bb5cdd805",
   "metadata": {},
   "outputs": [],
   "source": [
    "NUM_EPOCHS = 200"
   ]
  },
  {
   "cell_type": "code",
   "execution_count": 212,
   "id": "0341961f-fb2a-4e31-a168-855482b475b5",
   "metadata": {},
   "outputs": [],
   "source": [
    "name = 'base_gan__base_training__1'\n",
    "save_path = '/Users/serafim/Desktop/Job/projects/science/hse/GAN-Estimation-Uncertainty/uncertainty/tests/'"
   ]
  },
  {
   "cell_type": "code",
   "execution_count": 213,
   "id": "0783c46b-f662-48f0-b4e3-05aa226a356b",
   "metadata": {},
   "outputs": [
    {
     "data": {
      "text/plain": [
       "'/Users/serafim/Desktop/Job/projects/science/hse/GAN-Estimation-Uncertainty/uncertainty/tests/'"
      ]
     },
     "execution_count": 213,
     "metadata": {},
     "output_type": "execute_result"
    }
   ],
   "source": [
    "save_path"
   ]
  },
  {
   "cell_type": "code",
   "execution_count": 234,
   "id": "0debdddc-7e26-4a6c-a3bb-f465e93d02f4",
   "metadata": {},
   "outputs": [
    {
     "name": "stderr",
     "output_type": "stream",
     "text": [
      "  0%|                                                                                                                                                                               | 0/200 [00:00<?, ?it/s]"
     ]
    },
    {
     "name": "stdout",
     "output_type": "stream",
     "text": [
      "tensor([[0.4790],\n",
      "        [0.3807],\n",
      "        [0.3602],\n",
      "        [0.2973],\n",
      "        [0.5429],\n",
      "        [0.6334],\n",
      "        [0.3182],\n",
      "        [0.5296],\n",
      "        [0.5530],\n",
      "        [0.4152],\n",
      "        [0.3282],\n",
      "        [0.5794],\n",
      "        [0.5697],\n",
      "        [0.3710],\n",
      "        [0.5064],\n",
      "        [0.4652],\n",
      "        [0.3210],\n",
      "        [0.4769],\n",
      "        [0.6002],\n",
      "        [0.1759],\n",
      "        [0.3129],\n",
      "        [0.4553],\n",
      "        [0.5287],\n",
      "        [0.5803],\n",
      "        [0.2724],\n",
      "        [0.6007],\n",
      "        [0.4592],\n",
      "        [0.5932],\n",
      "        [0.2350],\n",
      "        [0.5691],\n",
      "        [0.4299],\n",
      "        [0.3324]], grad_fn=<SigmoidBackward0>) tensor([[1.],\n",
      "        [1.],\n",
      "        [1.],\n",
      "        [1.],\n",
      "        [1.],\n",
      "        [1.],\n",
      "        [1.],\n",
      "        [1.],\n",
      "        [1.],\n",
      "        [1.],\n",
      "        [1.],\n",
      "        [1.],\n",
      "        [1.],\n",
      "        [1.],\n",
      "        [1.],\n",
      "        [1.],\n",
      "        [1.],\n",
      "        [1.],\n",
      "        [1.],\n",
      "        [1.],\n",
      "        [1.],\n",
      "        [1.],\n",
      "        [1.],\n",
      "        [1.],\n",
      "        [1.],\n",
      "        [1.],\n",
      "        [1.],\n",
      "        [1.],\n",
      "        [1.],\n",
      "        [1.],\n",
      "        [1.],\n",
      "        [1.]])\n",
      "tensor(0.8512, grad_fn=<BinaryCrossEntropyBackward0>) torch.Size([])\n",
      "torch.Size([32, 1]) torch.Size([32, 1])\n",
      "tensor([0.4790], grad_fn=<SelectBackward0>) torch.Size([1])\n"
     ]
    },
    {
     "name": "stderr",
     "output_type": "stream",
     "text": [
      "\n"
     ]
    },
    {
     "ename": "ZeroDivisionError",
     "evalue": "division by zero",
     "output_type": "error",
     "traceback": [
      "\u001b[0;31m---------------------------------------------------------------------------\u001b[0m",
      "\u001b[0;31mZeroDivisionError\u001b[0m                         Traceback (most recent call last)",
      "\u001b[0;32m/var/folders/zw/rd1vhmbn34vgll3fpyhd2dwh0000gn/T/ipykernel_44765/2194160077.py\u001b[0m in \u001b[0;36m<module>\u001b[0;34m\u001b[0m\n\u001b[0;32m----> 1\u001b[0;31m D_losses_final, G_losses_final, Variances = train(\n\u001b[0m\u001b[1;32m      2\u001b[0m     \u001b[0mnum_epochs\u001b[0m \u001b[0;34m=\u001b[0m \u001b[0mNUM_EPOCHS\u001b[0m\u001b[0;34m,\u001b[0m\u001b[0;34m\u001b[0m\u001b[0;34m\u001b[0m\u001b[0m\n\u001b[1;32m      3\u001b[0m     \u001b[0mdata_loader\u001b[0m \u001b[0;34m=\u001b[0m \u001b[0mtrain_loader\u001b[0m\u001b[0;34m,\u001b[0m\u001b[0;34m\u001b[0m\u001b[0;34m\u001b[0m\u001b[0m\n\u001b[1;32m      4\u001b[0m     \u001b[0mD\u001b[0m \u001b[0;34m=\u001b[0m \u001b[0mD\u001b[0m\u001b[0;34m,\u001b[0m\u001b[0;34m\u001b[0m\u001b[0;34m\u001b[0m\u001b[0m\n\u001b[1;32m      5\u001b[0m     \u001b[0mG\u001b[0m \u001b[0;34m=\u001b[0m \u001b[0mG\u001b[0m\u001b[0;34m,\u001b[0m\u001b[0;34m\u001b[0m\u001b[0;34m\u001b[0m\u001b[0m\n",
      "\u001b[0;32m~/Desktop/Job/projects/science/hse/GAN-Estimation-Uncertainty/uncertainty/modules/base_GAN.py\u001b[0m in \u001b[0;36mtrain\u001b[0;34m(num_epochs, data_loader, D, G, D_optimizer, G_optimizer, criterion, device, plot_process, save_path, name)\u001b[0m\n\u001b[1;32m    187\u001b[0m \u001b[0;34m\u001b[0m\u001b[0m\n\u001b[1;32m    188\u001b[0m     \u001b[0;32mfor\u001b[0m \u001b[0mepoch\u001b[0m \u001b[0;32min\u001b[0m \u001b[0mtqdm\u001b[0m\u001b[0;34m(\u001b[0m\u001b[0mrange\u001b[0m\u001b[0;34m(\u001b[0m\u001b[0mnum_epochs\u001b[0m\u001b[0;34m)\u001b[0m\u001b[0;34m)\u001b[0m\u001b[0;34m:\u001b[0m\u001b[0;34m\u001b[0m\u001b[0;34m\u001b[0m\u001b[0m\n\u001b[0;32m--> 189\u001b[0;31m         D_loss, G_loss = train_epoch(data_loader,\n\u001b[0m\u001b[1;32m    190\u001b[0m                     \u001b[0mD\u001b[0m\u001b[0;34m,\u001b[0m \u001b[0mG\u001b[0m\u001b[0;34m,\u001b[0m\u001b[0;34m\u001b[0m\u001b[0;34m\u001b[0m\u001b[0m\n\u001b[1;32m    191\u001b[0m                     \u001b[0mD_optimizer\u001b[0m\u001b[0;34m,\u001b[0m \u001b[0mG_optimizer\u001b[0m\u001b[0;34m,\u001b[0m\u001b[0;34m\u001b[0m\u001b[0;34m\u001b[0m\u001b[0m\n",
      "\u001b[0;32m~/Desktop/Job/projects/science/hse/GAN-Estimation-Uncertainty/uncertainty/modules/base_GAN.py\u001b[0m in \u001b[0;36mtrain_epoch\u001b[0;34m(data_loader, D, G, D_optimizer, G_optimizer, criterion, device)\u001b[0m\n\u001b[1;32m    140\u001b[0m \u001b[0;34m\u001b[0m\u001b[0m\n\u001b[1;32m    141\u001b[0m         \u001b[0;31m# Train generator\u001b[0m\u001b[0;34m\u001b[0m\u001b[0;34m\u001b[0m\u001b[0;34m\u001b[0m\u001b[0m\n\u001b[0;32m--> 142\u001b[0;31m         \u001b[0mG_loss\u001b[0m \u001b[0;34m=\u001b[0m \u001b[0mG_train\u001b[0m\u001b[0;34m(\u001b[0m\u001b[0mx\u001b[0m\u001b[0;34m,\u001b[0m \u001b[0mD\u001b[0m\u001b[0;34m,\u001b[0m \u001b[0mG\u001b[0m\u001b[0;34m,\u001b[0m \u001b[0mG_optimizer\u001b[0m\u001b[0;34m,\u001b[0m \u001b[0mcriterion\u001b[0m\u001b[0;34m,\u001b[0m \u001b[0mdevice\u001b[0m\u001b[0;34m)\u001b[0m\u001b[0;34m\u001b[0m\u001b[0;34m\u001b[0m\u001b[0m\n\u001b[0m\u001b[1;32m    143\u001b[0m \u001b[0;34m\u001b[0m\u001b[0m\n\u001b[1;32m    144\u001b[0m         \u001b[0;31m# Update total losses\u001b[0m\u001b[0;34m\u001b[0m\u001b[0;34m\u001b[0m\u001b[0;34m\u001b[0m\u001b[0m\n",
      "\u001b[0;32m~/Desktop/Job/projects/science/hse/GAN-Estimation-Uncertainty/uncertainty/modules/base_GAN.py\u001b[0m in \u001b[0;36mG_train\u001b[0;34m(x, D, G, G_optimizer, criterion, device, space_dimension, noise_dim)\u001b[0m\n\u001b[1;32m    117\u001b[0m     \u001b[0mprint\u001b[0m\u001b[0;34m(\u001b[0m\u001b[0mD_output\u001b[0m\u001b[0;34m.\u001b[0m\u001b[0msize\u001b[0m\u001b[0;34m(\u001b[0m\u001b[0;34m)\u001b[0m\u001b[0;34m,\u001b[0m \u001b[0my\u001b[0m\u001b[0;34m.\u001b[0m\u001b[0msize\u001b[0m\u001b[0;34m(\u001b[0m\u001b[0;34m)\u001b[0m\u001b[0;34m)\u001b[0m\u001b[0;34m\u001b[0m\u001b[0;34m\u001b[0m\u001b[0m\n\u001b[1;32m    118\u001b[0m     \u001b[0mprint\u001b[0m\u001b[0;34m(\u001b[0m\u001b[0mD_output\u001b[0m\u001b[0;34m[\u001b[0m\u001b[0;36m0\u001b[0m\u001b[0;34m]\u001b[0m\u001b[0;34m,\u001b[0m \u001b[0mD_output\u001b[0m\u001b[0;34m[\u001b[0m\u001b[0;36m0\u001b[0m\u001b[0;34m]\u001b[0m\u001b[0;34m.\u001b[0m\u001b[0msize\u001b[0m\u001b[0;34m(\u001b[0m\u001b[0;34m)\u001b[0m\u001b[0;34m)\u001b[0m\u001b[0;34m\u001b[0m\u001b[0;34m\u001b[0m\u001b[0m\n\u001b[0;32m--> 119\u001b[0;31m     \u001b[0mprint\u001b[0m\u001b[0;34m(\u001b[0m\u001b[0;36m0\u001b[0m\u001b[0;34m/\u001b[0m\u001b[0;36m0\u001b[0m\u001b[0;34m)\u001b[0m\u001b[0;34m\u001b[0m\u001b[0;34m\u001b[0m\u001b[0m\n\u001b[0m\u001b[1;32m    120\u001b[0m \u001b[0;34m\u001b[0m\u001b[0m\n\u001b[1;32m    121\u001b[0m     \u001b[0;31m# gradient backprop & optimize ONLY G's parameters\u001b[0m\u001b[0;34m\u001b[0m\u001b[0;34m\u001b[0m\u001b[0;34m\u001b[0m\u001b[0m\n",
      "\u001b[0;31mZeroDivisionError\u001b[0m: division by zero"
     ]
    }
   ],
   "source": [
    "D_losses_final, G_losses_final, Variances = train(\n",
    "    num_epochs = NUM_EPOCHS,\n",
    "    data_loader = train_loader,\n",
    "    D = D,\n",
    "    G = G,\n",
    "    D_optimizer = D_optimizer,\n",
    "    G_optimizer = G_optimizer, \n",
    "    criterion = loss_function,\n",
    "    device = device,\n",
    "    # plot_process = True,\n",
    "    # save_path = save_path,\n",
    "    name = f'{name}__process'\n",
    "    \n",
    ")\n",
    "plot_sine(G, save_path = save_path, name = name)\n"
   ]
  },
  {
   "cell_type": "code",
   "execution_count": 215,
   "id": "30dc891f-704e-4abb-bfd8-2d43ad45bc67",
   "metadata": {},
   "outputs": [],
   "source": [
    "# D_losses_final = []\n",
    "# G_losses_final = []\n",
    "# Variances = []\n",
    "# # NUM_EPOCHS = NUM_EPOCHS//10\n",
    "# for epoch in tqdm(range(1, NUM_EPOCHS+1)):           \n",
    "#     D_losses, G_losses = [], []\n",
    "#     for batch_idx in range(batches_per_epoch):\n",
    "#         batch, mean_var = create_batch(\n",
    "#                                 Generator = G,\n",
    "#                                 batch_size = BATCH_SIZE,\n",
    "#                                 get_variance = True,\n",
    "#                                 repeat = 10,\n",
    "#                                 num_samples = 128\n",
    "#                             )\n",
    "#         x, info = batch#x is y coordiante, we predict it, info is x corrdinate, its condition\n",
    "#         D_losses.append(D_train(x, info))\n",
    "#         G_losses.append(G_train(x))\n",
    "#         Variances.append(mean_var)\n",
    "#         # print(len(batch), var, x.size(), info.size())\n",
    "#         # print(var)\n",
    "#         # break\n",
    "    \n",
    "#     # for batch_idx, (x, info) in enumerate(train_loader):\n",
    "#     #     D_losses.append(D_train(x, info))\n",
    "#     #     G_losses.append(G_train(x))\n",
    "        \n",
    "#     D_losses_final.append(torch.mean(torch.FloatTensor(D_losses)))\n",
    "#     G_losses_final.append(torch.mean(torch.FloatTensor(G_losses)))\n",
    "    \n",
    "#     if epoch % 20 == 0:\n",
    "#         print('[%d/%d]: loss_d: %.3f, loss_g: %.3f' % (\n",
    "#                 (epoch),\n",
    "#                 NUM_EPOCHS,\n",
    "#                 torch.mean(torch.FloatTensor(D_losses)),\n",
    "#                 torch.mean(torch.FloatTensor(G_losses))\n",
    "#                 )\n",
    "#              )"
   ]
  },
  {
   "cell_type": "code",
   "execution_count": 264,
   "id": "b32b3a4c-cad0-4018-a926-83671ce4b8cd",
   "metadata": {},
   "outputs": [],
   "source": [
    "q1, q2 = weights_variancies(G)\n",
    "# q\n"
   ]
  },
  {
   "cell_type": "code",
   "execution_count": 262,
   "id": "d581e033-1e17-4745-b66d-6708fd2f6870",
   "metadata": {},
   "outputs": [],
   "source": [
    "# q"
   ]
  },
  {
   "cell_type": "code",
   "execution_count": 273,
   "id": "c68f725e-a195-4170-be30-11fb4e6a6d7b",
   "metadata": {},
   "outputs": [
    {
     "data": {
      "text/plain": [
       "({1: 0.012550444382956539,\n",
       "  2: 0.014144735186744915,\n",
       "  3: 0.013957432820264497,\n",
       "  4: 0.023921310456276823,\n",
       "  5: 0.06751738075452655,\n",
       "  6: 0.01862073573814202,\n",
       "  7: 0.03204024306423892,\n",
       "  8: 0.19311412608302433,\n",
       "  9: 0.08097636984936264,\n",
       "  10: 0.5431572216644627},\n",
       " {1: 0.0,\n",
       "  2: 0.6283185307179586,\n",
       "  3: 1.2566370614359172,\n",
       "  4: 1.8849555921538759,\n",
       "  5: 2.5132741228718345,\n",
       "  6: 3.141592653589793,\n",
       "  7: 3.7699111843077517,\n",
       "  8: 4.39822971502571,\n",
       "  9: 5.026548245743669,\n",
       "  10: 5.654866776461628})"
      ]
     },
     "execution_count": 273,
     "metadata": {},
     "output_type": "execute_result"
    }
   ],
   "source": [
    "q"
   ]
  },
  {
   "cell_type": "code",
   "execution_count": null,
   "id": "e2a458b8-00d0-4aad-b119-cbd76073ad35",
   "metadata": {},
   "outputs": [],
   "source": [
    "import torch\n",
    "import torch.nn.functional as F\n",
    "\n",
    "def weighted_categorical_crossentropy(weights):\n",
    "    \"\"\"\n",
    "    A weighted version of categorical crossentropy loss for PyTorch.\n",
    "\n",
    "    weights: torch tensor of shape (C,) where C is the number of classes\n",
    "             torch.tensor([0.5, 2, 10]) # Class one at 0.5, class 2 twice the normal weights, class 3 10x.\n",
    "    \"\"\"\n",
    "    weights = torch.tensor(weights, requires_grad=False)\n",
    "\n",
    "    def loss(y_true, y_pred, from_logits=False):\n",
    "        if from_logits:\n",
    "            y_pred = F.softmax(y_pred, dim=-1)\n",
    "\n",
    "        # clip to prevent NaN's and Inf's\n",
    "        y_pred = torch.clamp(y_pred, 1e-7, 1 - 1e-7)\n",
    "\n",
    "        # calculate loss\n",
    "        loss = y_true * torch.log(y_pred) * weights\n",
    "        loss = -torch.sum(loss, -1)\n",
    "        return loss\n",
    "\n",
    "    return loss\n",
    "\n",
    "# Example usage:\n",
    "# weights = [0.5, 2, 10]\n",
    "# loss_function = weighted_categorical_crossentropy(weights)\n",
    "# loss_value = loss_function(y_true, y_pred)\n"
   ]
  },
  {
   "cell_type": "code",
   "execution_count": 301,
   "id": "5bb34561-9292-4a1f-8385-d52a4867f1d4",
   "metadata": {},
   "outputs": [
    {
     "data": {
      "text/plain": [
       "{1: 0.009937274450458401,\n",
       " 2: 0.010061386916807866,\n",
       " 3: 0.014705181638930415,\n",
       " 4: 0.04883130833017653,\n",
       " 5: 0.08768815862293726,\n",
       " 6: 0.031174961779252098,\n",
       " 7: 0.06065066189606768,\n",
       " 8: 0.15052544915280178,\n",
       " 9: 0.08279745939816543,\n",
       " 10: 0.5036281578144026}"
      ]
     },
     "execution_count": 301,
     "metadata": {},
     "output_type": "execute_result"
    }
   ],
   "source": [
    "q1"
   ]
  },
  {
   "cell_type": "code",
   "execution_count": 513,
   "id": "5d11af3f-67ea-43b8-a674-1fe51d6d3906",
   "metadata": {},
   "outputs": [],
   "source": [
    "def wieghts4batch(weights:dict, conditional_info, bins_values:dict):\n",
    "    \n",
    "    \"\"\"\n",
    "    Assign weights for every point based on conditional information and bins.\n",
    "\n",
    "    Args:\n",
    "    - weights (dict): Weights for every interval.\n",
    "    - conditional_info (torch.Tensor): Tensor with conditional information (coordinate x of sine).\n",
    "    - bins_values (dict): Bins values.\n",
    "\n",
    "    Returns:\n",
    "    - torch.tensor: Weights for every point that we have in condition.\n",
    "    \"\"\"\n",
    "    weights_bins = []\n",
    "    number_bins = len(bins_values.values())\n",
    "    sorted_info, indices = torch.sort(conditional_info, axis = 0)\n",
    "    current_bin_id = 1\n",
    "\n",
    "    \n",
    "    \n",
    "    for i in range(conditional_info.size(0)):\n",
    "        if current_bin_id == number_bins:\n",
    "            weights_bins.append(weights[current_bin_id])\n",
    "            \n",
    "        else:\n",
    "            if bins_values[current_bin_id] < sorted_info[i].item() < bins_values[current_bin_id + 1]:\n",
    "                weights_bins.append(weights[current_bin_id])\n",
    "                # print(weights_bins)\n",
    "            else:\n",
    "                while current_bin_id <= number_bins - 1 and not bins_values[current_bin_id] < sorted_info[i].item() < bins_values[current_bin_id + 1]:\n",
    "                    current_bin_id += 1\n",
    "                    weights_bins.append(weights[current_bin_id])\n",
    "                    \n",
    "    weights_bins = torch.tensor([torch.tensor(el) for el in weights_bins]) \n",
    "    \n",
    "    return weights_bins[indices].view(-1)\n",
    "                \n",
    "            \n",
    "            \n",
    "            \n",
    "\n",
    "        \n",
    "        \n",
    "    \n",
    "    "
   ]
  },
  {
   "cell_type": "code",
   "execution_count": 514,
   "id": "93910aef-ee42-432f-8152-2fa46f5e56a3",
   "metadata": {},
   "outputs": [],
   "source": [
    "conditional_info_0 = 2 * math.pi * torch.rand(32).view(-1, 1).to(device)\n",
    "# conditional_info_0"
   ]
  },
  {
   "cell_type": "code",
   "execution_count": 515,
   "id": "2b7e5669-faa4-45a0-96e5-ea58021002df",
   "metadata": {},
   "outputs": [
    {
     "data": {
      "text/plain": [
       "{1: 0.009937274450458401,\n",
       " 2: 0.010061386916807866,\n",
       " 3: 0.014705181638930415,\n",
       " 4: 0.04883130833017653,\n",
       " 5: 0.08768815862293726,\n",
       " 6: 0.031174961779252098,\n",
       " 7: 0.06065066189606768,\n",
       " 8: 0.15052544915280178,\n",
       " 9: 0.08279745939816543,\n",
       " 10: 0.5036281578144026}"
      ]
     },
     "execution_count": 515,
     "metadata": {},
     "output_type": "execute_result"
    }
   ],
   "source": [
    "q1\n",
    "# conditional_info_0"
   ]
  },
  {
   "cell_type": "code",
   "execution_count": 516,
   "id": "23dbbdde-edd3-4e45-bc4d-a57974cc2401",
   "metadata": {},
   "outputs": [
    {
     "data": {
      "text/plain": [
       "tensor([0.0877, 0.1505, 0.0828, 0.1505, 0.0101, 0.5036, 0.1505, 0.1505, 0.0147,\n",
       "        0.5036, 0.0147, 0.0607, 0.0488, 0.0828, 0.1505, 0.0488, 0.0828, 0.5036,\n",
       "        0.0147, 0.0607, 0.0101, 0.0828, 0.0312, 0.0488, 0.0488, 0.5036, 0.0099,\n",
       "        0.0877, 0.0147, 0.0877, 0.0101, 0.1505], dtype=torch.float64)"
      ]
     },
     "execution_count": 516,
     "metadata": {},
     "output_type": "execute_result"
    }
   ],
   "source": [
    "e = wieghts4batch(q1, conditional_info_0, q2)\n",
    "# e[1]\n",
    "e"
   ]
  },
  {
   "cell_type": "code",
   "execution_count": 517,
   "id": "c4cb6b0e-c994-4052-a8a2-674ec6208ce8",
   "metadata": {},
   "outputs": [],
   "source": [
    "# e[1][e[0]]\n",
    "# e[1]\n",
    "# [e[0]]"
   ]
  },
  {
   "cell_type": "code",
   "execution_count": 443,
   "id": "80705b95-0447-4b3e-8f7b-0d3f6baba589",
   "metadata": {},
   "outputs": [],
   "source": [
    "# indices\n",
    "# bi"
   ]
  },
  {
   "cell_type": "code",
   "execution_count": 504,
   "id": "6cd9d0dd-7f40-4f2d-bf94-56def118960c",
   "metadata": {},
   "outputs": [],
   "source": [
    "r = torch.log(torch.tensor([torch.tensor(i) for i in range(1, 33)]))"
   ]
  },
  {
   "cell_type": "code",
   "execution_count": 502,
   "id": "ae0f4964-0627-4b94-9e09-6490e432e69d",
   "metadata": {},
   "outputs": [],
   "source": [
    "sorted, indices = torch.sort(fi, axis = 0)"
   ]
  },
  {
   "cell_type": "code",
   "execution_count": 509,
   "id": "16709e09-c7e1-44e5-aa1f-5e3fe81614ef",
   "metadata": {},
   "outputs": [
    {
     "data": {
      "text/plain": [
       "(torch.Size([32, 1]), torch.Size([32]))"
      ]
     },
     "execution_count": 509,
     "metadata": {},
     "output_type": "execute_result"
    }
   ],
   "source": [
    "e.size(), r.size()"
   ]
  },
  {
   "cell_type": "code",
   "execution_count": 511,
   "id": "c5f75c87-1d2c-4d4b-95a8-22f2a511e8fb",
   "metadata": {},
   "outputs": [
    {
     "data": {
      "text/plain": [
       "tensor([0.0147, 0.0488, 0.0877, 0.0099, 0.1505, 0.0607, 0.0312, 0.0488, 0.0099,\n",
       "        0.0607, 0.0099, 0.0877, 0.5036, 0.0877, 0.0147, 0.0147, 0.1505, 0.5036,\n",
       "        0.1505, 0.0312, 0.0877, 0.0607, 0.0877, 0.0312, 0.0101, 0.0877, 0.0147,\n",
       "        0.0147, 0.0101, 0.0488, 0.0828, 0.0877], dtype=torch.float64)"
      ]
     },
     "execution_count": 511,
     "metadata": {},
     "output_type": "execute_result"
    }
   ],
   "source": [
    "# r\n",
    "e.view(-1)"
   ]
  },
  {
   "cell_type": "code",
   "execution_count": 518,
   "id": "da2a3ff2-9e99-4f66-abbd-9263cd4fb259",
   "metadata": {},
   "outputs": [
    {
     "data": {
      "text/plain": [
       "tensor([0.0000, 0.1043, 0.0910, 0.2087, 0.0162, 0.9024, 0.2929, 0.3130, 0.0323,\n",
       "        1.1596, 0.0353, 0.1507, 0.1252, 0.2185, 0.4076, 0.1354, 0.2346, 1.4557,\n",
       "        0.0433, 0.1817, 0.0306, 0.2559, 0.0977, 0.1552, 0.1572, 1.6409, 0.0328,\n",
       "        0.2922, 0.0495, 0.2982, 0.0346, 0.5217], dtype=torch.float64)"
      ]
     },
     "execution_count": 518,
     "metadata": {},
     "output_type": "execute_result"
    }
   ],
   "source": [
    "r * e\n",
    "# y_true * torch.log(y_pred) * weights"
   ]
  },
  {
   "cell_type": "code",
   "execution_count": 296,
   "id": "5471a64c-34ad-400f-b8fd-c3464cf18bd0",
   "metadata": {},
   "outputs": [
    {
     "data": {
      "text/plain": [
       "(tensor([[0.0456],\n",
       "         [0.4176],\n",
       "         [0.4313],\n",
       "         [0.8211],\n",
       "         [0.8386],\n",
       "         [1.1532],\n",
       "         [1.1533],\n",
       "         [1.3241],\n",
       "         [1.4270],\n",
       "         [1.4963],\n",
       "         [1.6205],\n",
       "         [1.9789],\n",
       "         [2.0060],\n",
       "         [2.0587],\n",
       "         [2.7573],\n",
       "         [3.2483],\n",
       "         [3.2868],\n",
       "         [3.3186],\n",
       "         [3.5829],\n",
       "         [3.9307],\n",
       "         [3.9659],\n",
       "         [3.9744],\n",
       "         [4.1397],\n",
       "         [4.3980],\n",
       "         [4.5349],\n",
       "         [4.8055],\n",
       "         [5.3615],\n",
       "         [5.6261],\n",
       "         [5.7291],\n",
       "         [5.9323],\n",
       "         [6.0134],\n",
       "         [6.2633]]),\n",
       " tensor([[26],\n",
       "         [ 6],\n",
       "         [ 1],\n",
       "         [13],\n",
       "         [12],\n",
       "         [11],\n",
       "         [19],\n",
       "         [23],\n",
       "         [27],\n",
       "         [ 2],\n",
       "         [ 7],\n",
       "         [ 9],\n",
       "         [20],\n",
       "         [17],\n",
       "         [28],\n",
       "         [30],\n",
       "         [29],\n",
       "         [14],\n",
       "         [ 3],\n",
       "         [ 8],\n",
       "         [18],\n",
       "         [15],\n",
       "         [21],\n",
       "         [ 0],\n",
       "         [ 5],\n",
       "         [22],\n",
       "         [ 4],\n",
       "         [25],\n",
       "         [24],\n",
       "         [10],\n",
       "         [31],\n",
       "         [16]]))"
      ]
     },
     "execution_count": 296,
     "metadata": {},
     "output_type": "execute_result"
    }
   ],
   "source": [
    "sorted, indices"
   ]
  },
  {
   "cell_type": "code",
   "execution_count": 267,
   "id": "cc1338c7-a88c-453e-8e03-086e5c70fc75",
   "metadata": {},
   "outputs": [],
   "source": [
    "fi = 2 * math.pi * torch.rand(32).view(-1, 1).to(device)"
   ]
  },
  {
   "cell_type": "code",
   "execution_count": 287,
   "id": "555a14d3-715a-4f53-9a1e-428e86c81f80",
   "metadata": {},
   "outputs": [
    {
     "name": "stdout",
     "output_type": "stream",
     "text": [
      "tensor([4.3980])\n",
      "tensor([0.4313])\n",
      "tensor([1.4963])\n",
      "tensor([3.5829])\n",
      "tensor([5.3615])\n",
      "tensor([4.5349])\n",
      "tensor([0.4176])\n",
      "tensor([1.6205])\n",
      "tensor([3.9307])\n",
      "tensor([1.9789])\n",
      "tensor([5.9323])\n",
      "tensor([1.1532])\n",
      "tensor([0.8386])\n",
      "tensor([0.8211])\n",
      "tensor([3.3186])\n",
      "tensor([3.9744])\n",
      "tensor([6.2633])\n",
      "tensor([2.0587])\n",
      "tensor([3.9659])\n",
      "tensor([1.1533])\n",
      "tensor([2.0060])\n",
      "tensor([4.1397])\n",
      "tensor([4.8055])\n",
      "tensor([1.3241])\n",
      "tensor([5.7291])\n",
      "tensor([5.6261])\n",
      "tensor([0.0456])\n",
      "tensor([1.4270])\n",
      "tensor([2.7573])\n",
      "tensor([3.2868])\n",
      "tensor([3.2483])\n",
      "tensor([6.0134])\n"
     ]
    }
   ],
   "source": [
    "for el in fi:\n",
    "    print(el)"
   ]
  },
  {
   "cell_type": "code",
   "execution_count": null,
   "id": "22e35020-f564-4037-8ab5-abdbf4ce1ef0",
   "metadata": {},
   "outputs": [],
   "source": []
  },
  {
   "cell_type": "code",
   "execution_count": 286,
   "id": "f216cf6b-003c-4e93-bf53-ea3d379723c0",
   "metadata": {},
   "outputs": [],
   "source": [
    "# fi"
   ]
  },
  {
   "cell_type": "code",
   "execution_count": 285,
   "id": "37b51b63-57a7-40e0-b61e-5e37f97a9ce4",
   "metadata": {},
   "outputs": [
    {
     "data": {
      "text/plain": [
       "tensor([[26],\n",
       "        [ 6],\n",
       "        [ 1],\n",
       "        [13],\n",
       "        [12],\n",
       "        [11],\n",
       "        [19],\n",
       "        [23],\n",
       "        [27],\n",
       "        [ 2],\n",
       "        [ 7],\n",
       "        [ 9],\n",
       "        [20],\n",
       "        [17],\n",
       "        [28],\n",
       "        [30],\n",
       "        [29],\n",
       "        [14],\n",
       "        [ 3],\n",
       "        [ 8],\n",
       "        [18],\n",
       "        [15],\n",
       "        [21],\n",
       "        [ 0],\n",
       "        [ 5],\n",
       "        [22],\n",
       "        [ 4],\n",
       "        [25],\n",
       "        [24],\n",
       "        [10],\n",
       "        [31],\n",
       "        [16]])"
      ]
     },
     "execution_count": 285,
     "metadata": {},
     "output_type": "execute_result"
    }
   ],
   "source": [
    "np.argsort(fi, axis = 0)"
   ]
  },
  {
   "cell_type": "code",
   "execution_count": 276,
   "id": "88a23046-f005-4762-956d-fa41ba23e451",
   "metadata": {},
   "outputs": [
    {
     "ename": "SyntaxError",
     "evalue": "unexpected EOF while parsing (2363432224.py, line 7)",
     "output_type": "error",
     "traceback": [
      "\u001b[0;36m  File \u001b[0;32m\"/var/folders/zw/rd1vhmbn34vgll3fpyhd2dwh0000gn/T/ipykernel_44765/2363432224.py\"\u001b[0;36m, line \u001b[0;32m7\u001b[0m\n\u001b[0;31m    \u001b[0m\n\u001b[0m    ^\u001b[0m\n\u001b[0;31mSyntaxError\u001b[0m\u001b[0;31m:\u001b[0m unexpected EOF while parsing\n"
     ]
    }
   ],
   "source": [
    "# fi\n",
    "\n",
    "weights_batch = []\n",
    "for el in fi:\n",
    "    \n",
    "    \n",
    "    "
   ]
  },
  {
   "cell_type": "code",
   "execution_count": 265,
   "id": "3ad1ec81-e955-46a8-9c1a-26089d37cde2",
   "metadata": {},
   "outputs": [
    {
     "data": {
      "text/plain": [
       "{1: 0.0,\n",
       " 2: 0.6283185307179586,\n",
       " 3: 1.2566370614359172,\n",
       " 4: 1.8849555921538759,\n",
       " 5: 2.5132741228718345,\n",
       " 6: 3.141592653589793,\n",
       " 7: 3.7699111843077517,\n",
       " 8: 4.39822971502571,\n",
       " 9: 5.026548245743669,\n",
       " 10: 5.654866776461628}"
      ]
     },
     "execution_count": 265,
     "metadata": {},
     "output_type": "execute_result"
    }
   ],
   "source": [
    "q2"
   ]
  },
  {
   "cell_type": "code",
   "execution_count": 241,
   "id": "5a30310b-327d-45d4-9ee8-acf0e813551f",
   "metadata": {},
   "outputs": [
    {
     "data": {
      "text/plain": [
       "{1: 0.054925045915632444,\n",
       " 2: 0.01244914120573787,\n",
       " 3: 0.0655509472598308,\n",
       " 4: 0.09765216973587751,\n",
       " 5: 0.09010051824770855,\n",
       " 6: 0.11285821530322432,\n",
       " 7: 0.08806499186442869,\n",
       " 8: 0.028769156824976723,\n",
       " 9: 0.2012137062217143,\n",
       " 10: 0.24841610742086886}"
      ]
     },
     "execution_count": 241,
     "metadata": {},
     "output_type": "execute_result"
    }
   ],
   "source": [
    "q"
   ]
  },
  {
   "cell_type": "code",
   "execution_count": null,
   "id": "26861118-dad2-437b-87e1-d8187dd4978b",
   "metadata": {},
   "outputs": [],
   "source": [
    "def get_weights_batch():\n",
    "    "
   ]
  },
  {
   "cell_type": "code",
   "execution_count": 239,
   "id": "13c12d5f-c06c-4e75-91c2-683b43356da7",
   "metadata": {},
   "outputs": [
    {
     "data": {
      "text/plain": [
       "tensor([  -inf, 0.0000, 0.6931, 1.0986, 1.3863])"
      ]
     },
     "execution_count": 239,
     "metadata": {},
     "output_type": "execute_result"
    }
   ],
   "source": [
    "r"
   ]
  },
  {
   "cell_type": "code",
   "execution_count": null,
   "id": "f387d67a-03ff-4034-b3c3-fe49292e4457",
   "metadata": {},
   "outputs": [],
   "source": [
    "weights = [0.1, 0.2]\n",
    "\n"
   ]
  },
  {
   "cell_type": "code",
   "execution_count": 232,
   "id": "23e5f29f-5e4c-435a-9f4f-95554cb07b18",
   "metadata": {},
   "outputs": [
    {
     "data": {
      "text/plain": [
       "tensor([0, 1, 2, 3, 4])"
      ]
     },
     "execution_count": 232,
     "metadata": {},
     "output_type": "execute_result"
    }
   ],
   "source": [
    "# torch.tensor([1, 2, 3])\n",
    "torch.tensor([torch.tensor(i) for i in range(5)])\n"
   ]
  },
  {
   "cell_type": "code",
   "execution_count": 220,
   "id": "06af3b22-b48a-4919-bad4-cd6f050d011b",
   "metadata": {},
   "outputs": [
    {
     "data": {
      "text/plain": [
       "3"
      ]
     },
     "execution_count": 220,
     "metadata": {},
     "output_type": "execute_result"
    }
   ],
   "source": [
    "int(3.9)"
   ]
  },
  {
   "cell_type": "code",
   "execution_count": 216,
   "id": "06052d1e-fe5e-42c6-8327-bd1ad24677a2",
   "metadata": {},
   "outputs": [
    {
     "data": {
      "text/plain": [
       "254.37809399896972"
      ]
     },
     "execution_count": 216,
     "metadata": {},
     "output_type": "execute_result"
    }
   ],
   "source": [
    "# 0.24841610742086886 * 1024"
   ]
  },
  {
   "cell_type": "code",
   "execution_count": 186,
   "id": "a1283990-6c37-4d61-8dc4-e46fe78d66d5",
   "metadata": {},
   "outputs": [
    {
     "data": {
      "image/png": "[encoded data removed]",
      "text/plain": [
       "<Figure size 864x432 with 2 Axes>"
      ]
     },
     "metadata": {
      "needs_background": "light"
     },
     "output_type": "display_data"
    }
   ],
   "source": [
    "plot_sine(G, save_path = '/Users/serafim/Desktop/Job/projects/science/hse/GAN-Estimation-Uncertainty/uncertainty/tests/', name = 'base_gan__base_training__1')\n"
   ]
  },
  {
   "cell_type": "code",
   "execution_count": 159,
   "id": "d975aa28-ea85-4bfe-a8df-cdfabc4f1595",
   "metadata": {},
   "outputs": [
    {
     "data": {
      "text/plain": [
       "'/Users/serafim/Desktop/Job/projects/science/hse/GAN-Estimation-Uncertainty/uncertainty'"
      ]
     },
     "execution_count": 159,
     "metadata": {},
     "output_type": "execute_result"
    }
   ],
   "source": [
    "pwd"
   ]
  },
  {
   "cell_type": "code",
   "execution_count": null,
   "id": "f1603945-14c0-43da-9ce0-1326ea8c85f1",
   "metadata": {},
   "outputs": [],
   "source": []
  },
  {
   "cell_type": "markdown",
   "id": "2ad05b18-c5fd-421d-8e9e-520f45cac171",
   "metadata": {},
   "source": [
    "## Test"
   ]
  },
  {
   "cell_type": "code",
   "execution_count": null,
   "id": "90e7a69d-8e57-4852-ae05-ba950601fcc8",
   "metadata": {},
   "outputs": [],
   "source": []
  },
  {
   "cell_type": "code",
   "execution_count": 736,
   "id": "c7e03cbf-9fe5-421c-8761-1728d0fac208",
   "metadata": {},
   "outputs": [],
   "source": [
    "# latent_space_samples = torch.randn(1000, 2)\n",
    "num_samples = 10000\n",
    "latent_space_samples = torch.randn(num_samples, 1)\n",
    "# info = 8 * math.pi * torch.rand(num_samples).view(-1, 1) - 4 * math.pi\n",
    "info = 2 * math.pi * torch.rand(num_samples).view(-1, 1)\n",
    "generated_samples = G(latent_space_samples, info)\n",
    "\n"
   ]
  },
  {
   "cell_type": "code",
   "execution_count": 737,
   "id": "6b701fa7-43e7-4a80-991f-b7b80f6aa276",
   "metadata": {},
   "outputs": [],
   "source": [
    "points_x, res = calculate_variance(G, repeat = 10, num_samples = 10000)"
   ]
  },
  {
   "cell_type": "markdown",
   "id": "7b55449a-f2c8-4c45-92be-c4f5ead9f99e",
   "metadata": {},
   "source": [
    "##### 4\n",
    "> num_samples = 128, lr = 0.0005"
   ]
  },
  {
   "cell_type": "code",
   "execution_count": 691,
   "id": "f58eec43-8832-4302-9216-3d1a12cde4f0",
   "metadata": {},
   "outputs": [
    {
     "data": {
      "text/plain": [
       "[<matplotlib.lines.Line2D at 0x13a0b3340>]"
      ]
     },
     "execution_count": 691,
     "metadata": {},
     "output_type": "execute_result"
    },
    {
     "data": {
      "image/png": "[encoded data removed]",
      "text/plain": [
       "<Figure size 432x288 with 1 Axes>"
      ]
     },
     "metadata": {
      "needs_background": "light"
     },
     "output_type": "display_data"
    }
   ],
   "source": [
    "generated_samples = generated_samples.detach()\n",
    "plt.plot(info, generated_samples, 'ko', markersize = 0.5)"
   ]
  },
  {
   "cell_type": "code",
   "execution_count": 693,
   "id": "4da9784e-b9e7-4df4-9c19-76818bcb7de5",
   "metadata": {},
   "outputs": [
    {
     "data": {
      "image/png": "[encoded data removed]",
      "text/plain": [
       "<Figure size 432x288 with 1 Axes>"
      ]
     },
     "metadata": {
      "needs_background": "light"
     },
     "output_type": "display_data"
    }
   ],
   "source": [
    "# Plot the graph\n",
    "plt.plot(points_x, res, 'ko', markersize = 3, label='Variancies')\n",
    "plt.xlabel('x')\n",
    "plt.ylabel('Model variance')\n",
    "plt.title('Model variancies at Different Points')\n",
    "plt.legend()\n",
    "plt.grid(True)\n",
    "plt.show()"
   ]
  },
  {
   "cell_type": "markdown",
   "id": "75103cda-aa06-4fdf-bdc4-7d305bac861a",
   "metadata": {},
   "source": [
    "##### 3\n",
    "> num_samples = 128"
   ]
  },
  {
   "cell_type": "code",
   "execution_count": 738,
   "id": "30b5950f-205c-435a-8154-790209cdce54",
   "metadata": {},
   "outputs": [
    {
     "data": {
      "text/plain": [
       "[<matplotlib.lines.Line2D at 0x13a51ff10>]"
      ]
     },
     "execution_count": 738,
     "metadata": {},
     "output_type": "execute_result"
    },
    {
     "data": {
      "image/png": "[encoded data removed]",
      "text/plain": [
       "<Figure size 432x288 with 1 Axes>"
      ]
     },
     "metadata": {
      "needs_background": "light"
     },
     "output_type": "display_data"
    }
   ],
   "source": [
    "generated_samples = generated_samples.detach()\n",
    "plt.plot(info, generated_samples, 'ko', markersize = 0.5)"
   ]
  },
  {
   "cell_type": "code",
   "execution_count": 739,
   "id": "3132ddb8-b1dc-4842-ad3c-034d0d668afa",
   "metadata": {},
   "outputs": [
    {
     "data": {
      "image/png": "[encoded data removed]",
      "text/plain": [
       "<Figure size 432x288 with 1 Axes>"
      ]
     },
     "metadata": {
      "needs_background": "light"
     },
     "output_type": "display_data"
    }
   ],
   "source": [
    "# Plot the graph\n",
    "plt.plot(points_x, res, 'ko', markersize = 3, label='Variancies')\n",
    "plt.xlabel('x')\n",
    "plt.ylabel('Model variance')\n",
    "plt.title('Model variancies at Different Points')\n",
    "plt.legend()\n",
    "plt.grid(True)\n",
    "plt.show()"
   ]
  },
  {
   "cell_type": "markdown",
   "id": "467c0887-d72a-4590-a20b-459c289e751f",
   "metadata": {},
   "source": [
    "##### 2"
   ]
  },
  {
   "cell_type": "code",
   "execution_count": 723,
   "id": "6b69d4f9-1b35-40d0-a973-7ebad7172865",
   "metadata": {},
   "outputs": [
    {
     "data": {
      "text/plain": [
       "[<matplotlib.lines.Line2D at 0x13a1dbb80>]"
      ]
     },
     "execution_count": 723,
     "metadata": {},
     "output_type": "execute_result"
    },
    {
     "data": {
      "image/png": "[encoded data removed]",
      "text/plain": [
       "<Figure size 432x288 with 1 Axes>"
      ]
     },
     "metadata": {
      "needs_background": "light"
     },
     "output_type": "display_data"
    }
   ],
   "source": [
    "generated_samples = generated_samples.detach()\n",
    "plt.plot(info, generated_samples, 'ko', markersize = 0.5)"
   ]
  },
  {
   "cell_type": "code",
   "execution_count": 724,
   "id": "4491263d-90d4-4b2b-aeea-c417258766ab",
   "metadata": {},
   "outputs": [
    {
     "data": {
      "image/png": "[encoded data removed]",
      "text/plain": [
       "<Figure size 432x288 with 1 Axes>"
      ]
     },
     "metadata": {
      "needs_background": "light"
     },
     "output_type": "display_data"
    }
   ],
   "source": [
    "# Plot the graph\n",
    "plt.plot(points_x, res, 'ko', markersize = 3, label='Variancies')\n",
    "plt.xlabel('x')\n",
    "plt.ylabel('Model variance')\n",
    "plt.title('Model variancies at Different Points')\n",
    "plt.legend()\n",
    "plt.grid(True)\n",
    "plt.show()"
   ]
  },
  {
   "cell_type": "markdown",
   "id": "1c52a507-4f31-4116-a891-ae073b42619c",
   "metadata": {},
   "source": [
    "##### 1"
   ]
  },
  {
   "cell_type": "code",
   "execution_count": 647,
   "id": "3778d721-24df-4970-be17-0f2bf2940d68",
   "metadata": {},
   "outputs": [
    {
     "data": {
      "text/plain": [
       "[<matplotlib.lines.Line2D at 0x1397a7550>]"
      ]
     },
     "execution_count": 647,
     "metadata": {},
     "output_type": "execute_result"
    },
    {
     "data": {
      "image/png": "[encoded data removed]",
      "text/plain": [
       "<Figure size 432x288 with 1 Axes>"
      ]
     },
     "metadata": {
      "needs_background": "light"
     },
     "output_type": "display_data"
    }
   ],
   "source": [
    "generated_samples = generated_samples.detach()\n",
    "plt.plot(info, generated_samples, 'ko', markersize = 0.5)"
   ]
  },
  {
   "cell_type": "code",
   "execution_count": 652,
   "id": "ddedbcbc-7a5d-43a1-b2ef-8839d25f906b",
   "metadata": {},
   "outputs": [
    {
     "data": {
      "image/png": "[encoded data removed]",
      "text/plain": [
       "<Figure size 432x288 with 1 Axes>"
      ]
     },
     "metadata": {
      "needs_background": "light"
     },
     "output_type": "display_data"
    }
   ],
   "source": [
    "# Plot the graph\n",
    "plt.plot(points_x, res, 'ko', markersize = 3, label='Variancies')\n",
    "plt.xlabel('x')\n",
    "plt.ylabel('Model variance')\n",
    "plt.title('Model variancies at Different Points')\n",
    "plt.legend()\n",
    "plt.grid(True)\n",
    "plt.show()"
   ]
  },
  {
   "cell_type": "markdown",
   "id": "8a702eb0-6663-4022-bc56-c316acf5f54a",
   "metadata": {},
   "source": [
    "#### basic"
   ]
  },
  {
   "cell_type": "code",
   "execution_count": 627,
   "id": "018c9a71-452f-4aaa-a9bd-9f41cc117344",
   "metadata": {},
   "outputs": [
    {
     "data": {
      "text/plain": [
       "[<matplotlib.lines.Line2D at 0x139ad6fa0>]"
      ]
     },
     "execution_count": 627,
     "metadata": {},
     "output_type": "execute_result"
    },
    {
     "data": {
      "image/png": "[encoded data removed]",
      "text/plain": [
       "<Figure size 432x288 with 1 Axes>"
      ]
     },
     "metadata": {
      "needs_background": "light"
     },
     "output_type": "display_data"
    }
   ],
   "source": [
    "generated_samples = generated_samples.detach()\n",
    "plt.plot(info, generated_samples, 'ko', markersize = 0.5)"
   ]
  },
  {
   "cell_type": "code",
   "execution_count": 628,
   "id": "185c9d14-b26b-48ad-a240-35df60f6ca93",
   "metadata": {},
   "outputs": [],
   "source": [
    "points_x, res = calculate_variance(G, repeat = 1000, num_samples = 10000)"
   ]
  },
  {
   "cell_type": "code",
   "execution_count": 629,
   "id": "117ca9c6-7405-472d-a781-bc0bd7bc7f23",
   "metadata": {},
   "outputs": [
    {
     "data": {
      "image/png": "[encoded data removed]",
      "text/plain": [
       "<Figure size 432x288 with 1 Axes>"
      ]
     },
     "metadata": {
      "needs_background": "light"
     },
     "output_type": "display_data"
    }
   ],
   "source": [
    "# Plot the graph\n",
    "plt.plot(points_x, res, 'ko', markersize = 3, label='Variancies')\n",
    "plt.xlabel('x')\n",
    "plt.ylabel('Model variance')\n",
    "plt.title('Model variancies at Different Points')\n",
    "plt.legend()\n",
    "plt.grid(True)\n",
    "plt.show()"
   ]
  },
  {
   "cell_type": "code",
   "execution_count": 586,
   "id": "ee1b2773-b81e-4796-8e9c-29fb4269ec10",
   "metadata": {},
   "outputs": [
    {
     "data": {
      "image/png": "[encoded data removed]",
      "text/plain": [
       "<Figure size 432x288 with 1 Axes>"
      ]
     },
     "metadata": {
      "needs_background": "light"
     },
     "output_type": "display_data"
    }
   ],
   "source": []
  },
  {
   "cell_type": "code",
   "execution_count": 593,
   "id": "258cea36-68c8-4b86-9881-d970a7371223",
   "metadata": {},
   "outputs": [
    {
     "data": {
      "text/plain": [
       "([tensor([-0.5870, -0.5463, -0.4855, -0.3768, -0.2345, -0.1610, -0.1554, -0.1314,\n",
       "          -0.1279, -0.0518]),\n",
       "  tensor([[5.6558],\n",
       "          [5.7053],\n",
       "          [5.7763],\n",
       "          [5.8969],\n",
       "          [6.0465],\n",
       "          [6.1215],\n",
       "          [6.1272],\n",
       "          [6.1514],\n",
       "          [6.1550],\n",
       "          [6.2314]])],\n",
       " 0.0038968222012272236)"
      ]
     },
     "execution_count": 593,
     "metadata": {},
     "output_type": "execute_result"
    }
   ],
   "source": [
    "create_batch(G, batch_size = 10,                  \n",
    "                 get_variance = True,\n",
    "                 repeat = 10,\n",
    "                 num_samples = 64)"
   ]
  },
  {
   "cell_type": "code",
   "execution_count": null,
   "id": "60b73b44-904c-4d35-8ec6-c9481677b726",
   "metadata": {},
   "outputs": [],
   "source": []
  }
 ],
 "metadata": {
  "kernelspec": {
   "display_name": "Python 3 (ipykernel)",
   "language": "python",
   "name": "python3"
  },
  "language_info": {
   "codemirror_mode": {
    "name": "ipython",
    "version": 3
   },
   "file_extension": ".py",
   "mimetype": "text/x-python",
   "name": "python",
   "nbconvert_exporter": "python",
   "pygments_lexer": "ipython3",
   "version": "3.8.2"
  }
 },
 "nbformat": 4,
 "nbformat_minor": 5
}
