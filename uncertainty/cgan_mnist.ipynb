{
 "cells": [
  {
   "cell_type": "code",
   "execution_count": 1,
   "id": "38750f2a-9b2f-4a35-8b12-b7cd34b0b3c0",
   "metadata": {},
   "outputs": [],
   "source": [
    "%load_ext autoreload\n",
    "%autoreload 2"
   ]
  },
  {
   "cell_type": "code",
   "execution_count": 2,
   "id": "84d674f0-d9ab-4af1-82d4-ac84a29e77a9",
   "metadata": {
    "collapsed": true,
    "jupyter": {
     "outputs_hidden": true
    }
   },
   "outputs": [
    {
     "name": "stderr",
     "output_type": "stream",
     "text": [
      "/Users/serafim/Library/Python/3.8/lib/python/site-packages/urllib3/__init__.py:35: NotOpenSSLWarning: urllib3 v2 only supports OpenSSL 1.1.1+, currently the 'ssl' module is compiled with 'LibreSSL 2.8.3'. See: https://github.com/urllib3/urllib3/issues/3020\n",
      "  warnings.warn(\n"
     ]
    }
   ],
   "source": [
    "import torch\n",
    "import torch.nn as nn\n",
    "import torch.optim as optim\n",
    "import torchvision\n",
    "import torchvision.transforms as transforms\n",
    "from torch.utils.data import DataLoader\n",
    "from torchvision.datasets import MNIST\n",
    "from torch.optim.lr_scheduler import CosineAnnealingLR, OneCycleLR\n",
    "\n",
    "\n",
    "import numpy as np\n",
    "import matplotlib.pyplot as plt\n",
    "\n",
    "\n"
   ]
  },
  {
   "cell_type": "markdown",
   "id": "9276ee99-cc4d-4242-b3e5-62f7b9c7eb07",
   "metadata": {},
   "source": [
    "Images in MNIST have pixel values ranging from 0 to 1. After normalization using `transforms.Normalize(mean=(0.5,), std=(0.5,))`, the transformed images have pixel values ranging from -1 to 1.\n",
    "\n",
    "Due to this transformation, the generator's last layer typically uses the hyperbolic tangent (tanh) activation function to get pixel values ranging from -1 to 1.\n",
    "\n"
   ]
  },
  {
   "cell_type": "code",
   "execution_count": 3,
   "id": "549a643b-448c-4e45-8de6-216488fd5988",
   "metadata": {},
   "outputs": [],
   "source": [
    "BATCH_SIZE = 32\n",
    "\n",
    "# Image processing\n",
    "transform = transforms.Compose([\n",
    "    transforms.ToTensor(),\n",
    "    transforms.Normalize(mean=(0.5,), std=(0.5,))\n",
    "])\n",
    "\n",
    "# MNIST dataset\n",
    "train_dataset = MNIST(root='./data', \n",
    "                      train=True, \n",
    "                      transform=transform,\n",
    "                      download=True)\n",
    "\n",
    "test_dataset = MNIST(root='./data', \n",
    "                     train=False, \n",
    "                     transform=transform,\n",
    "                     download=True)\n",
    "\n",
    "\n",
    "train_loader = DataLoader(dataset=train_dataset, \n",
    "                          batch_size=BATCH_SIZE, \n",
    "                          shuffle=True)\n",
    "\n",
    "test_loader = DataLoader(dataset=test_dataset, \n",
    "                         batch_size=BATCH_SIZE, \n",
    "                         shuffle=False)"
   ]
  },
  {
   "cell_type": "markdown",
   "id": "fabc329a-39b3-4f4d-8aa0-ba08cddea2c3",
   "metadata": {},
   "source": [
    "#### CustomMNIST\n",
    "\n",
    "To restrict the dataset to certain digits, such as creating a dataset with fewer instances of the digit '1', you can use this class.\n",
    "\n",
    "This can be very useful when you want to make it more challenging for a generator to produce specific digits."
   ]
  },
  {
   "cell_type": "code",
   "execution_count": 333,
   "id": "53e28ed4-4e83-4010-ae15-052b2b5830d6",
   "metadata": {},
   "outputs": [],
   "source": [
    "import torch\n",
    "from torchvision.datasets import MNIST\n",
    "from torch.utils.data import Dataset, DataLoader\n",
    "from torchvision import transforms\n",
    "\n",
    "class CustomMNIST(Dataset):\n",
    "    def __init__(self, root, train=True, transform=None, download=False, digit_limits=None):\n",
    "        self.mnist = MNIST(root=root, train=train, transform=transform, download=download)\n",
    "        self.transform = transform\n",
    "        self.digit_limits = digit_limits\n",
    "        self.indices = self._get_indices()\n",
    "\n",
    "    def _get_indices(self):\n",
    "        digit_count = {i: 0 for i in range(10)}\n",
    "        indices = []\n",
    "\n",
    "        for i, (image, label) in enumerate(self.mnist):\n",
    "            limit = self.digit_limits.get(label, None)\n",
    "            if limit is None or digit_count[label] < limit:\n",
    "                indices.append(i)\n",
    "                digit_count[label] += 1\n",
    "\n",
    "        return indices\n",
    "\n",
    "    def __len__(self):\n",
    "        return len(self.indices)\n",
    "\n",
    "    def __getitem__(self, idx):\n",
    "        idx = self.indices[idx]\n",
    "        return self.mnist[idx]\n",
    "\n",
    "    \n",
    "digit_limits = {2:1000, 8: 1000, 7: 1000}\n",
    "\n",
    "train_dataset = CustomMNIST(\n",
    "    root='./data',\n",
    "    train=True,\n",
    "    transform=transform,\n",
    "    download=True,\n",
    "    digit_limits=digit_limits\n",
    ")\n",
    "train_loader = DataLoader(dataset=train_dataset, \n",
    "                          batch_size=BATCH_SIZE, \n",
    "                          shuffle=True)"
   ]
  },
  {
   "cell_type": "code",
   "execution_count": 6,
   "id": "a545613b-de04-4880-b6f7-3cb417f03002",
   "metadata": {},
   "outputs": [
    {
     "data": {
      "text/plain": [
       "Dataset MNIST\n",
       "    Number of datapoints: 10000\n",
       "    Root location: ./data\n",
       "    Split: Test\n",
       "    StandardTransform\n",
       "Transform: Compose(\n",
       "               ToTensor()\n",
       "               Normalize(mean=(0.5,), std=(0.5,))\n",
       "           )"
      ]
     },
     "execution_count": 6,
     "metadata": {},
     "output_type": "execute_result"
    }
   ],
   "source": [
    "test_dataset"
   ]
  },
  {
   "cell_type": "markdown",
   "id": "4c066e40-38ca-46f9-8458-f856f1d7f967",
   "metadata": {},
   "source": [
    "##### Mnist samples\n",
    "Here an image and some pixels from it"
   ]
  },
  {
   "cell_type": "code",
   "execution_count": 4,
   "id": "7e11f2c7-8648-4f44-b879-a3762707bc44",
   "metadata": {},
   "outputs": [
    {
     "name": "stdout",
     "output_type": "stream",
     "text": [
      "Label:  5\n",
      "tensor([[[-0.9922,  0.2078,  0.9843, -0.2941, -1.0000],\n",
      "         [-1.0000,  0.0902,  0.9843,  0.4902, -0.9843],\n",
      "         [-1.0000, -0.9137,  0.4902,  0.9843, -0.4510],\n",
      "         [-1.0000, -1.0000, -0.7255,  0.8902,  0.7647],\n",
      "         [-1.0000, -1.0000, -1.0000, -0.3647,  0.8824]]])\n"
     ]
    },
    {
     "data": {
      "text/plain": [
       "(tensor(-1.), tensor(1.))"
      ]
     },
     "execution_count": 4,
     "metadata": {},
     "output_type": "execute_result"
    }
   ],
   "source": [
    "img, label = train_dataset[0]\n",
    "print('Label: ', label)\n",
    "print(img[:,10:15,10:15])\n",
    "torch.min(img), torch.max(img)"
   ]
  },
  {
   "cell_type": "code",
   "execution_count": 5,
   "id": "5c9633b3-7ac8-4535-841d-cdc7056b7149",
   "metadata": {},
   "outputs": [],
   "source": [
    "def denorm(x):\n",
    "    out = (x + 1) / 2\n",
    "    # print(out)\n",
    "    return out.clamp(0, 1)"
   ]
  },
  {
   "cell_type": "code",
   "execution_count": 6,
   "id": "aa3c7a13-04d3-45e6-8f66-ee6cd4f9427d",
   "metadata": {},
   "outputs": [
    {
     "data": {
      "image/png": "[encoded data removed]",
      "text/plain": [
       "<Figure size 432x288 with 6 Axes>"
      ]
     },
     "metadata": {
      "needs_background": "light"
     },
     "output_type": "display_data"
    }
   ],
   "source": [
    "inputs, classes = next(iter(train_loader))\n",
    "inputs = inputs[:6]\n",
    "inputs = [el[0] for el in inputs]\n",
    "classes = classes[:6]\n",
    "\n",
    "fig = plt.figure()\n",
    "for i in range(6):\n",
    "    plt.subplot(2,3,i+1)\n",
    "    plt.imshow(denorm(inputs[i]), cmap='gray', interpolation='none');\n",
    "    plt.title(\"Ground Truth: {}\".format(classes[i]))\n",
    "    # plt.xticks([])\n",
    "    # plt.yticks([])\n",
    "    \n",
    "plt.tight_layout()\n",
    "plt.show()"
   ]
  },
  {
   "cell_type": "code",
   "execution_count": null,
   "id": "94ce1432-2e62-4544-a6b7-5df084d2dd8a",
   "metadata": {},
   "outputs": [],
   "source": []
  },
  {
   "cell_type": "code",
   "execution_count": 4,
   "id": "ce502852-b3d2-4a78-8535-51ae12ef0399",
   "metadata": {},
   "outputs": [
    {
     "name": "stdout",
     "output_type": "stream",
     "text": [
      "cpu\n"
     ]
    }
   ],
   "source": [
    "IMAGE_SIZE = 784\n",
    "device = torch.device('cuda' if torch.cuda.is_available() else 'cpu')\n",
    "print(device)"
   ]
  },
  {
   "cell_type": "markdown",
   "id": "c65a6e23-f3a0-4d4b-b070-d675eae4b7e8",
   "metadata": {},
   "source": [
    "### Load pretrained classifier\n",
    "\n",
    "use it to calculate FID and accuracy"
   ]
  },
  {
   "cell_type": "code",
   "execution_count": 5,
   "id": "155e9af2-1b14-46ff-b0a0-2a7e45b76f5f",
   "metadata": {},
   "outputs": [
    {
     "data": {
      "text/plain": [
       "CNN3(\n",
       "  (model): Sequential(\n",
       "    (0): Conv2d(1, 32, kernel_size=(3, 3), stride=(2, 2), padding=(1, 1))\n",
       "    (1): BatchNorm2d(32, eps=1e-05, momentum=0.1, affine=True, track_running_stats=True)\n",
       "    (2): LeakyReLU(negative_slope=0.2, inplace=True)\n",
       "    (3): Dropout(p=0.1, inplace=False)\n",
       "    (4): Conv2d(32, 64, kernel_size=(3, 3), stride=(2, 2), padding=(1, 1))\n",
       "    (5): BatchNorm2d(64, eps=1e-05, momentum=0.1, affine=True, track_running_stats=True)\n",
       "    (6): LeakyReLU(negative_slope=0.2, inplace=True)\n",
       "    (7): Dropout(p=0.1, inplace=False)\n",
       "    (8): Conv2d(64, 128, kernel_size=(3, 3), stride=(2, 2), padding=(1, 1))\n",
       "    (9): BatchNorm2d(128, eps=1e-05, momentum=0.1, affine=True, track_running_stats=True)\n",
       "    (10): LeakyReLU(negative_slope=0.2, inplace=True)\n",
       "    (11): Dropout(p=0.1, inplace=False)\n",
       "    (12): Conv2d(128, 256, kernel_size=(3, 3), stride=(2, 2), padding=(1, 1))\n",
       "    (13): BatchNorm2d(256, eps=1e-05, momentum=0.1, affine=True, track_running_stats=True)\n",
       "    (14): LeakyReLU(negative_slope=0.2, inplace=True)\n",
       "    (15): Dropout(p=0.1, inplace=False)\n",
       "    (16): Conv2d(256, 512, kernel_size=(3, 3), stride=(2, 2), padding=(1, 1))\n",
       "    (17): BatchNorm2d(512, eps=1e-05, momentum=0.1, affine=True, track_running_stats=True)\n",
       "    (18): LeakyReLU(negative_slope=0.2, inplace=True)\n",
       "    (19): Dropout(p=0.1, inplace=False)\n",
       "    (20): Conv2d(512, 10, kernel_size=(1, 1), stride=(1, 1))\n",
       "    (21): Flatten(start_dim=1, end_dim=-1)\n",
       "  )\n",
       ")"
      ]
     },
     "execution_count": 5,
     "metadata": {},
     "output_type": "execute_result"
    }
   ],
   "source": [
    "from modules.mnist_classifier import eval_model\n",
    "from modules.mnist_models import CNN, CNN2, CNN3\n",
    "CLASSIFIER = CNN3().to(device=device)\n",
    "PATH = './mnist_tests_classifier/classifier__CNN3__1_9_32/classifier_model.pt'\n",
    "CLASSIFIER.load_state_dict(torch.load(PATH))\n",
    "CLASSIFIER.eval()"
   ]
  },
  {
   "cell_type": "code",
   "execution_count": 21,
   "id": "cbf86bbb-5fab-40d1-a9be-d35a655bec98",
   "metadata": {},
   "outputs": [
    {
     "name": "stdout",
     "output_type": "stream",
     "text": [
      "0.010905277570991165 99.65\n"
     ]
    }
   ],
   "source": [
    "# CLASSIFIER\n",
    "loss_test, accuracy_test = eval_model(test_loader,\n",
    "                                      CLASSIFIER,\n",
    "                                      criterion = nn.CrossEntropyLoss(),\n",
    "                                      device = device)\n",
    "print(loss_test, accuracy_test)"
   ]
  },
  {
   "cell_type": "markdown",
   "id": "bdcad907-ce16-4129-9826-93e447a552ac",
   "metadata": {},
   "source": [
    "### Train\n"
   ]
  },
  {
   "cell_type": "code",
   "execution_count": 8,
   "id": "b505e79e-576b-41e0-9ae3-9aafa9752cac",
   "metadata": {},
   "outputs": [],
   "source": [
    "from modules.mnist import Generator, Discriminator, train\n",
    "from modules.weighted_bce import WeightedVarianceBCE"
   ]
  },
  {
   "cell_type": "code",
   "execution_count": 6,
   "id": "0ab7684b-757f-4214-b219-640856b548f0",
   "metadata": {},
   "outputs": [],
   "source": [
    "save_path = '/Users/serafim/Desktop/Job/projects/science/hse/GAN-Estimation-Uncertainty/uncertainty/mnist_tests'\n",
    "# save_path = '/Users/serafim/Desktop/Job/projects/science/hse/GAN-Estimation-Uncertainty/uncertainty/custom_mnist_tests'\n",
    "# save_path = '/Users/serafim/Desktop/Job/projects/science/hse/GAN-Estimation-Uncertainty/uncertainty/custom_mnist_tests_v'\n",
    "# save_path = '/Users/serafim/Desktop/Job/projects/science/hse/GAN-Estimation-Uncertainty/uncertainty/custom_mnist_tests_metric1'\n",
    "save_path = '/Users/serafim/Desktop/Job/projects/science/hse/GAN-Estimation-Uncertainty/uncertainty/custom_mnist_tests_D'\n",
    "save_path = '/Users/serafim/Desktop/Job/projects/science/hse/GAN-Estimation-Uncertainty/uncertainty/mnist_tests_D'"
   ]
  },
  {
   "cell_type": "code",
   "execution_count": 9,
   "id": "a79e38c4-d92f-4412-beb0-3b08735371cf",
   "metadata": {
    "collapsed": true,
    "jupyter": {
     "outputs_hidden": true
    },
    "tags": []
   },
   "outputs": [
    {
     "name": "stdout",
     "output_type": "stream",
     "text": [
      "NUM_BATCHES: 1875\n",
      "Folder 'base_wgan__lr_0,0001__1_3' created at '/Users/serafim/Desktop/Job/projects/science/hse/GAN-Estimation-Uncertainty/uncertainty/mnist_tests_D'.\n",
      "{0: 2.0590288946894484, 1: 1.9808143540483525, 2: 1.879230503318487, 3: 1.9437755958816214, 4: 1.9302803973789469, 5: 1.9124889686286712, 6: 1.9648104523313539, 7: 2.0067161840243903, 8: 1.8753556160881426, 9: 2.0129704610519705} {0: 0.516944677617915, 1: 0.23961986743031058, 2: 0.505366567847906, 3: 0.4743666069289848, 4: 0.4143690566654459, 5: 0.46986809517743827, 6: 0.4225204800260561, 7: 0.38121657789188323, 8: 0.45889617490314516, 9: 0.3996223346405325}\n",
      "weights_bce {0: 1.0, 1: 0.9620138693328573, 2: 0.9126780630253957, 3: 0.9440254096943064, 4: 0.9374712527626184, 5: 0.9288305635541463, 6: 0.9542413209445004, 7: 0.9745935033743428, 8: 0.9107961626594812, 9: 0.9776309920874497}\n",
      "1111111111\n"
     ]
    },
    {
     "name": "stderr",
     "output_type": "stream",
     "text": [
      "  0%|                                                    | 0/50 [00:00<?, ?it/s]"
     ]
    },
    {
     "name": "stdout",
     "output_type": "stream",
     "text": [
      "adjusting weights\n",
      "000\n",
      "epoch [0/50], average D_loss: 0.5884, average G_loss: 0.5771\n",
      "calssifier: loss CE -- 13.339899491882324, accuracy -- 10.0\n"
     ]
    },
    {
     "name": "stderr",
     "output_type": "stream",
     "text": [
      "  2%|▊                                        | 1/50 [01:42<1:24:04, 102.96s/it]"
     ]
    },
    {
     "name": "stdout",
     "output_type": "stream",
     "text": [
      "adjusting weights\n",
      "000\n",
      "epoch [1/50], average D_loss: 0.3585, average G_loss: 0.9597\n",
      "calssifier: loss CE -- 15.466656295776367, accuracy -- 10.0\n"
     ]
    },
    {
     "name": "stderr",
     "output_type": "stream",
     "text": [
      "  4%|█▋                                       | 2/50 [03:22<1:20:51, 101.08s/it]"
     ]
    },
    {
     "name": "stdout",
     "output_type": "stream",
     "text": [
      "adjusting weights\n",
      "000\n",
      "epoch [2/50], average D_loss: 0.2151, average G_loss: 1.5595\n",
      "calssifier: loss CE -- 11.292451651000977, accuracy -- 10.61\n"
     ]
    },
    {
     "name": "stderr",
     "output_type": "stream",
     "text": [
      "  6%|██▍                                      | 3/50 [05:04<1:19:16, 101.19s/it]"
     ]
    },
    {
     "name": "stdout",
     "output_type": "stream",
     "text": [
      "adjusting weights\n",
      "000\n",
      "epoch [3/50], average D_loss: 0.1856, average G_loss: 2.1178\n",
      "calssifier: loss CE -- 6.201738236236572, accuracy -- 13.320000000000002\n"
     ]
    },
    {
     "name": "stderr",
     "output_type": "stream",
     "text": [
      "  8%|███▎                                     | 4/50 [06:46<1:18:00, 101.75s/it]"
     ]
    },
    {
     "name": "stdout",
     "output_type": "stream",
     "text": [
      "adjusting weights\n",
      "000\n",
      "epoch [4/50], average D_loss: 0.1756, average G_loss: 1.5274\n",
      "calssifier: loss CE -- 5.3610573051452635, accuracy -- 14.66\n"
     ]
    },
    {
     "name": "stderr",
     "output_type": "stream",
     "text": [
      " 10%|████                                     | 5/50 [08:30<1:16:54, 102.55s/it]"
     ]
    },
    {
     "name": "stdout",
     "output_type": "stream",
     "text": [
      "adjusting weights\n",
      "000\n",
      "epoch [5/50], average D_loss: 0.2214, average G_loss: 1.8852\n",
      "calssifier: loss CE -- 4.501730918121338, accuracy -- 16.669999999999998\n"
     ]
    },
    {
     "name": "stderr",
     "output_type": "stream",
     "text": [
      " 12%|████▉                                    | 6/50 [10:11<1:14:47, 101.98s/it]"
     ]
    },
    {
     "name": "stdout",
     "output_type": "stream",
     "text": [
      "adjusting weights\n",
      "000\n",
      "epoch [6/50], average D_loss: 0.2497, average G_loss: 1.7453\n",
      "calssifier: loss CE -- 3.9056051921844483, accuracy -- 24.04\n"
     ]
    },
    {
     "name": "stderr",
     "output_type": "stream",
     "text": [
      " 14%|█████▋                                   | 7/50 [11:52<1:12:56, 101.79s/it]"
     ]
    },
    {
     "name": "stdout",
     "output_type": "stream",
     "text": [
      "adjusting weights\n",
      "000\n",
      "epoch [7/50], average D_loss: 0.2833, average G_loss: 1.5030\n",
      "calssifier: loss CE -- 4.715546868133545, accuracy -- 19.919999999999998\n"
     ]
    },
    {
     "name": "stderr",
     "output_type": "stream",
     "text": [
      " 16%|██████▌                                  | 8/50 [13:34<1:11:14, 101.77s/it]"
     ]
    },
    {
     "name": "stdout",
     "output_type": "stream",
     "text": [
      "adjusting weights\n",
      "000\n",
      "epoch [8/50], average D_loss: 0.2815, average G_loss: 0.9253\n",
      "calssifier: loss CE -- 3.910753324508667, accuracy -- 30.659999999999997\n"
     ]
    },
    {
     "name": "stderr",
     "output_type": "stream",
     "text": [
      " 18%|███████▍                                 | 9/50 [15:16<1:09:29, 101.71s/it]"
     ]
    },
    {
     "name": "stdout",
     "output_type": "stream",
     "text": [
      "adjusting weights\n",
      "000\n",
      "epoch [9/50], average D_loss: 0.3454, average G_loss: 1.1342\n",
      "calssifier: loss CE -- 2.505941124343872, accuracy -- 51.67\n"
     ]
    },
    {
     "name": "stderr",
     "output_type": "stream",
     "text": [
      " 20%|████████                                | 10/50 [16:56<1:07:36, 101.41s/it]"
     ]
    },
    {
     "name": "stdout",
     "output_type": "stream",
     "text": [
      "adjusting weights\n",
      "000\n",
      "epoch [10/50], average D_loss: 0.3275, average G_loss: 0.8451\n",
      "calssifier: loss CE -- 2.220704965400696, accuracy -- 50.870000000000005\n"
     ]
    },
    {
     "name": "stderr",
     "output_type": "stream",
     "text": [
      " 22%|████████▊                               | 11/50 [18:37<1:05:41, 101.07s/it]"
     ]
    },
    {
     "name": "stdout",
     "output_type": "stream",
     "text": [
      "adjusting weights\n",
      "000\n",
      "epoch [11/50], average D_loss: 0.3681, average G_loss: 0.8913\n",
      "calssifier: loss CE -- 1.778333267021179, accuracy -- 59.37\n"
     ]
    },
    {
     "name": "stderr",
     "output_type": "stream",
     "text": [
      " 24%|█████████▌                              | 12/50 [20:15<1:03:24, 100.12s/it]"
     ]
    },
    {
     "name": "stdout",
     "output_type": "stream",
     "text": [
      "adjusting weights\n",
      "000\n",
      "epoch [12/50], average D_loss: 0.2270, average G_loss: 0.4560\n",
      "calssifier: loss CE -- 1.3612801984786986, accuracy -- 66.29\n"
     ]
    },
    {
     "name": "stderr",
     "output_type": "stream",
     "text": [
      " 26%|██████████▋                              | 13/50 [21:54<1:01:34, 99.85s/it]"
     ]
    },
    {
     "name": "stdout",
     "output_type": "stream",
     "text": [
      "adjusting weights\n",
      "000\n",
      "epoch [13/50], average D_loss: 0.2570, average G_loss: 0.4331\n",
      "calssifier: loss CE -- 1.1884631976127624, accuracy -- 70.94\n"
     ]
    },
    {
     "name": "stderr",
     "output_type": "stream",
     "text": [
      " 28%|████████████                               | 14/50 [23:34<59:52, 99.79s/it]"
     ]
    },
    {
     "name": "stdout",
     "output_type": "stream",
     "text": [
      "adjusting weights\n",
      "000\n",
      "epoch [14/50], average D_loss: 0.3107, average G_loss: 0.5681\n",
      "calssifier: loss CE -- 0.9959876318395138, accuracy -- 76.51\n"
     ]
    },
    {
     "name": "stderr",
     "output_type": "stream",
     "text": [
      " 30%|████████████▌                             | 15/50 [25:17<58:50, 100.87s/it]"
     ]
    },
    {
     "name": "stdout",
     "output_type": "stream",
     "text": [
      "adjusting weights\n",
      "000\n",
      "epoch [15/50], average D_loss: 0.3284, average G_loss: 0.5661\n",
      "calssifier: loss CE -- 0.8950525784015656, accuracy -- 76.23\n"
     ]
    },
    {
     "name": "stderr",
     "output_type": "stream",
     "text": [
      " 32%|█████████████▍                            | 16/50 [26:59<57:21, 101.21s/it]"
     ]
    },
    {
     "name": "stdout",
     "output_type": "stream",
     "text": [
      "adjusting weights\n",
      "000\n",
      "epoch [16/50], average D_loss: 0.4356, average G_loss: 0.7124\n",
      "calssifier: loss CE -- 0.7444485376358032, accuracy -- 81.05\n"
     ]
    },
    {
     "name": "stderr",
     "output_type": "stream",
     "text": [
      " 34%|██████████████▎                           | 17/50 [28:43<56:04, 101.96s/it]"
     ]
    },
    {
     "name": "stdout",
     "output_type": "stream",
     "text": [
      "adjusting weights\n",
      "000\n",
      "epoch [17/50], average D_loss: 0.3558, average G_loss: 0.5401\n",
      "calssifier: loss CE -- 0.6434710731983185, accuracy -- 83.25\n"
     ]
    },
    {
     "name": "stderr",
     "output_type": "stream",
     "text": [
      " 36%|███████████████                           | 18/50 [30:27<54:43, 102.61s/it]"
     ]
    },
    {
     "name": "stdout",
     "output_type": "stream",
     "text": [
      "adjusting weights\n",
      "000\n",
      "epoch [18/50], average D_loss: 0.3806, average G_loss: 0.5556\n",
      "calssifier: loss CE -- 0.6381749833106994, accuracy -- 82.96\n"
     ]
    },
    {
     "name": "stderr",
     "output_type": "stream",
     "text": [
      " 38%|███████████████▉                          | 19/50 [32:09<52:56, 102.45s/it]"
     ]
    },
    {
     "name": "stdout",
     "output_type": "stream",
     "text": [
      "adjusting weights\n",
      "000\n",
      "epoch [19/50], average D_loss: 0.2362, average G_loss: 0.3213\n",
      "calssifier: loss CE -- 0.711785157585144, accuracy -- 82.26\n"
     ]
    },
    {
     "name": "stderr",
     "output_type": "stream",
     "text": [
      " 40%|████████████████▊                         | 20/50 [33:50<51:04, 102.15s/it]"
     ]
    },
    {
     "name": "stdout",
     "output_type": "stream",
     "text": [
      "adjusting weights\n",
      "000\n",
      "epoch [20/50], average D_loss: 0.3579, average G_loss: 0.5027\n",
      "calssifier: loss CE -- 0.6831936454534531, accuracy -- 82.11\n"
     ]
    },
    {
     "name": "stderr",
     "output_type": "stream",
     "text": [
      " 42%|█████████████████▋                        | 21/50 [35:34<49:37, 102.68s/it]"
     ]
    },
    {
     "name": "stdout",
     "output_type": "stream",
     "text": [
      "adjusting weights\n",
      "000\n",
      "epoch [21/50], average D_loss: 0.3492, average G_loss: 0.4743\n",
      "calssifier: loss CE -- 0.5541430864870548, accuracy -- 85.99\n"
     ]
    },
    {
     "name": "stderr",
     "output_type": "stream",
     "text": [
      " 44%|██████████████████▍                       | 22/50 [37:17<47:55, 102.69s/it]"
     ]
    },
    {
     "name": "stdout",
     "output_type": "stream",
     "text": [
      "adjusting weights\n",
      "000\n",
      "epoch [22/50], average D_loss: 0.3944, average G_loss: 0.5356\n",
      "calssifier: loss CE -- 0.5540372349977494, accuracy -- 85.96000000000001\n"
     ]
    },
    {
     "name": "stderr",
     "output_type": "stream",
     "text": [
      " 46%|███████████████████▎                      | 23/50 [39:02<46:31, 103.38s/it]"
     ]
    },
    {
     "name": "stdout",
     "output_type": "stream",
     "text": [
      "adjusting weights\n",
      "000\n",
      "epoch [23/50], average D_loss: 0.2871, average G_loss: 0.3642\n",
      "calssifier: loss CE -- 0.4526815380513668, accuracy -- 87.91\n"
     ]
    },
    {
     "name": "stderr",
     "output_type": "stream",
     "text": [
      " 48%|████████████████████▏                     | 24/50 [40:46<44:51, 103.52s/it]"
     ]
    },
    {
     "name": "stdout",
     "output_type": "stream",
     "text": [
      "adjusting weights\n",
      "000\n",
      "epoch [24/50], average D_loss: 0.3171, average G_loss: 0.4038\n",
      "calssifier: loss CE -- 0.37960955424010756, accuracy -- 89.53\n"
     ]
    },
    {
     "name": "stderr",
     "output_type": "stream",
     "text": [
      " 50%|█████████████████████                     | 25/50 [42:26<42:43, 102.53s/it]"
     ]
    },
    {
     "name": "stdout",
     "output_type": "stream",
     "text": [
      "adjusting weights\n",
      "000\n",
      "epoch [25/50], average D_loss: 0.4249, average G_loss: 0.5536\n",
      "calssifier: loss CE -- 0.35267518556714056, accuracy -- 90.91\n"
     ]
    },
    {
     "name": "stderr",
     "output_type": "stream",
     "text": [
      " 52%|█████████████████████▊                    | 26/50 [44:11<41:16, 103.19s/it]"
     ]
    },
    {
     "name": "stdout",
     "output_type": "stream",
     "text": [
      "adjusting weights\n",
      "000\n",
      "epoch [26/50], average D_loss: 0.3055, average G_loss: 0.3808\n",
      "calssifier: loss CE -- 0.3177323545470834, accuracy -- 90.69\n"
     ]
    },
    {
     "name": "stderr",
     "output_type": "stream",
     "text": [
      " 54%|██████████████████████▋                   | 27/50 [45:51<39:10, 102.20s/it]"
     ]
    },
    {
     "name": "stdout",
     "output_type": "stream",
     "text": [
      "adjusting weights\n",
      "000\n",
      "epoch [27/50], average D_loss: 0.3521, average G_loss: 0.4388\n",
      "calssifier: loss CE -- 0.2826787262707949, accuracy -- 91.95\n"
     ]
    },
    {
     "name": "stderr",
     "output_type": "stream",
     "text": [
      " 56%|███████████████████████▌                  | 28/50 [47:32<37:21, 101.91s/it]"
     ]
    },
    {
     "name": "stdout",
     "output_type": "stream",
     "text": [
      "adjusting weights\n",
      "000\n",
      "epoch [28/50], average D_loss: 0.3725, average G_loss: 0.4651\n",
      "calssifier: loss CE -- 0.2742612610846758, accuracy -- 92.42\n"
     ]
    },
    {
     "name": "stderr",
     "output_type": "stream",
     "text": [
      " 58%|████████████████████████▎                 | 29/50 [49:15<35:48, 102.33s/it]"
     ]
    },
    {
     "name": "stdout",
     "output_type": "stream",
     "text": [
      "adjusting weights\n",
      "000\n",
      "epoch [29/50], average D_loss: 0.4368, average G_loss: 0.5423\n",
      "calssifier: loss CE -- 0.1928720073387027, accuracy -- 94.46\n"
     ]
    },
    {
     "name": "stderr",
     "output_type": "stream",
     "text": [
      " 60%|█████████████████████████▏                | 30/50 [50:56<33:57, 101.86s/it]"
     ]
    },
    {
     "name": "stdout",
     "output_type": "stream",
     "text": [
      "adjusting weights\n",
      "000\n",
      "epoch [30/50], average D_loss: 0.2569, average G_loss: 0.3134\n",
      "calssifier: loss CE -- 0.17748873171079904, accuracy -- 94.98\n"
     ]
    },
    {
     "name": "stderr",
     "output_type": "stream",
     "text": [
      " 62%|██████████████████████████                | 31/50 [52:39<32:21, 102.19s/it]"
     ]
    },
    {
     "name": "stdout",
     "output_type": "stream",
     "text": [
      "adjusting weights\n",
      "000\n",
      "epoch [31/50], average D_loss: 0.2272, average G_loss: 0.2788\n",
      "calssifier: loss CE -- 0.19414998726174235, accuracy -- 94.67\n"
     ]
    },
    {
     "name": "stderr",
     "output_type": "stream",
     "text": [
      " 64%|██████████████████████████▉               | 32/50 [54:21<30:38, 102.12s/it]"
     ]
    },
    {
     "name": "stdout",
     "output_type": "stream",
     "text": [
      "adjusting weights\n",
      "000\n",
      "epoch [32/50], average D_loss: 0.3023, average G_loss: 0.3703\n",
      "calssifier: loss CE -- 0.16638040627539158, accuracy -- 94.84\n"
     ]
    },
    {
     "name": "stderr",
     "output_type": "stream",
     "text": [
      " 66%|███████████████████████████▋              | 33/50 [56:01<28:46, 101.58s/it]"
     ]
    },
    {
     "name": "stdout",
     "output_type": "stream",
     "text": [
      "adjusting weights\n",
      "000\n",
      "epoch [33/50], average D_loss: 0.2537, average G_loss: 0.3086\n",
      "calssifier: loss CE -- 0.1849667295690626, accuracy -- 94.72\n"
     ]
    },
    {
     "name": "stderr",
     "output_type": "stream",
     "text": [
      " 68%|████████████████████████████▌             | 34/50 [57:47<27:26, 102.88s/it]"
     ]
    },
    {
     "name": "stdout",
     "output_type": "stream",
     "text": [
      "adjusting weights\n",
      "000\n",
      "epoch [34/50], average D_loss: 0.4205, average G_loss: 0.5056\n",
      "calssifier: loss CE -- 0.1985774940341711, accuracy -- 94.51\n"
     ]
    },
    {
     "name": "stderr",
     "output_type": "stream",
     "text": [
      " 70%|█████████████████████████████▍            | 35/50 [59:35<26:03, 104.26s/it]"
     ]
    },
    {
     "name": "stdout",
     "output_type": "stream",
     "text": [
      "adjusting weights\n",
      "000\n",
      "epoch [35/50], average D_loss: 0.3418, average G_loss: 0.4083\n",
      "calssifier: loss CE -- 0.15310146205928177, accuracy -- 95.41\n"
     ]
    },
    {
     "name": "stderr",
     "output_type": "stream",
     "text": [
      " 72%|████████████████████████████▊           | 36/50 [1:01:13<23:57, 102.64s/it]"
     ]
    },
    {
     "name": "stdout",
     "output_type": "stream",
     "text": [
      "adjusting weights\n",
      "000\n",
      "epoch [36/50], average D_loss: 0.3253, average G_loss: 0.3833\n",
      "calssifier: loss CE -- 0.177808913109079, accuracy -- 94.99\n"
     ]
    },
    {
     "name": "stderr",
     "output_type": "stream",
     "text": [
      " 74%|█████████████████████████████▌          | 37/50 [1:02:59<22:25, 103.49s/it]"
     ]
    },
    {
     "name": "stdout",
     "output_type": "stream",
     "text": [
      "adjusting weights\n",
      "000\n",
      "epoch [37/50], average D_loss: 0.3023, average G_loss: 0.3597\n",
      "calssifier: loss CE -- 0.12828152710190044, accuracy -- 96.3\n"
     ]
    },
    {
     "name": "stderr",
     "output_type": "stream",
     "text": [
      " 76%|██████████████████████████████▍         | 38/50 [1:04:44<20:49, 104.12s/it]"
     ]
    },
    {
     "name": "stdout",
     "output_type": "stream",
     "text": [
      "adjusting weights\n",
      "000\n",
      "epoch [38/50], average D_loss: 0.3007, average G_loss: 0.3525\n",
      "calssifier: loss CE -- 0.10672673035599291, accuracy -- 96.83\n"
     ]
    },
    {
     "name": "stderr",
     "output_type": "stream",
     "text": [
      " 78%|███████████████████████████████▏        | 39/50 [1:06:30<19:09, 104.54s/it]"
     ]
    },
    {
     "name": "stdout",
     "output_type": "stream",
     "text": [
      "adjusting weights\n",
      "000\n",
      "epoch [39/50], average D_loss: 0.3510, average G_loss: 0.4108\n",
      "calssifier: loss CE -- 0.12639778249105438, accuracy -- 96.46000000000001\n"
     ]
    },
    {
     "name": "stderr",
     "output_type": "stream",
     "text": [
      " 80%|████████████████████████████████        | 40/50 [1:08:17<17:31, 105.15s/it]"
     ]
    },
    {
     "name": "stdout",
     "output_type": "stream",
     "text": [
      "adjusting weights\n",
      "000\n",
      "epoch [40/50], average D_loss: 0.3735, average G_loss: 0.4380\n",
      "calssifier: loss CE -- 0.12665169309973717, accuracy -- 96.38\n"
     ]
    },
    {
     "name": "stderr",
     "output_type": "stream",
     "text": [
      " 82%|████████████████████████████████▊       | 41/50 [1:09:57<15:33, 103.67s/it]"
     ]
    },
    {
     "name": "stdout",
     "output_type": "stream",
     "text": [
      "adjusting weights\n",
      "000\n",
      "epoch [41/50], average D_loss: 0.3273, average G_loss: 0.3796\n",
      "calssifier: loss CE -- 0.11018826930709183, accuracy -- 96.72\n"
     ]
    },
    {
     "name": "stderr",
     "output_type": "stream",
     "text": [
      " 84%|█████████████████████████████████▌      | 42/50 [1:11:38<13:42, 102.80s/it]"
     ]
    },
    {
     "name": "stdout",
     "output_type": "stream",
     "text": [
      "adjusting weights\n",
      "000\n",
      "epoch [42/50], average D_loss: 0.3594, average G_loss: 0.4200\n",
      "calssifier: loss CE -- 0.10274989835841115, accuracy -- 97.05\n"
     ]
    },
    {
     "name": "stderr",
     "output_type": "stream",
     "text": [
      " 86%|██████████████████████████████████▍     | 43/50 [1:13:23<12:04, 103.51s/it]"
     ]
    },
    {
     "name": "stdout",
     "output_type": "stream",
     "text": [
      "adjusting weights\n",
      "000\n",
      "epoch [43/50], average D_loss: 0.3486, average G_loss: 0.4060\n",
      "calssifier: loss CE -- 0.11180018699802459, accuracy -- 97.07000000000001\n"
     ]
    },
    {
     "name": "stderr",
     "output_type": "stream",
     "text": [
      " 88%|███████████████████████████████████▏    | 44/50 [1:15:11<10:30, 105.09s/it]"
     ]
    },
    {
     "name": "stdout",
     "output_type": "stream",
     "text": [
      "adjusting weights\n",
      "000\n",
      "epoch [44/50], average D_loss: 0.3519, average G_loss: 0.4099\n",
      "calssifier: loss CE -- 0.09784840305838734, accuracy -- 97.16\n"
     ]
    },
    {
     "name": "stderr",
     "output_type": "stream",
     "text": [
      " 90%|████████████████████████████████████    | 45/50 [1:17:00<08:50, 106.14s/it]"
     ]
    },
    {
     "name": "stdout",
     "output_type": "stream",
     "text": [
      "adjusting weights\n",
      "000\n",
      "epoch [45/50], average D_loss: 0.3344, average G_loss: 0.3907\n",
      "calssifier: loss CE -- 0.11744893643148244, accuracy -- 96.83\n"
     ]
    },
    {
     "name": "stderr",
     "output_type": "stream",
     "text": [
      " 92%|████████████████████████████████████▊   | 46/50 [1:19:21<07:45, 116.46s/it]"
     ]
    },
    {
     "name": "stdout",
     "output_type": "stream",
     "text": [
      "adjusting weights\n",
      "000\n",
      "epoch [46/50], average D_loss: 0.3328, average G_loss: 0.3918\n",
      "calssifier: loss CE -- 0.10570486879888923, accuracy -- 97.00999999999999\n"
     ]
    },
    {
     "name": "stderr",
     "output_type": "stream",
     "text": [
      " 94%|█████████████████████████████████████▌  | 47/50 [1:21:35<06:05, 121.74s/it]"
     ]
    },
    {
     "name": "stdout",
     "output_type": "stream",
     "text": [
      "adjusting weights\n",
      "000\n",
      "epoch [47/50], average D_loss: 0.3084, average G_loss: 0.3625\n",
      "calssifier: loss CE -- 0.11252118288176134, accuracy -- 96.71\n"
     ]
    },
    {
     "name": "stderr",
     "output_type": "stream",
     "text": [
      " 96%|██████████████████████████████████████▍ | 48/50 [1:23:48<04:10, 125.07s/it]"
     ]
    },
    {
     "name": "stdout",
     "output_type": "stream",
     "text": [
      "adjusting weights\n",
      "000\n",
      "epoch [48/50], average D_loss: 0.3471, average G_loss: 0.4055\n",
      "calssifier: loss CE -- 0.11224353312877938, accuracy -- 96.83\n"
     ]
    },
    {
     "name": "stderr",
     "output_type": "stream",
     "text": [
      " 98%|███████████████████████████████████████▏| 49/50 [1:25:57<02:06, 126.43s/it]"
     ]
    },
    {
     "name": "stdout",
     "output_type": "stream",
     "text": [
      "adjusting weights\n",
      "000\n",
      "epoch [49/50], average D_loss: 0.3326, average G_loss: 0.3894\n",
      "calssifier: loss CE -- 0.10682260439116507, accuracy -- 97.14\n"
     ]
    },
    {
     "name": "stderr",
     "output_type": "stream",
     "text": [
      "100%|████████████████████████████████████████| 50/50 [1:28:11<00:00, 105.84s/it]\n"
     ]
    }
   ],
   "source": [
    "G = Generator().to(device=device)\n",
    "D = Discriminator().to(device=device)\n",
    "# criterion = nn.BCELoss()\n",
    "# loss_function = nn.BCELoss()\n",
    "loss_function = WeightedVarianceBCE()\n",
    "learning_rate_G = 0.0001\n",
    "learning_rate_D = 0.0001\n",
    "# lr = 0.0001\n",
    "NUM_EPOCHS = 50\n",
    "\n",
    "import math \n",
    "NUM_BATCHES = math.ceil(len(train_loader.dataset)/train_loader.batch_size)\n",
    "print(f'NUM_BATCHES: {NUM_BATCHES}')\n",
    "D_optimizer = torch.optim.Adam(D.parameters(), lr=learning_rate_G)\n",
    "G_optimizer = torch.optim.Adam(G.parameters(), lr=learning_rate_D)\n",
    "\n",
    "max_lr = 0.00015\n",
    "\n",
    "scheduler_D = OneCycleLR(D_optimizer, max_lr=max_lr, total_steps=NUM_EPOCHS * NUM_BATCHES)\n",
    "scheduler_G = OneCycleLR(G_optimizer, max_lr=max_lr, total_steps=NUM_EPOCHS * NUM_BATCHES)\n",
    "\n",
    "# save_path = '/Users/serafim/Desktop/Job/projects/science/hse/GAN-Estimation-Uncertainty/uncertainty/custom_mnist_tests'\n",
    "NAME = 'base_wgan__lr_0,0001__1_3'\n",
    "\n",
    "D_losses_final, G_losses_final = train(\n",
    "    num_epochs = NUM_EPOCHS,\n",
    "    data_loader = train_loader,\n",
    "    D = D,\n",
    "    G = G,\n",
    "    D_optimizer = D_optimizer,\n",
    "    G_optimizer = G_optimizer, \n",
    "    criterion = loss_function,\n",
    "    device = device,\n",
    "    name = NAME, \n",
    "    save_path = save_path, \n",
    "    progress_generator = True,\n",
    "    plot_process = True,\n",
    "    info_n = 1,\n",
    "    classifier = CLASSIFIER,\n",
    "    fid = True,\n",
    "    fid_dataset = train_loader,\n",
    "    weights_bce = True,\n",
    "    test_fid = True,\n",
    "    scheduler_D = scheduler_D,\n",
    "    scheduler_G = scheduler_G\n",
    ")\n",
    "# plot_sine(G, save_path = save_path, name = NAME)\n"
   ]
  },
  {
   "cell_type": "code",
   "execution_count": null,
   "id": "7841b44b-202c-47f1-8459-d2582d0d007c",
   "metadata": {},
   "outputs": [],
   "source": [
    "Discriminator(\n",
    "  (label_embedding): Embedding(10, 10)\n",
    "  (model): Sequential(\n",
    "    (0): Linear(in_features=794, out_features=512, bias=True)\n",
    "    (1): LeakyReLU(negative_slope=0.2, inplace=True)\n",
    "    (2): Dropout(p=0.3, inplace=False)\n",
    "    (3): Linear(in_features=512, out_features=512, bias=True)\n",
    "    (4): LeakyReLU(negative_slope=0.2, inplace=True)\n",
    "    (5): Dropout(p=0.3, inplace=False)\n",
    "    (6): Linear(in_features=512, out_features=512, bias=True)\n",
    "    (7): LeakyReLU(negative_slope=0.2, inplace=True)\n",
    "    (8): Dropout(p=0.3, inplace=False)\n",
    "    (9): Linear(in_features=512, out_features=1, bias=True)\n",
    "    (10): Sigmoid()\n",
    "  )\n",
    ")"
   ]
  },
  {
   "cell_type": "markdown",
   "id": "c244c2f6-166e-4fa2-b9ee-e3556ac264f2",
   "metadata": {},
   "source": [
    "Save model, Generator and Discriminator"
   ]
  },
  {
   "cell_type": "code",
   "execution_count": 15,
   "id": "1eb8c843-ddff-478a-a2b6-b9d3875b9f28",
   "metadata": {},
   "outputs": [],
   "source": [
    "import os\n",
    "def save_model(model, save_path, name, name2):\n",
    "    filepath = os.path.join(save_path, name, name2)\n",
    "    model.eval()\n",
    "    torch.save(model.state_dict(), filepath)\n",
    "    print(f\"Model saved at: {filepath}\")\n",
    "    \n"
   ]
  },
  {
   "cell_type": "code",
   "execution_count": 16,
   "id": "96b88bde-54b8-49e7-895e-5c501745faca",
   "metadata": {},
   "outputs": [
    {
     "name": "stdout",
     "output_type": "stream",
     "text": [
      "Model saved at: /Users/serafim/Desktop/Job/projects/science/hse/GAN-Estimation-Uncertainty/uncertainty/mnist_tests_D/base_wgan__lr_0,0001__1_3/Generator\n",
      "Model saved at: /Users/serafim/Desktop/Job/projects/science/hse/GAN-Estimation-Uncertainty/uncertainty/mnist_tests_D/base_wgan__lr_0,0001__1_3/Discriminator\n"
     ]
    }
   ],
   "source": [
    "save_model(G, save_path, NAME, name2 = 'Generator')\n",
    "save_model(D, save_path, NAME, name2 = 'Discriminator')"
   ]
  },
  {
   "cell_type": "code",
   "execution_count": 323,
   "id": "5da506c5-b912-4e7d-8690-246c65d62c64",
   "metadata": {
    "collapsed": true,
    "jupyter": {
     "outputs_hidden": true
    },
    "scrolled": true
   },
   "outputs": [
    {
     "name": "stdout",
     "output_type": "stream",
     "text": [
      "NUM_BATCHES: 1404\n",
      "Folder 'base_wgan__lr_0,0001__1_3' created at '/Users/serafim/Desktop/Job/projects/science/hse/GAN-Estimation-Uncertainty/uncertainty/custom_mnist_tests_D'.\n"
     ]
    },
    {
     "ename": "KeyboardInterrupt",
     "evalue": "",
     "output_type": "error",
     "traceback": [
      "\u001b[0;31m---------------------------------------------------------------------------\u001b[0m",
      "\u001b[0;31mKeyboardInterrupt\u001b[0m                         Traceback (most recent call last)",
      "\u001b[0;32m/var/folders/zw/rd1vhmbn34vgll3fpyhd2dwh0000gn/T/ipykernel_1496/3615660741.py\u001b[0m in \u001b[0;36m<module>\u001b[0;34m\u001b[0m\n\u001b[1;32m     23\u001b[0m \u001b[0mNAME\u001b[0m \u001b[0;34m=\u001b[0m \u001b[0;34m'base_wgan__lr_0,0001__1_3'\u001b[0m\u001b[0;34m\u001b[0m\u001b[0;34m\u001b[0m\u001b[0m\n\u001b[1;32m     24\u001b[0m \u001b[0;34m\u001b[0m\u001b[0m\n\u001b[0;32m---> 25\u001b[0;31m D_losses_final, G_losses_final = train(\n\u001b[0m\u001b[1;32m     26\u001b[0m     \u001b[0mnum_epochs\u001b[0m \u001b[0;34m=\u001b[0m \u001b[0mNUM_EPOCHS\u001b[0m\u001b[0;34m,\u001b[0m\u001b[0;34m\u001b[0m\u001b[0;34m\u001b[0m\u001b[0m\n\u001b[1;32m     27\u001b[0m     \u001b[0mdata_loader\u001b[0m \u001b[0;34m=\u001b[0m \u001b[0mtrain_loader\u001b[0m\u001b[0;34m,\u001b[0m\u001b[0;34m\u001b[0m\u001b[0;34m\u001b[0m\u001b[0m\n",
      "\u001b[0;32m~/Desktop/Job/projects/science/hse/GAN-Estimation-Uncertainty/uncertainty/modules/mnist.py\u001b[0m in \u001b[0;36mtrain\u001b[0;34m(num_epochs, data_loader, D, G, D_optimizer, G_optimizer, criterion, device, plot_process, save_path, name, weights_bce, animate_bar_var, progress_generator, info_n, n_split, scheduler_D, scheduler_G, classifier, accuracy, fid, fid_dataset, test_fid)\u001b[0m\n\u001b[1;32m    320\u001b[0m         \u001b[0mG\u001b[0m\u001b[0;34m.\u001b[0m\u001b[0meval\u001b[0m\u001b[0;34m(\u001b[0m\u001b[0;34m)\u001b[0m\u001b[0;34m\u001b[0m\u001b[0;34m\u001b[0m\u001b[0m\n\u001b[1;32m    321\u001b[0m         \u001b[0;31m# category_data_real = split_mnist_cats(fid_dataset)\u001b[0m\u001b[0;34m\u001b[0m\u001b[0;34m\u001b[0m\u001b[0;34m\u001b[0m\u001b[0m\n\u001b[0;32m--> 322\u001b[0;31m         \u001b[0mcategory_data_real\u001b[0m \u001b[0;34m=\u001b[0m \u001b[0msplit_mnist_loader_cats\u001b[0m\u001b[0;34m(\u001b[0m\u001b[0mfid_dataset\u001b[0m\u001b[0;34m,\u001b[0m \u001b[0mmax_images\u001b[0m \u001b[0;34m=\u001b[0m \u001b[0;32mNone\u001b[0m\u001b[0;34m)\u001b[0m\u001b[0;34m\u001b[0m\u001b[0;34m\u001b[0m\u001b[0m\n\u001b[0m\u001b[1;32m    323\u001b[0m \u001b[0;34m\u001b[0m\u001b[0m\n\u001b[1;32m    324\u001b[0m         \u001b[0;31m# FEATURE_EXTRACTOR = CNNClassifierWrapper(classifier, layer_index = -6, use_global_pooling = False)\u001b[0m\u001b[0;34m\u001b[0m\u001b[0;34m\u001b[0m\u001b[0;34m\u001b[0m\u001b[0m\n",
      "\u001b[0;32m~/Desktop/Job/projects/science/hse/GAN-Estimation-Uncertainty/uncertainty/modules/fid.py\u001b[0m in \u001b[0;36msplit_mnist_loader_cats\u001b[0;34m(dataloader, max_images)\u001b[0m\n\u001b[1;32m    188\u001b[0m     \u001b[0;31m# Group the dataloader by category and retain labels\u001b[0m\u001b[0;34m\u001b[0m\u001b[0;34m\u001b[0m\u001b[0;34m\u001b[0m\u001b[0m\n\u001b[1;32m    189\u001b[0m     \u001b[0mcategory_data\u001b[0m \u001b[0;34m=\u001b[0m \u001b[0;34m{\u001b[0m\u001b[0mi\u001b[0m\u001b[0;34m:\u001b[0m \u001b[0;34m[\u001b[0m\u001b[0;34m]\u001b[0m \u001b[0;32mfor\u001b[0m \u001b[0mi\u001b[0m \u001b[0;32min\u001b[0m \u001b[0mrange\u001b[0m\u001b[0;34m(\u001b[0m\u001b[0;36m10\u001b[0m\u001b[0;34m)\u001b[0m\u001b[0;34m}\u001b[0m\u001b[0;34m\u001b[0m\u001b[0;34m\u001b[0m\u001b[0m\n\u001b[0;32m--> 190\u001b[0;31m     \u001b[0;32mfor\u001b[0m \u001b[0mimgs\u001b[0m\u001b[0;34m,\u001b[0m \u001b[0mlabels\u001b[0m \u001b[0;32min\u001b[0m \u001b[0mdataloader\u001b[0m\u001b[0;34m:\u001b[0m\u001b[0;34m\u001b[0m\u001b[0;34m\u001b[0m\u001b[0m\n\u001b[0m\u001b[1;32m    191\u001b[0m         \u001b[0;32mfor\u001b[0m \u001b[0mimg\u001b[0m\u001b[0;34m,\u001b[0m \u001b[0mlabel\u001b[0m \u001b[0;32min\u001b[0m \u001b[0mzip\u001b[0m\u001b[0;34m(\u001b[0m\u001b[0mimgs\u001b[0m\u001b[0;34m,\u001b[0m \u001b[0mlabels\u001b[0m\u001b[0;34m)\u001b[0m\u001b[0;34m:\u001b[0m\u001b[0;34m\u001b[0m\u001b[0;34m\u001b[0m\u001b[0m\n\u001b[1;32m    192\u001b[0m             \u001b[0;32mif\u001b[0m \u001b[0mmax_images\u001b[0m \u001b[0;32mis\u001b[0m \u001b[0;32mNone\u001b[0m \u001b[0;32mor\u001b[0m \u001b[0mlen\u001b[0m\u001b[0;34m(\u001b[0m\u001b[0mcategory_data\u001b[0m\u001b[0;34m[\u001b[0m\u001b[0mlabel\u001b[0m\u001b[0;34m.\u001b[0m\u001b[0mitem\u001b[0m\u001b[0;34m(\u001b[0m\u001b[0;34m)\u001b[0m\u001b[0;34m]\u001b[0m\u001b[0;34m)\u001b[0m \u001b[0;34m<\u001b[0m \u001b[0mmax_images\u001b[0m\u001b[0;34m:\u001b[0m\u001b[0;34m\u001b[0m\u001b[0;34m\u001b[0m\u001b[0m\n",
      "\u001b[0;32m~/Library/Python/3.8/lib/python/site-packages/torch/utils/data/dataloader.py\u001b[0m in \u001b[0;36m__next__\u001b[0;34m(self)\u001b[0m\n\u001b[1;32m    528\u001b[0m             \u001b[0;32mif\u001b[0m \u001b[0mself\u001b[0m\u001b[0;34m.\u001b[0m\u001b[0m_sampler_iter\u001b[0m \u001b[0;32mis\u001b[0m \u001b[0;32mNone\u001b[0m\u001b[0;34m:\u001b[0m\u001b[0;34m\u001b[0m\u001b[0;34m\u001b[0m\u001b[0m\n\u001b[1;32m    529\u001b[0m                 \u001b[0mself\u001b[0m\u001b[0;34m.\u001b[0m\u001b[0m_reset\u001b[0m\u001b[0;34m(\u001b[0m\u001b[0;34m)\u001b[0m\u001b[0;34m\u001b[0m\u001b[0;34m\u001b[0m\u001b[0m\n\u001b[0;32m--> 530\u001b[0;31m             \u001b[0mdata\u001b[0m \u001b[0;34m=\u001b[0m \u001b[0mself\u001b[0m\u001b[0;34m.\u001b[0m\u001b[0m_next_data\u001b[0m\u001b[0;34m(\u001b[0m\u001b[0;34m)\u001b[0m\u001b[0;34m\u001b[0m\u001b[0;34m\u001b[0m\u001b[0m\n\u001b[0m\u001b[1;32m    531\u001b[0m             \u001b[0mself\u001b[0m\u001b[0;34m.\u001b[0m\u001b[0m_num_yielded\u001b[0m \u001b[0;34m+=\u001b[0m \u001b[0;36m1\u001b[0m\u001b[0;34m\u001b[0m\u001b[0;34m\u001b[0m\u001b[0m\n\u001b[1;32m    532\u001b[0m             \u001b[0;32mif\u001b[0m \u001b[0mself\u001b[0m\u001b[0;34m.\u001b[0m\u001b[0m_dataset_kind\u001b[0m \u001b[0;34m==\u001b[0m \u001b[0m_DatasetKind\u001b[0m\u001b[0;34m.\u001b[0m\u001b[0mIterable\u001b[0m \u001b[0;32mand\u001b[0m\u001b[0;31m \u001b[0m\u001b[0;31m\\\u001b[0m\u001b[0;34m\u001b[0m\u001b[0;34m\u001b[0m\u001b[0m\n",
      "\u001b[0;32m~/Library/Python/3.8/lib/python/site-packages/torch/utils/data/dataloader.py\u001b[0m in \u001b[0;36m_next_data\u001b[0;34m(self)\u001b[0m\n\u001b[1;32m    568\u001b[0m     \u001b[0;32mdef\u001b[0m \u001b[0m_next_data\u001b[0m\u001b[0;34m(\u001b[0m\u001b[0mself\u001b[0m\u001b[0;34m)\u001b[0m\u001b[0;34m:\u001b[0m\u001b[0;34m\u001b[0m\u001b[0;34m\u001b[0m\u001b[0m\n\u001b[1;32m    569\u001b[0m         \u001b[0mindex\u001b[0m \u001b[0;34m=\u001b[0m \u001b[0mself\u001b[0m\u001b[0;34m.\u001b[0m\u001b[0m_next_index\u001b[0m\u001b[0;34m(\u001b[0m\u001b[0;34m)\u001b[0m  \u001b[0;31m# may raise StopIteration\u001b[0m\u001b[0;34m\u001b[0m\u001b[0;34m\u001b[0m\u001b[0m\n\u001b[0;32m--> 570\u001b[0;31m         \u001b[0mdata\u001b[0m \u001b[0;34m=\u001b[0m \u001b[0mself\u001b[0m\u001b[0;34m.\u001b[0m\u001b[0m_dataset_fetcher\u001b[0m\u001b[0;34m.\u001b[0m\u001b[0mfetch\u001b[0m\u001b[0;34m(\u001b[0m\u001b[0mindex\u001b[0m\u001b[0;34m)\u001b[0m  \u001b[0;31m# may raise StopIteration\u001b[0m\u001b[0;34m\u001b[0m\u001b[0;34m\u001b[0m\u001b[0m\n\u001b[0m\u001b[1;32m    571\u001b[0m         \u001b[0;32mif\u001b[0m \u001b[0mself\u001b[0m\u001b[0;34m.\u001b[0m\u001b[0m_pin_memory\u001b[0m\u001b[0;34m:\u001b[0m\u001b[0;34m\u001b[0m\u001b[0;34m\u001b[0m\u001b[0m\n\u001b[1;32m    572\u001b[0m             \u001b[0mdata\u001b[0m \u001b[0;34m=\u001b[0m \u001b[0m_utils\u001b[0m\u001b[0;34m.\u001b[0m\u001b[0mpin_memory\u001b[0m\u001b[0;34m.\u001b[0m\u001b[0mpin_memory\u001b[0m\u001b[0;34m(\u001b[0m\u001b[0mdata\u001b[0m\u001b[0;34m)\u001b[0m\u001b[0;34m\u001b[0m\u001b[0;34m\u001b[0m\u001b[0m\n",
      "\u001b[0;32m~/Library/Python/3.8/lib/python/site-packages/torch/utils/data/_utils/fetch.py\u001b[0m in \u001b[0;36mfetch\u001b[0;34m(self, possibly_batched_index)\u001b[0m\n\u001b[1;32m     47\u001b[0m     \u001b[0;32mdef\u001b[0m \u001b[0mfetch\u001b[0m\u001b[0;34m(\u001b[0m\u001b[0mself\u001b[0m\u001b[0;34m,\u001b[0m \u001b[0mpossibly_batched_index\u001b[0m\u001b[0;34m)\u001b[0m\u001b[0;34m:\u001b[0m\u001b[0;34m\u001b[0m\u001b[0;34m\u001b[0m\u001b[0m\n\u001b[1;32m     48\u001b[0m         \u001b[0;32mif\u001b[0m \u001b[0mself\u001b[0m\u001b[0;34m.\u001b[0m\u001b[0mauto_collation\u001b[0m\u001b[0;34m:\u001b[0m\u001b[0;34m\u001b[0m\u001b[0;34m\u001b[0m\u001b[0m\n\u001b[0;32m---> 49\u001b[0;31m             \u001b[0mdata\u001b[0m \u001b[0;34m=\u001b[0m \u001b[0;34m[\u001b[0m\u001b[0mself\u001b[0m\u001b[0;34m.\u001b[0m\u001b[0mdataset\u001b[0m\u001b[0;34m[\u001b[0m\u001b[0midx\u001b[0m\u001b[0;34m]\u001b[0m \u001b[0;32mfor\u001b[0m \u001b[0midx\u001b[0m \u001b[0;32min\u001b[0m \u001b[0mpossibly_batched_index\u001b[0m\u001b[0;34m]\u001b[0m\u001b[0;34m\u001b[0m\u001b[0;34m\u001b[0m\u001b[0m\n\u001b[0m\u001b[1;32m     50\u001b[0m         \u001b[0;32melse\u001b[0m\u001b[0;34m:\u001b[0m\u001b[0;34m\u001b[0m\u001b[0;34m\u001b[0m\u001b[0m\n\u001b[1;32m     51\u001b[0m             \u001b[0mdata\u001b[0m \u001b[0;34m=\u001b[0m \u001b[0mself\u001b[0m\u001b[0;34m.\u001b[0m\u001b[0mdataset\u001b[0m\u001b[0;34m[\u001b[0m\u001b[0mpossibly_batched_index\u001b[0m\u001b[0;34m]\u001b[0m\u001b[0;34m\u001b[0m\u001b[0;34m\u001b[0m\u001b[0m\n",
      "\u001b[0;32m~/Library/Python/3.8/lib/python/site-packages/torch/utils/data/_utils/fetch.py\u001b[0m in \u001b[0;36m<listcomp>\u001b[0;34m(.0)\u001b[0m\n\u001b[1;32m     47\u001b[0m     \u001b[0;32mdef\u001b[0m \u001b[0mfetch\u001b[0m\u001b[0;34m(\u001b[0m\u001b[0mself\u001b[0m\u001b[0;34m,\u001b[0m \u001b[0mpossibly_batched_index\u001b[0m\u001b[0;34m)\u001b[0m\u001b[0;34m:\u001b[0m\u001b[0;34m\u001b[0m\u001b[0;34m\u001b[0m\u001b[0m\n\u001b[1;32m     48\u001b[0m         \u001b[0;32mif\u001b[0m \u001b[0mself\u001b[0m\u001b[0;34m.\u001b[0m\u001b[0mauto_collation\u001b[0m\u001b[0;34m:\u001b[0m\u001b[0;34m\u001b[0m\u001b[0;34m\u001b[0m\u001b[0m\n\u001b[0;32m---> 49\u001b[0;31m             \u001b[0mdata\u001b[0m \u001b[0;34m=\u001b[0m \u001b[0;34m[\u001b[0m\u001b[0mself\u001b[0m\u001b[0;34m.\u001b[0m\u001b[0mdataset\u001b[0m\u001b[0;34m[\u001b[0m\u001b[0midx\u001b[0m\u001b[0;34m]\u001b[0m \u001b[0;32mfor\u001b[0m \u001b[0midx\u001b[0m \u001b[0;32min\u001b[0m \u001b[0mpossibly_batched_index\u001b[0m\u001b[0;34m]\u001b[0m\u001b[0;34m\u001b[0m\u001b[0;34m\u001b[0m\u001b[0m\n\u001b[0m\u001b[1;32m     50\u001b[0m         \u001b[0;32melse\u001b[0m\u001b[0;34m:\u001b[0m\u001b[0;34m\u001b[0m\u001b[0;34m\u001b[0m\u001b[0m\n\u001b[1;32m     51\u001b[0m             \u001b[0mdata\u001b[0m \u001b[0;34m=\u001b[0m \u001b[0mself\u001b[0m\u001b[0;34m.\u001b[0m\u001b[0mdataset\u001b[0m\u001b[0;34m[\u001b[0m\u001b[0mpossibly_batched_index\u001b[0m\u001b[0;34m]\u001b[0m\u001b[0;34m\u001b[0m\u001b[0;34m\u001b[0m\u001b[0m\n",
      "\u001b[0;32m/var/folders/zw/rd1vhmbn34vgll3fpyhd2dwh0000gn/T/ipykernel_1496/576236965.py\u001b[0m in \u001b[0;36m__getitem__\u001b[0;34m(self, idx)\u001b[0m\n\u001b[1;32m     28\u001b[0m     \u001b[0;32mdef\u001b[0m \u001b[0m__getitem__\u001b[0m\u001b[0;34m(\u001b[0m\u001b[0mself\u001b[0m\u001b[0;34m,\u001b[0m \u001b[0midx\u001b[0m\u001b[0;34m)\u001b[0m\u001b[0;34m:\u001b[0m\u001b[0;34m\u001b[0m\u001b[0;34m\u001b[0m\u001b[0m\n\u001b[1;32m     29\u001b[0m         \u001b[0midx\u001b[0m \u001b[0;34m=\u001b[0m \u001b[0mself\u001b[0m\u001b[0;34m.\u001b[0m\u001b[0mindices\u001b[0m\u001b[0;34m[\u001b[0m\u001b[0midx\u001b[0m\u001b[0;34m]\u001b[0m\u001b[0;34m\u001b[0m\u001b[0;34m\u001b[0m\u001b[0m\n\u001b[0;32m---> 30\u001b[0;31m         \u001b[0;32mreturn\u001b[0m \u001b[0mself\u001b[0m\u001b[0;34m.\u001b[0m\u001b[0mmnist\u001b[0m\u001b[0;34m[\u001b[0m\u001b[0midx\u001b[0m\u001b[0;34m]\u001b[0m\u001b[0;34m\u001b[0m\u001b[0;34m\u001b[0m\u001b[0m\n\u001b[0m\u001b[1;32m     31\u001b[0m \u001b[0;34m\u001b[0m\u001b[0m\n\u001b[1;32m     32\u001b[0m \u001b[0;34m\u001b[0m\u001b[0m\n",
      "\u001b[0;32m~/Library/Python/3.8/lib/python/site-packages/torchvision/datasets/mnist.py\u001b[0m in \u001b[0;36m__getitem__\u001b[0;34m(self, index)\u001b[0m\n\u001b[1;32m    143\u001b[0m \u001b[0;34m\u001b[0m\u001b[0m\n\u001b[1;32m    144\u001b[0m         \u001b[0;32mif\u001b[0m \u001b[0mself\u001b[0m\u001b[0;34m.\u001b[0m\u001b[0mtransform\u001b[0m \u001b[0;32mis\u001b[0m \u001b[0;32mnot\u001b[0m \u001b[0;32mNone\u001b[0m\u001b[0;34m:\u001b[0m\u001b[0;34m\u001b[0m\u001b[0;34m\u001b[0m\u001b[0m\n\u001b[0;32m--> 145\u001b[0;31m             \u001b[0mimg\u001b[0m \u001b[0;34m=\u001b[0m \u001b[0mself\u001b[0m\u001b[0;34m.\u001b[0m\u001b[0mtransform\u001b[0m\u001b[0;34m(\u001b[0m\u001b[0mimg\u001b[0m\u001b[0;34m)\u001b[0m\u001b[0;34m\u001b[0m\u001b[0;34m\u001b[0m\u001b[0m\n\u001b[0m\u001b[1;32m    146\u001b[0m \u001b[0;34m\u001b[0m\u001b[0m\n\u001b[1;32m    147\u001b[0m         \u001b[0;32mif\u001b[0m \u001b[0mself\u001b[0m\u001b[0;34m.\u001b[0m\u001b[0mtarget_transform\u001b[0m \u001b[0;32mis\u001b[0m \u001b[0;32mnot\u001b[0m \u001b[0;32mNone\u001b[0m\u001b[0;34m:\u001b[0m\u001b[0;34m\u001b[0m\u001b[0;34m\u001b[0m\u001b[0m\n",
      "\u001b[0;32m~/Library/Python/3.8/lib/python/site-packages/torchvision/transforms/transforms.py\u001b[0m in \u001b[0;36m__call__\u001b[0;34m(self, img)\u001b[0m\n\u001b[1;32m     93\u001b[0m     \u001b[0;32mdef\u001b[0m \u001b[0m__call__\u001b[0m\u001b[0;34m(\u001b[0m\u001b[0mself\u001b[0m\u001b[0;34m,\u001b[0m \u001b[0mimg\u001b[0m\u001b[0;34m)\u001b[0m\u001b[0;34m:\u001b[0m\u001b[0;34m\u001b[0m\u001b[0;34m\u001b[0m\u001b[0m\n\u001b[1;32m     94\u001b[0m         \u001b[0;32mfor\u001b[0m \u001b[0mt\u001b[0m \u001b[0;32min\u001b[0m \u001b[0mself\u001b[0m\u001b[0;34m.\u001b[0m\u001b[0mtransforms\u001b[0m\u001b[0;34m:\u001b[0m\u001b[0;34m\u001b[0m\u001b[0;34m\u001b[0m\u001b[0m\n\u001b[0;32m---> 95\u001b[0;31m             \u001b[0mimg\u001b[0m \u001b[0;34m=\u001b[0m \u001b[0mt\u001b[0m\u001b[0;34m(\u001b[0m\u001b[0mimg\u001b[0m\u001b[0;34m)\u001b[0m\u001b[0;34m\u001b[0m\u001b[0;34m\u001b[0m\u001b[0m\n\u001b[0m\u001b[1;32m     96\u001b[0m         \u001b[0;32mreturn\u001b[0m \u001b[0mimg\u001b[0m\u001b[0;34m\u001b[0m\u001b[0;34m\u001b[0m\u001b[0m\n\u001b[1;32m     97\u001b[0m \u001b[0;34m\u001b[0m\u001b[0m\n",
      "\u001b[0;32m~/Library/Python/3.8/lib/python/site-packages/torchvision/transforms/transforms.py\u001b[0m in \u001b[0;36m__call__\u001b[0;34m(self, pic)\u001b[0m\n\u001b[1;32m    133\u001b[0m             \u001b[0mTensor\u001b[0m\u001b[0;34m:\u001b[0m \u001b[0mConverted\u001b[0m \u001b[0mimage\u001b[0m\u001b[0;34m.\u001b[0m\u001b[0;34m\u001b[0m\u001b[0;34m\u001b[0m\u001b[0m\n\u001b[1;32m    134\u001b[0m         \"\"\"\n\u001b[0;32m--> 135\u001b[0;31m         \u001b[0;32mreturn\u001b[0m \u001b[0mF\u001b[0m\u001b[0;34m.\u001b[0m\u001b[0mto_tensor\u001b[0m\u001b[0;34m(\u001b[0m\u001b[0mpic\u001b[0m\u001b[0;34m)\u001b[0m\u001b[0;34m\u001b[0m\u001b[0;34m\u001b[0m\u001b[0m\n\u001b[0m\u001b[1;32m    136\u001b[0m \u001b[0;34m\u001b[0m\u001b[0m\n\u001b[1;32m    137\u001b[0m     \u001b[0;32mdef\u001b[0m \u001b[0m__repr__\u001b[0m\u001b[0;34m(\u001b[0m\u001b[0mself\u001b[0m\u001b[0;34m)\u001b[0m \u001b[0;34m->\u001b[0m \u001b[0mstr\u001b[0m\u001b[0;34m:\u001b[0m\u001b[0;34m\u001b[0m\u001b[0;34m\u001b[0m\u001b[0m\n",
      "\u001b[0;32m~/Library/Python/3.8/lib/python/site-packages/torchvision/transforms/functional.py\u001b[0m in \u001b[0;36mto_tensor\u001b[0;34m(pic)\u001b[0m\n\u001b[1;32m    145\u001b[0m     \u001b[0;31m# handle PIL Image\u001b[0m\u001b[0;34m\u001b[0m\u001b[0;34m\u001b[0m\u001b[0;34m\u001b[0m\u001b[0m\n\u001b[1;32m    146\u001b[0m     \u001b[0mmode_to_nptype\u001b[0m \u001b[0;34m=\u001b[0m \u001b[0;34m{\u001b[0m\u001b[0;34m\"I\"\u001b[0m\u001b[0;34m:\u001b[0m \u001b[0mnp\u001b[0m\u001b[0;34m.\u001b[0m\u001b[0mint32\u001b[0m\u001b[0;34m,\u001b[0m \u001b[0;34m\"I;16\"\u001b[0m\u001b[0;34m:\u001b[0m \u001b[0mnp\u001b[0m\u001b[0;34m.\u001b[0m\u001b[0mint16\u001b[0m\u001b[0;34m,\u001b[0m \u001b[0;34m\"F\"\u001b[0m\u001b[0;34m:\u001b[0m \u001b[0mnp\u001b[0m\u001b[0;34m.\u001b[0m\u001b[0mfloat32\u001b[0m\u001b[0;34m}\u001b[0m\u001b[0;34m\u001b[0m\u001b[0;34m\u001b[0m\u001b[0m\n\u001b[0;32m--> 147\u001b[0;31m     \u001b[0mimg\u001b[0m \u001b[0;34m=\u001b[0m \u001b[0mtorch\u001b[0m\u001b[0;34m.\u001b[0m\u001b[0mfrom_numpy\u001b[0m\u001b[0;34m(\u001b[0m\u001b[0mnp\u001b[0m\u001b[0;34m.\u001b[0m\u001b[0marray\u001b[0m\u001b[0;34m(\u001b[0m\u001b[0mpic\u001b[0m\u001b[0;34m,\u001b[0m \u001b[0mmode_to_nptype\u001b[0m\u001b[0;34m.\u001b[0m\u001b[0mget\u001b[0m\u001b[0;34m(\u001b[0m\u001b[0mpic\u001b[0m\u001b[0;34m.\u001b[0m\u001b[0mmode\u001b[0m\u001b[0;34m,\u001b[0m \u001b[0mnp\u001b[0m\u001b[0;34m.\u001b[0m\u001b[0muint8\u001b[0m\u001b[0;34m)\u001b[0m\u001b[0;34m,\u001b[0m \u001b[0mcopy\u001b[0m\u001b[0;34m=\u001b[0m\u001b[0;32mTrue\u001b[0m\u001b[0;34m)\u001b[0m\u001b[0;34m)\u001b[0m\u001b[0;34m\u001b[0m\u001b[0;34m\u001b[0m\u001b[0m\n\u001b[0m\u001b[1;32m    148\u001b[0m \u001b[0;34m\u001b[0m\u001b[0m\n\u001b[1;32m    149\u001b[0m     \u001b[0;32mif\u001b[0m \u001b[0mpic\u001b[0m\u001b[0;34m.\u001b[0m\u001b[0mmode\u001b[0m \u001b[0;34m==\u001b[0m \u001b[0;34m\"1\"\u001b[0m\u001b[0;34m:\u001b[0m\u001b[0;34m\u001b[0m\u001b[0;34m\u001b[0m\u001b[0m\n",
      "\u001b[0;32m~/Library/Python/3.8/lib/python/site-packages/PIL/Image.py\u001b[0m in \u001b[0;36m__array_interface__\u001b[0;34m(self)\u001b[0m\n\u001b[1;32m    684\u001b[0m         \u001b[0;32mreturn\u001b[0m \u001b[0mself\u001b[0m\u001b[0;34m.\u001b[0m\u001b[0m_repr_image\u001b[0m\u001b[0;34m(\u001b[0m\u001b[0;34m\"JPEG\"\u001b[0m\u001b[0;34m)\u001b[0m\u001b[0;34m\u001b[0m\u001b[0;34m\u001b[0m\u001b[0m\n\u001b[1;32m    685\u001b[0m \u001b[0;34m\u001b[0m\u001b[0m\n\u001b[0;32m--> 686\u001b[0;31m     \u001b[0;34m@\u001b[0m\u001b[0mproperty\u001b[0m\u001b[0;34m\u001b[0m\u001b[0;34m\u001b[0m\u001b[0m\n\u001b[0m\u001b[1;32m    687\u001b[0m     \u001b[0;32mdef\u001b[0m \u001b[0m__array_interface__\u001b[0m\u001b[0;34m(\u001b[0m\u001b[0mself\u001b[0m\u001b[0;34m)\u001b[0m\u001b[0;34m:\u001b[0m\u001b[0;34m\u001b[0m\u001b[0;34m\u001b[0m\u001b[0m\n\u001b[1;32m    688\u001b[0m         \u001b[0;31m# numpy array interface support\u001b[0m\u001b[0;34m\u001b[0m\u001b[0;34m\u001b[0m\u001b[0;34m\u001b[0m\u001b[0m\n",
      "\u001b[0;31mKeyboardInterrupt\u001b[0m: "
     ]
    }
   ],
   "source": [
    "G = Generator().to(device=device)\n",
    "D = Discriminator().to(device=device)\n",
    "# criterion = nn.BCELoss()\n",
    "# loss_function = nn.BCELoss()\n",
    "loss_function = WeightedVarianceBCE()\n",
    "learning_rate_G = 0.0001\n",
    "learning_rate_D = 0.0001\n",
    "# lr = 0.0001\n",
    "NUM_EPOCHS = 50\n",
    "\n",
    "import math \n",
    "NUM_BATCHES = math.ceil(len(train_loader.dataset)/train_loader.batch_size)\n",
    "print(f'NUM_BATCHES: {NUM_BATCHES}')\n",
    "D_optimizer = torch.optim.Adam(D.parameters(), lr=learning_rate_G)\n",
    "G_optimizer = torch.optim.Adam(G.parameters(), lr=learning_rate_D)\n",
    "\n",
    "max_lr = 0.00015\n",
    "\n",
    "scheduler_D = OneCycleLR(D_optimizer, max_lr=max_lr, total_steps=NUM_EPOCHS * NUM_BATCHES)\n",
    "scheduler_G = OneCycleLR(G_optimizer, max_lr=max_lr, total_steps=NUM_EPOCHS * NUM_BATCHES)\n",
    "\n",
    "# save_path = '/Users/serafim/Desktop/Job/projects/science/hse/GAN-Estimation-Uncertainty/uncertainty/custom_mnist_tests'\n",
    "NAME = 'base_wgan__lr_0,0001__1_3'\n",
    "\n",
    "D_losses_final, G_losses_final = train(\n",
    "    num_epochs = NUM_EPOCHS,\n",
    "    data_loader = train_loader,\n",
    "    D = D,\n",
    "    G = G,\n",
    "    D_optimizer = D_optimizer,\n",
    "    G_optimizer = G_optimizer, \n",
    "    criterion = loss_function,\n",
    "    device = device,\n",
    "    name = NAME, \n",
    "    save_path = save_path, \n",
    "    progress_generator = True,\n",
    "    plot_process = True,\n",
    "    info_n = 1,\n",
    "    classifier = CLASSIFIER,\n",
    "    fid = True,\n",
    "    fid_dataset = train_loader,\n",
    "    weights_bce = True,\n",
    "    test_fid = True,\n",
    "    scheduler_D = scheduler_D,\n",
    "    scheduler_G = scheduler_G\n",
    ")\n",
    "# plot_sine(G, save_path = save_path, name = NAME)\n"
   ]
  },
  {
   "cell_type": "code",
   "execution_count": null,
   "id": "19de36f5-5728-47c9-a298-e8bfd6aca8af",
   "metadata": {},
   "outputs": [],
   "source": [
    "save_model(G, save_path, NAME, name2 = 'Generator')\n",
    "save_model(D, save_path, NAME, name2 = 'Discriminator')"
   ]
  },
  {
   "cell_type": "markdown",
   "id": "69fe1a82-d414-4b0d-9060-1bb4fc434e77",
   "metadata": {},
   "source": [
    "### Training without weights"
   ]
  },
  {
   "cell_type": "code",
   "execution_count": 150,
   "id": "5975ea36-beb0-4407-b4e8-46afa89cd993",
   "metadata": {
    "collapsed": true,
    "jupyter": {
     "outputs_hidden": true
    },
    "tags": []
   },
   "outputs": [
    {
     "name": "stdout",
     "output_type": "stream",
     "text": [
      "NUM_BATCHES: 1404\n",
      "Folder 'base_gan__lr_0,0001__1_6' created at '/Users/serafim/Desktop/Job/projects/science/hse/GAN-Estimation-Uncertainty/uncertainty/custom_mnist_tests'.\n",
      "{0: 952.1810989183673, 1: 664.2314306518855, 2: 1259.3929442281267, 3: 1276.2262913926259, 4: 1413.296977773921, 5: 1077.0530068345233, 6: 1175.0033123915562, 7: 954.9084633166467, 8: 1088.1589549142857, 9: 1101.5715726670264} {0: 194.95508573477355, 1: 112.43296873782299, 2: 362.8427733296892, 3: 256.1489598496571, 4: 261.52561546923357, 5: 299.4418007798358, 6: 224.00856141499364, 7: 265.13685687133426, 8: 309.904377277567, 9: 215.457192784214}\n"
     ]
    },
    {
     "name": "stderr",
     "output_type": "stream",
     "text": [
      "  0%|                                                                       | 0/50 [00:00<?, ?it/s]"
     ]
    },
    {
     "name": "stdout",
     "output_type": "stream",
     "text": [
      "without weights\n",
      "epoch [0/50], average D_loss: 0.6208, average G_loss: 0.5782\n",
      "calssifier: loss CE -- 12.598875975036622, accuracy -- 10.0\n"
     ]
    },
    {
     "name": "stderr",
     "output_type": "stream",
     "text": [
      "  2%|█▏                                                           | 1/50 [01:38<1:20:04, 98.05s/it]"
     ]
    },
    {
     "name": "stdout",
     "output_type": "stream",
     "text": [
      "without weights\n",
      "epoch [1/50], average D_loss: 0.4828, average G_loss: 1.0001\n",
      "calssifier: loss CE -- 15.97602526397705, accuracy -- 10.0\n"
     ]
    },
    {
     "name": "stderr",
     "output_type": "stream",
     "text": [
      "  4%|██▍                                                          | 2/50 [03:15<1:18:16, 97.85s/it]"
     ]
    },
    {
     "name": "stdout",
     "output_type": "stream",
     "text": [
      "without weights\n",
      "epoch [2/50], average D_loss: 0.2257, average G_loss: 2.2974\n",
      "calssifier: loss CE -- 10.719432341003419, accuracy -- 10.01\n"
     ]
    },
    {
     "name": "stderr",
     "output_type": "stream",
     "text": [
      "  6%|███▋                                                         | 3/50 [04:53<1:16:31, 97.69s/it]"
     ]
    },
    {
     "name": "stdout",
     "output_type": "stream",
     "text": [
      "without weights\n",
      "epoch [3/50], average D_loss: 0.2644, average G_loss: 2.5252\n",
      "calssifier: loss CE -- 9.834565473937989, accuracy -- 9.99\n"
     ]
    },
    {
     "name": "stderr",
     "output_type": "stream",
     "text": [
      "  8%|████▉                                                        | 4/50 [06:30<1:14:42, 97.46s/it]"
     ]
    },
    {
     "name": "stdout",
     "output_type": "stream",
     "text": [
      "without weights\n",
      "epoch [4/50], average D_loss: 0.2638, average G_loss: 2.8181\n",
      "calssifier: loss CE -- 6.507478345489502, accuracy -- 12.91\n"
     ]
    },
    {
     "name": "stderr",
     "output_type": "stream",
     "text": [
      " 10%|██████                                                       | 5/50 [08:10<1:13:50, 98.44s/it]"
     ]
    },
    {
     "name": "stdout",
     "output_type": "stream",
     "text": [
      "without weights\n",
      "epoch [5/50], average D_loss: 0.3443, average G_loss: 2.3565\n",
      "calssifier: loss CE -- 4.48578660736084, accuracy -- 22.67\n"
     ]
    },
    {
     "name": "stderr",
     "output_type": "stream",
     "text": [
      " 12%|███████▎                                                     | 6/50 [09:48<1:11:58, 98.14s/it]"
     ]
    },
    {
     "name": "stdout",
     "output_type": "stream",
     "text": [
      "without weights\n",
      "epoch [6/50], average D_loss: 0.3108, average G_loss: 2.6429\n",
      "calssifier: loss CE -- 4.747601499938964, accuracy -- 17.68\n"
     ]
    },
    {
     "name": "stderr",
     "output_type": "stream",
     "text": [
      " 14%|████████▌                                                    | 7/50 [11:26<1:10:16, 98.06s/it]"
     ]
    },
    {
     "name": "stdout",
     "output_type": "stream",
     "text": [
      "without weights\n",
      "epoch [7/50], average D_loss: 0.3808, average G_loss: 2.1155\n",
      "calssifier: loss CE -- 3.143770023727417, accuracy -- 38.74\n"
     ]
    },
    {
     "name": "stderr",
     "output_type": "stream",
     "text": [
      " 16%|█████████▊                                                   | 8/50 [13:04<1:08:39, 98.08s/it]"
     ]
    },
    {
     "name": "stdout",
     "output_type": "stream",
     "text": [
      "without weights\n",
      "epoch [8/50], average D_loss: 0.4520, average G_loss: 1.6659\n",
      "calssifier: loss CE -- 3.061079365539551, accuracy -- 41.949999999999996\n"
     ]
    },
    {
     "name": "stderr",
     "output_type": "stream",
     "text": [
      " 18%|██████████▉                                                  | 9/50 [14:42<1:07:01, 98.08s/it]"
     ]
    },
    {
     "name": "stdout",
     "output_type": "stream",
     "text": [
      "without weights\n",
      "epoch [9/50], average D_loss: 0.5022, average G_loss: 1.3995\n",
      "calssifier: loss CE -- 2.950967380142212, accuracy -- 41.06\n"
     ]
    },
    {
     "name": "stderr",
     "output_type": "stream",
     "text": [
      " 20%|████████████                                                | 10/50 [16:20<1:05:23, 98.10s/it]"
     ]
    },
    {
     "name": "stdout",
     "output_type": "stream",
     "text": [
      "without weights\n",
      "epoch [10/50], average D_loss: 0.4924, average G_loss: 1.4629\n",
      "calssifier: loss CE -- 2.894771407318115, accuracy -- 44.18\n"
     ]
    },
    {
     "name": "stderr",
     "output_type": "stream",
     "text": [
      " 22%|█████████████▏                                              | 11/50 [17:58<1:03:41, 97.98s/it]"
     ]
    },
    {
     "name": "stdout",
     "output_type": "stream",
     "text": [
      "without weights\n",
      "epoch [11/50], average D_loss: 0.5337, average G_loss: 1.2324\n",
      "calssifier: loss CE -- 2.8186855567932128, accuracy -- 46.1\n"
     ]
    },
    {
     "name": "stderr",
     "output_type": "stream",
     "text": [
      " 24%|██████████████▍                                             | 12/50 [19:35<1:01:58, 97.86s/it]"
     ]
    },
    {
     "name": "stdout",
     "output_type": "stream",
     "text": [
      "without weights\n",
      "epoch [12/50], average D_loss: 0.5490, average G_loss: 1.1893\n",
      "calssifier: loss CE -- 2.6912651958465577, accuracy -- 47.410000000000004\n"
     ]
    },
    {
     "name": "stderr",
     "output_type": "stream",
     "text": [
      " 26%|███████████████▌                                            | 13/50 [21:13<1:00:20, 97.84s/it]"
     ]
    },
    {
     "name": "stdout",
     "output_type": "stream",
     "text": [
      "without weights\n",
      "epoch [13/50], average D_loss: 0.5538, average G_loss: 1.1528\n",
      "calssifier: loss CE -- 2.4336718910217283, accuracy -- 52.83\n"
     ]
    },
    {
     "name": "stderr",
     "output_type": "stream",
     "text": [
      " 28%|█████████████████▎                                            | 14/50 [22:51<58:49, 98.06s/it]"
     ]
    },
    {
     "name": "stdout",
     "output_type": "stream",
     "text": [
      "without weights\n",
      "epoch [14/50], average D_loss: 0.5772, average G_loss: 1.0653\n",
      "calssifier: loss CE -- 1.8918819845199586, accuracy -- 62.970000000000006\n"
     ]
    },
    {
     "name": "stderr",
     "output_type": "stream",
     "text": [
      " 30%|██████████████████▌                                           | 15/50 [24:29<57:02, 97.80s/it]"
     ]
    },
    {
     "name": "stdout",
     "output_type": "stream",
     "text": [
      "without weights\n",
      "epoch [15/50], average D_loss: 0.6038, average G_loss: 0.9791\n",
      "calssifier: loss CE -- 1.5104483912467956, accuracy -- 66.18\n"
     ]
    },
    {
     "name": "stderr",
     "output_type": "stream",
     "text": [
      " 32%|███████████████████▊                                          | 16/50 [26:06<55:18, 97.60s/it]"
     ]
    },
    {
     "name": "stdout",
     "output_type": "stream",
     "text": [
      "without weights\n",
      "epoch [16/50], average D_loss: 0.6175, average G_loss: 0.9352\n",
      "calssifier: loss CE -- 1.4160032861709595, accuracy -- 66.31\n"
     ]
    },
    {
     "name": "stderr",
     "output_type": "stream",
     "text": [
      " 34%|█████████████████████                                         | 17/50 [27:43<53:36, 97.46s/it]"
     ]
    },
    {
     "name": "stdout",
     "output_type": "stream",
     "text": [
      "without weights\n",
      "epoch [17/50], average D_loss: 0.6271, average G_loss: 0.9047\n",
      "calssifier: loss CE -- 0.9008567312240601, accuracy -- 77.17\n"
     ]
    },
    {
     "name": "stderr",
     "output_type": "stream",
     "text": [
      " 36%|██████████████████████▎                                       | 18/50 [29:20<51:55, 97.37s/it]"
     ]
    },
    {
     "name": "stdout",
     "output_type": "stream",
     "text": [
      "without weights\n",
      "epoch [18/50], average D_loss: 0.6255, average G_loss: 0.8980\n",
      "calssifier: loss CE -- 0.8246816999435425, accuracy -- 80.47999999999999\n"
     ]
    },
    {
     "name": "stderr",
     "output_type": "stream",
     "text": [
      " 38%|███████████████████████▌                                      | 19/50 [30:57<50:13, 97.22s/it]"
     ]
    },
    {
     "name": "stdout",
     "output_type": "stream",
     "text": [
      "without weights\n",
      "epoch [19/50], average D_loss: 0.6312, average G_loss: 0.8840\n",
      "calssifier: loss CE -- 0.975721423625946, accuracy -- 75.24\n"
     ]
    },
    {
     "name": "stderr",
     "output_type": "stream",
     "text": [
      " 40%|████████████████████████▊                                     | 20/50 [32:34<48:37, 97.25s/it]"
     ]
    },
    {
     "name": "stdout",
     "output_type": "stream",
     "text": [
      "without weights\n",
      "epoch [20/50], average D_loss: 0.6263, average G_loss: 0.9028\n",
      "calssifier: loss CE -- 1.1908021913528442, accuracy -- 70.94\n"
     ]
    },
    {
     "name": "stderr",
     "output_type": "stream",
     "text": [
      " 42%|██████████████████████████                                    | 21/50 [34:11<46:57, 97.16s/it]"
     ]
    },
    {
     "name": "stdout",
     "output_type": "stream",
     "text": [
      "without weights\n",
      "epoch [21/50], average D_loss: 0.6350, average G_loss: 0.8743\n",
      "calssifier: loss CE -- 0.5813988325834274, accuracy -- 84.07\n"
     ]
    },
    {
     "name": "stderr",
     "output_type": "stream",
     "text": [
      " 44%|███████████████████████████▎                                  | 22/50 [35:48<45:19, 97.11s/it]"
     ]
    },
    {
     "name": "stdout",
     "output_type": "stream",
     "text": [
      "without weights\n",
      "epoch [22/50], average D_loss: 0.6414, average G_loss: 0.8585\n",
      "calssifier: loss CE -- 0.5783075961947441, accuracy -- 84.57000000000001\n"
     ]
    },
    {
     "name": "stderr",
     "output_type": "stream",
     "text": [
      " 46%|████████████████████████████▌                                 | 23/50 [37:27<43:53, 97.53s/it]"
     ]
    },
    {
     "name": "stdout",
     "output_type": "stream",
     "text": [
      "without weights\n",
      "epoch [23/50], average D_loss: 0.6445, average G_loss: 0.8509\n",
      "calssifier: loss CE -- 0.6893581768751145, accuracy -- 82.13000000000001\n"
     ]
    },
    {
     "name": "stderr",
     "output_type": "stream",
     "text": [
      " 48%|█████████████████████████████▊                                | 24/50 [39:11<43:09, 99.61s/it]"
     ]
    },
    {
     "name": "stdout",
     "output_type": "stream",
     "text": [
      "without weights\n",
      "epoch [24/50], average D_loss: 0.6449, average G_loss: 0.8430\n",
      "calssifier: loss CE -- 0.6556534551143646, accuracy -- 82.67999999999999\n"
     ]
    },
    {
     "name": "stderr",
     "output_type": "stream",
     "text": [
      " 50%|███████████████████████████████                               | 25/50 [40:51<41:29, 99.57s/it]"
     ]
    },
    {
     "name": "stdout",
     "output_type": "stream",
     "text": [
      "without weights\n",
      "epoch [25/50], average D_loss: 0.6397, average G_loss: 0.8656\n",
      "calssifier: loss CE -- 0.761998677110672, accuracy -- 79.9\n"
     ]
    },
    {
     "name": "stderr",
     "output_type": "stream",
     "text": [
      " 52%|███████████████████████████████▋                             | 26/50 [42:32<40:01, 100.07s/it]"
     ]
    },
    {
     "name": "stdout",
     "output_type": "stream",
     "text": [
      "without weights\n",
      "epoch [26/50], average D_loss: 0.6473, average G_loss: 0.8414\n",
      "calssifier: loss CE -- 0.5500312265813351, accuracy -- 85.47\n"
     ]
    },
    {
     "name": "stderr",
     "output_type": "stream",
     "text": [
      " 54%|█████████████████████████████████▍                            | 27/50 [44:10<38:08, 99.52s/it]"
     ]
    },
    {
     "name": "stdout",
     "output_type": "stream",
     "text": [
      "without weights\n",
      "epoch [27/50], average D_loss: 0.6480, average G_loss: 0.8395\n",
      "calssifier: loss CE -- 0.44937722071409225, accuracy -- 87.06\n"
     ]
    },
    {
     "name": "stderr",
     "output_type": "stream",
     "text": [
      " 56%|██████████████████████████████████▋                           | 28/50 [45:50<36:33, 99.71s/it]"
     ]
    },
    {
     "name": "stdout",
     "output_type": "stream",
     "text": [
      "without weights\n",
      "epoch [28/50], average D_loss: 0.6519, average G_loss: 0.8239\n",
      "calssifier: loss CE -- 0.31500881707668305, accuracy -- 90.92\n"
     ]
    },
    {
     "name": "stderr",
     "output_type": "stream",
     "text": [
      " 58%|███████████████████████████████████▍                         | 29/50 [47:36<35:28, 101.36s/it]"
     ]
    },
    {
     "name": "stdout",
     "output_type": "stream",
     "text": [
      "without weights\n",
      "epoch [29/50], average D_loss: 0.6549, average G_loss: 0.8195\n",
      "calssifier: loss CE -- 0.49718663989305495, accuracy -- 85.61999999999999\n"
     ]
    },
    {
     "name": "stderr",
     "output_type": "stream",
     "text": [
      " 60%|████████████████████████████████████▌                        | 30/50 [49:17<33:45, 101.27s/it]"
     ]
    },
    {
     "name": "stdout",
     "output_type": "stream",
     "text": [
      "without weights\n",
      "epoch [30/50], average D_loss: 0.6570, average G_loss: 0.8077\n",
      "calssifier: loss CE -- 0.47908610259890555, accuracy -- 86.44\n"
     ]
    },
    {
     "name": "stderr",
     "output_type": "stream",
     "text": [
      " 62%|█████████████████████████████████████▊                       | 31/50 [51:01<32:20, 102.15s/it]"
     ]
    },
    {
     "name": "stdout",
     "output_type": "stream",
     "text": [
      "without weights\n",
      "epoch [31/50], average D_loss: 0.6544, average G_loss: 0.8306\n",
      "calssifier: loss CE -- 0.5062911327004432, accuracy -- 87.32\n"
     ]
    },
    {
     "name": "stderr",
     "output_type": "stream",
     "text": [
      " 64%|███████████████████████████████████████                      | 32/50 [52:43<30:41, 102.30s/it]"
     ]
    },
    {
     "name": "stdout",
     "output_type": "stream",
     "text": [
      "without weights\n",
      "epoch [32/50], average D_loss: 0.6500, average G_loss: 0.8325\n",
      "calssifier: loss CE -- 0.3487948504447937, accuracy -- 89.75999999999999\n"
     ]
    },
    {
     "name": "stderr",
     "output_type": "stream",
     "text": [
      " 66%|████████████████████████████████████████▎                    | 33/50 [54:30<29:19, 103.48s/it]"
     ]
    },
    {
     "name": "stdout",
     "output_type": "stream",
     "text": [
      "without weights\n",
      "epoch [33/50], average D_loss: 0.6554, average G_loss: 0.8127\n",
      "calssifier: loss CE -- 0.3418283471047878, accuracy -- 90.78\n"
     ]
    },
    {
     "name": "stderr",
     "output_type": "stream",
     "text": [
      " 68%|█████████████████████████████████████████▍                   | 34/50 [56:15<27:42, 103.89s/it]"
     ]
    },
    {
     "name": "stdout",
     "output_type": "stream",
     "text": [
      "without weights\n",
      "epoch [34/50], average D_loss: 0.6542, average G_loss: 0.8129\n",
      "calssifier: loss CE -- 0.3150515723645687, accuracy -- 91.74\n"
     ]
    },
    {
     "name": "stderr",
     "output_type": "stream",
     "text": [
      " 70%|██████████████████████████████████████████▋                  | 35/50 [57:59<26:00, 104.05s/it]"
     ]
    },
    {
     "name": "stdout",
     "output_type": "stream",
     "text": [
      "without weights\n",
      "epoch [35/50], average D_loss: 0.6573, average G_loss: 0.8035\n",
      "calssifier: loss CE -- 0.37649531146734955, accuracy -- 90.05\n"
     ]
    },
    {
     "name": "stderr",
     "output_type": "stream",
     "text": [
      " 72%|███████████████████████████████████████████▉                 | 36/50 [59:41<24:09, 103.53s/it]"
     ]
    },
    {
     "name": "stdout",
     "output_type": "stream",
     "text": [
      "without weights\n",
      "epoch [36/50], average D_loss: 0.6552, average G_loss: 0.8015\n",
      "calssifier: loss CE -- 0.3798559166114777, accuracy -- 89.3\n"
     ]
    },
    {
     "name": "stderr",
     "output_type": "stream",
     "text": [
      " 74%|███████████████████████████████████████████▋               | 37/50 [1:01:26<22:29, 103.77s/it]"
     ]
    },
    {
     "name": "stdout",
     "output_type": "stream",
     "text": [
      "without weights\n",
      "epoch [37/50], average D_loss: 0.6548, average G_loss: 0.8028\n",
      "calssifier: loss CE -- 0.41945975774079564, accuracy -- 89.67\n"
     ]
    },
    {
     "name": "stderr",
     "output_type": "stream",
     "text": [
      " 76%|████████████████████████████████████████████▊              | 38/50 [1:03:08<20:40, 103.36s/it]"
     ]
    },
    {
     "name": "stdout",
     "output_type": "stream",
     "text": [
      "without weights\n",
      "epoch [38/50], average D_loss: 0.6543, average G_loss: 0.8018\n",
      "calssifier: loss CE -- 0.33434907580316064, accuracy -- 90.74\n"
     ]
    },
    {
     "name": "stderr",
     "output_type": "stream",
     "text": [
      " 78%|██████████████████████████████████████████████             | 39/50 [1:04:52<18:59, 103.60s/it]"
     ]
    },
    {
     "name": "stdout",
     "output_type": "stream",
     "text": [
      "without weights\n",
      "epoch [39/50], average D_loss: 0.6616, average G_loss: 0.7811\n",
      "calssifier: loss CE -- 0.23316906498074533, accuracy -- 93.16\n"
     ]
    },
    {
     "name": "stderr",
     "output_type": "stream",
     "text": [
      " 80%|███████████████████████████████████████████████▏           | 40/50 [1:06:36<17:15, 103.60s/it]"
     ]
    },
    {
     "name": "stdout",
     "output_type": "stream",
     "text": [
      "without weights\n",
      "epoch [40/50], average D_loss: 0.6597, average G_loss: 0.7826\n",
      "calssifier: loss CE -- 0.22768217951357364, accuracy -- 93.11\n"
     ]
    },
    {
     "name": "stderr",
     "output_type": "stream",
     "text": [
      " 82%|████████████████████████████████████████████████▍          | 41/50 [1:08:17<15:27, 103.01s/it]"
     ]
    },
    {
     "name": "stdout",
     "output_type": "stream",
     "text": [
      "without weights\n",
      "epoch [41/50], average D_loss: 0.6594, average G_loss: 0.7783\n",
      "calssifier: loss CE -- 0.16105297398939727, accuracy -- 94.78\n"
     ]
    },
    {
     "name": "stderr",
     "output_type": "stream",
     "text": [
      " 84%|█████████████████████████████████████████████████▌         | 42/50 [1:10:01<13:45, 103.23s/it]"
     ]
    },
    {
     "name": "stdout",
     "output_type": "stream",
     "text": [
      "without weights\n",
      "epoch [42/50], average D_loss: 0.6610, average G_loss: 0.7732\n",
      "calssifier: loss CE -- 0.23598578940741718, accuracy -- 93.08999999999999\n"
     ]
    },
    {
     "name": "stderr",
     "output_type": "stream",
     "text": [
      " 86%|██████████████████████████████████████████████████▋        | 43/50 [1:11:41<11:55, 102.22s/it]"
     ]
    },
    {
     "name": "stdout",
     "output_type": "stream",
     "text": [
      "without weights\n",
      "epoch [43/50], average D_loss: 0.6616, average G_loss: 0.7690\n",
      "calssifier: loss CE -- 0.24060354747921228, accuracy -- 92.65\n"
     ]
    },
    {
     "name": "stderr",
     "output_type": "stream",
     "text": [
      " 88%|███████████████████████████████████████████████████▉       | 44/50 [1:13:19<10:06, 101.03s/it]"
     ]
    },
    {
     "name": "stdout",
     "output_type": "stream",
     "text": [
      "without weights\n",
      "epoch [44/50], average D_loss: 0.6603, average G_loss: 0.7731\n",
      "calssifier: loss CE -- 0.2535349397642538, accuracy -- 92.86999999999999\n"
     ]
    },
    {
     "name": "stderr",
     "output_type": "stream",
     "text": [
      " 90%|█████████████████████████████████████████████████████      | 45/50 [1:15:02<08:27, 101.56s/it]"
     ]
    },
    {
     "name": "stdout",
     "output_type": "stream",
     "text": [
      "without weights\n",
      "epoch [45/50], average D_loss: 0.6618, average G_loss: 0.7725\n",
      "calssifier: loss CE -- 0.24864015426784755, accuracy -- 92.97\n"
     ]
    },
    {
     "name": "stderr",
     "output_type": "stream",
     "text": [
      " 92%|██████████████████████████████████████████████████████▎    | 46/50 [1:16:42<06:44, 101.09s/it]"
     ]
    },
    {
     "name": "stdout",
     "output_type": "stream",
     "text": [
      "without weights\n",
      "epoch [46/50], average D_loss: 0.6600, average G_loss: 0.7736\n",
      "calssifier: loss CE -- 0.30527580855339764, accuracy -- 91.63\n"
     ]
    },
    {
     "name": "stderr",
     "output_type": "stream",
     "text": [
      " 94%|███████████████████████████████████████████████████████▍   | 47/50 [1:18:22<05:02, 100.71s/it]"
     ]
    },
    {
     "name": "stdout",
     "output_type": "stream",
     "text": [
      "without weights\n",
      "epoch [47/50], average D_loss: 0.6606, average G_loss: 0.7744\n",
      "calssifier: loss CE -- 0.3356298503249884, accuracy -- 91.14999999999999\n"
     ]
    },
    {
     "name": "stderr",
     "output_type": "stream",
     "text": [
      " 96%|████████████████████████████████████████████████████████▋  | 48/50 [1:20:04<03:22, 101.07s/it]"
     ]
    },
    {
     "name": "stdout",
     "output_type": "stream",
     "text": [
      "without weights\n",
      "epoch [48/50], average D_loss: 0.6595, average G_loss: 0.7715\n",
      "calssifier: loss CE -- 0.2698442070990801, accuracy -- 92.7\n"
     ]
    },
    {
     "name": "stderr",
     "output_type": "stream",
     "text": [
      " 98%|█████████████████████████████████████████████████████████▊ | 49/50 [1:21:45<01:41, 101.03s/it]"
     ]
    },
    {
     "name": "stdout",
     "output_type": "stream",
     "text": [
      "without weights\n",
      "epoch [49/50], average D_loss: 0.6598, average G_loss: 0.7703\n",
      "calssifier: loss CE -- 0.28706757837086916, accuracy -- 92.13\n"
     ]
    },
    {
     "name": "stderr",
     "output_type": "stream",
     "text": [
      "100%|███████████████████████████████████████████████████████████| 50/50 [1:23:24<00:00, 100.09s/it]\n"
     ]
    }
   ],
   "source": [
    "G = Generator().to(device=device)\n",
    "D = Discriminator().to(device=device)\n",
    "# criterion = nn.BCELoss()\n",
    "# loss_function = nn.BCELoss()\n",
    "loss_function = WeightedVarianceBCE()\n",
    "learning_rate_G = 0.0001\n",
    "learning_rate_D = 0.0001\n",
    "# lr = 0.0001\n",
    "NUM_EPOCHS = 50\n",
    "\n",
    "import math \n",
    "NUM_BATCHES = math.ceil(len(train_loader.dataset)/train_loader.batch_size)\n",
    "print(f'NUM_BATCHES: {NUM_BATCHES}')\n",
    "D_optimizer = torch.optim.Adam(D.parameters(), lr=learning_rate_G)\n",
    "G_optimizer = torch.optim.Adam(G.parameters(), lr=learning_rate_D)\n",
    "\n",
    "max_lr = 0.00015\n",
    "\n",
    "scheduler_D = OneCycleLR(D_optimizer, max_lr=max_lr, total_steps=NUM_EPOCHS * NUM_BATCHES)\n",
    "scheduler_G = OneCycleLR(G_optimizer, max_lr=max_lr, total_steps=NUM_EPOCHS * NUM_BATCHES)\n",
    "\n",
    "NAME = 'base_gan__lr_0,0001__1_6'\n",
    "\n",
    "D_losses_final, G_losses_final = train(\n",
    "    num_epochs = NUM_EPOCHS,\n",
    "    data_loader = train_loader,\n",
    "    D = D,\n",
    "    G = G,\n",
    "    D_optimizer = D_optimizer,\n",
    "    G_optimizer = G_optimizer, \n",
    "    criterion = loss_function,\n",
    "    device = device,\n",
    "    name = NAME, \n",
    "    save_path = save_path, \n",
    "    progress_generator = True,\n",
    "    plot_process = True,\n",
    "    info_n = 1,\n",
    "    classifier = CLASSIFIER,\n",
    "    fid = True,\n",
    "    fid_dataset = train_loader,\n",
    "    weights_bce = False,\n",
    "    test_fid = True,\n",
    "    scheduler_D = scheduler_D,\n",
    "    scheduler_G = scheduler_G\n",
    ")\n"
   ]
  },
  {
   "cell_type": "markdown",
   "id": "4a86028a-8d11-4a83-b2e0-0a62acf33bb0",
   "metadata": {},
   "source": [
    "Save model"
   ]
  },
  {
   "cell_type": "code",
   "execution_count": 151,
   "id": "aa45bc6f-858a-4cf1-9532-3814cb41bbe4",
   "metadata": {},
   "outputs": [
    {
     "name": "stdout",
     "output_type": "stream",
     "text": [
      "Model saved at: /Users/serafim/Desktop/Job/projects/science/hse/GAN-Estimation-Uncertainty/uncertainty/custom_mnist_tests/base_gan__lr_0,0001__1_6/Generator\n",
      "Model saved at: /Users/serafim/Desktop/Job/projects/science/hse/GAN-Estimation-Uncertainty/uncertainty/custom_mnist_tests/base_gan__lr_0,0001__1_6/Discriminator\n"
     ]
    }
   ],
   "source": [
    "save_model(G, save_path, NAME, name2 = 'Generator')\n",
    "save_model(D, save_path, NAME, name2 = 'Discriminator')"
   ]
  },
  {
   "cell_type": "code",
   "execution_count": 152,
   "id": "5a99a786-ec0b-4ad9-af4a-f1aa0a695890",
   "metadata": {
    "collapsed": true,
    "jupyter": {
     "outputs_hidden": true
    },
    "tags": []
   },
   "outputs": [
    {
     "name": "stdout",
     "output_type": "stream",
     "text": [
      "NUM_BATCHES: 1404\n",
      "Folder 'base_gan__lr_0,0001__1_8' created at '/Users/serafim/Desktop/Job/projects/science/hse/GAN-Estimation-Uncertainty/uncertainty/custom_mnist_tests'.\n",
      "{0: 948.6219929546646, 1: 665.0866367949675, 2: 1260.3220304506658, 3: 1275.14603915087, 4: 1409.0729608992228, 5: 1075.9504585653208, 6: 1172.9033280590859, 7: 952.7642208273899, 8: 1081.7811866510897, 9: 1096.2969416146373} {0: 194.75047195857087, 1: 112.41067243949873, 2: 362.7689298647284, 3: 256.02305331102616, 4: 261.5453730085979, 5: 299.18245319422704, 6: 223.84980022705454, 7: 264.80786096410856, 8: 310.22771985421457, 9: 215.23981270838735}\n"
     ]
    },
    {
     "name": "stderr",
     "output_type": "stream",
     "text": [
      "  0%|                                                                       | 0/50 [00:00<?, ?it/s]"
     ]
    },
    {
     "name": "stdout",
     "output_type": "stream",
     "text": [
      "without weights\n",
      "epoch [0/50], average D_loss: 0.6156, average G_loss: 0.5824\n",
      "calssifier: loss CE -- 14.15434386291504, accuracy -- 10.0\n"
     ]
    },
    {
     "name": "stderr",
     "output_type": "stream",
     "text": [
      "  2%|█▏                                                          | 1/50 [01:49<1:29:15, 109.29s/it]"
     ]
    },
    {
     "name": "stdout",
     "output_type": "stream",
     "text": [
      "without weights\n",
      "epoch [1/50], average D_loss: 0.4513, average G_loss: 1.0893\n",
      "calssifier: loss CE -- 16.833543867492676, accuracy -- 10.0\n"
     ]
    },
    {
     "name": "stderr",
     "output_type": "stream",
     "text": [
      "  4%|██▍                                                         | 2/50 [03:33<1:24:51, 106.07s/it]"
     ]
    },
    {
     "name": "stdout",
     "output_type": "stream",
     "text": [
      "without weights\n",
      "epoch [2/50], average D_loss: 0.2140, average G_loss: 2.3288\n",
      "calssifier: loss CE -- 9.917585949707032, accuracy -- 10.01\n"
     ]
    },
    {
     "name": "stderr",
     "output_type": "stream",
     "text": [
      "  6%|███▌                                                        | 3/50 [05:14<1:21:16, 103.75s/it]"
     ]
    },
    {
     "name": "stdout",
     "output_type": "stream",
     "text": [
      "without weights\n",
      "epoch [3/50], average D_loss: 0.2633, average G_loss: 2.4681\n",
      "calssifier: loss CE -- 7.787853649902344, accuracy -- 10.85\n"
     ]
    },
    {
     "name": "stderr",
     "output_type": "stream",
     "text": [
      "  8%|████▊                                                       | 4/50 [06:56<1:19:04, 103.14s/it]"
     ]
    },
    {
     "name": "stdout",
     "output_type": "stream",
     "text": [
      "without weights\n",
      "epoch [4/50], average D_loss: 0.2560, average G_loss: 2.8512\n",
      "calssifier: loss CE -- 5.777663674926758, accuracy -- 14.78\n"
     ]
    },
    {
     "name": "stderr",
     "output_type": "stream",
     "text": [
      " 10%|██████                                                      | 5/50 [08:42<1:18:05, 104.11s/it]"
     ]
    },
    {
     "name": "stdout",
     "output_type": "stream",
     "text": [
      "without weights\n",
      "epoch [5/50], average D_loss: 0.3096, average G_loss: 2.5584\n",
      "calssifier: loss CE -- 3.7815592185974123, accuracy -- 22.470000000000002\n"
     ]
    },
    {
     "name": "stderr",
     "output_type": "stream",
     "text": [
      " 12%|███████▏                                                    | 6/50 [10:30<1:17:23, 105.53s/it]"
     ]
    },
    {
     "name": "stdout",
     "output_type": "stream",
     "text": [
      "without weights\n",
      "epoch [6/50], average D_loss: 0.3435, average G_loss: 2.3080\n",
      "calssifier: loss CE -- 3.95753038482666, accuracy -- 22.439999999999998\n"
     ]
    },
    {
     "name": "stderr",
     "output_type": "stream",
     "text": [
      " 14%|████████▍                                                   | 7/50 [12:09<1:14:06, 103.40s/it]"
     ]
    },
    {
     "name": "stdout",
     "output_type": "stream",
     "text": [
      "without weights\n",
      "epoch [7/50], average D_loss: 0.3799, average G_loss: 2.0676\n",
      "calssifier: loss CE -- 2.818491665458679, accuracy -- 38.3\n"
     ]
    },
    {
     "name": "stderr",
     "output_type": "stream",
     "text": [
      " 16%|█████████▌                                                  | 8/50 [13:49<1:11:31, 102.19s/it]"
     ]
    },
    {
     "name": "stdout",
     "output_type": "stream",
     "text": [
      "without weights\n",
      "epoch [8/50], average D_loss: 0.4399, average G_loss: 1.6691\n",
      "calssifier: loss CE -- 3.4475729484558104, accuracy -- 36.04\n"
     ]
    },
    {
     "name": "stderr",
     "output_type": "stream",
     "text": [
      " 18%|██████████▊                                                 | 9/50 [15:26<1:08:53, 100.81s/it]"
     ]
    },
    {
     "name": "stdout",
     "output_type": "stream",
     "text": [
      "without weights\n",
      "epoch [9/50], average D_loss: 0.4609, average G_loss: 1.5487\n",
      "calssifier: loss CE -- 2.9710285999298094, accuracy -- 41.53\n"
     ]
    },
    {
     "name": "stderr",
     "output_type": "stream",
     "text": [
      " 20%|███████████▊                                               | 10/50 [17:06<1:06:53, 100.34s/it]"
     ]
    },
    {
     "name": "stdout",
     "output_type": "stream",
     "text": [
      "without weights\n",
      "epoch [10/50], average D_loss: 0.4979, average G_loss: 1.4050\n",
      "calssifier: loss CE -- 2.761327763938904, accuracy -- 47.0\n"
     ]
    },
    {
     "name": "stderr",
     "output_type": "stream",
     "text": [
      " 22%|█████████████▏                                              | 11/50 [18:44<1:04:55, 99.88s/it]"
     ]
    },
    {
     "name": "stdout",
     "output_type": "stream",
     "text": [
      "without weights\n",
      "epoch [11/50], average D_loss: 0.5234, average G_loss: 1.2860\n",
      "calssifier: loss CE -- 2.4586476499557497, accuracy -- 53.94\n"
     ]
    },
    {
     "name": "stderr",
     "output_type": "stream",
     "text": [
      " 24%|██████████████▍                                             | 12/50 [20:24<1:03:17, 99.93s/it]"
     ]
    },
    {
     "name": "stdout",
     "output_type": "stream",
     "text": [
      "without weights\n",
      "epoch [12/50], average D_loss: 0.5692, average G_loss: 1.1018\n",
      "calssifier: loss CE -- 2.6134456378936766, accuracy -- 51.11\n"
     ]
    },
    {
     "name": "stderr",
     "output_type": "stream",
     "text": [
      " 26%|███████████████▌                                            | 13/50 [22:04<1:01:30, 99.74s/it]"
     ]
    },
    {
     "name": "stdout",
     "output_type": "stream",
     "text": [
      "without weights\n",
      "epoch [13/50], average D_loss: 0.5742, average G_loss: 1.0819\n",
      "calssifier: loss CE -- 2.3443994747161865, accuracy -- 55.42\n"
     ]
    },
    {
     "name": "stderr",
     "output_type": "stream",
     "text": [
      " 28%|█████████████████▎                                            | 14/50 [23:43<59:47, 99.65s/it]"
     ]
    },
    {
     "name": "stdout",
     "output_type": "stream",
     "text": [
      "without weights\n",
      "epoch [14/50], average D_loss: 0.5954, average G_loss: 0.9952\n",
      "calssifier: loss CE -- 1.880147177028656, accuracy -- 61.08\n"
     ]
    },
    {
     "name": "stderr",
     "output_type": "stream",
     "text": [
      " 30%|██████████████████▌                                           | 15/50 [25:23<58:05, 99.59s/it]"
     ]
    },
    {
     "name": "stdout",
     "output_type": "stream",
     "text": [
      "without weights\n",
      "epoch [15/50], average D_loss: 0.5982, average G_loss: 0.9954\n",
      "calssifier: loss CE -- 1.7777908699512481, accuracy -- 63.61\n"
     ]
    },
    {
     "name": "stderr",
     "output_type": "stream",
     "text": [
      " 32%|███████████████████▊                                          | 16/50 [27:02<56:23, 99.51s/it]"
     ]
    },
    {
     "name": "stdout",
     "output_type": "stream",
     "text": [
      "without weights\n",
      "epoch [16/50], average D_loss: 0.5976, average G_loss: 0.9907\n",
      "calssifier: loss CE -- 1.9564659395217896, accuracy -- 65.66\n"
     ]
    },
    {
     "name": "stderr",
     "output_type": "stream",
     "text": [
      " 34%|█████████████████████                                         | 17/50 [28:41<54:40, 99.41s/it]"
     ]
    },
    {
     "name": "stdout",
     "output_type": "stream",
     "text": [
      "without weights\n",
      "epoch [17/50], average D_loss: 0.6080, average G_loss: 0.9480\n",
      "calssifier: loss CE -- 1.9231907687187195, accuracy -- 67.36\n"
     ]
    },
    {
     "name": "stderr",
     "output_type": "stream",
     "text": [
      " 36%|██████████████████████▎                                       | 18/50 [30:20<52:57, 99.31s/it]"
     ]
    },
    {
     "name": "stdout",
     "output_type": "stream",
     "text": [
      "without weights\n",
      "epoch [18/50], average D_loss: 0.6228, average G_loss: 0.9125\n",
      "calssifier: loss CE -- 1.4338909161090851, accuracy -- 72.22\n"
     ]
    },
    {
     "name": "stderr",
     "output_type": "stream",
     "text": [
      " 38%|███████████████████████▌                                      | 19/50 [31:57<50:57, 98.62s/it]"
     ]
    },
    {
     "name": "stdout",
     "output_type": "stream",
     "text": [
      "without weights\n",
      "epoch [19/50], average D_loss: 0.6309, average G_loss: 0.8853\n",
      "calssifier: loss CE -- 1.559926407289505, accuracy -- 70.45\n"
     ]
    },
    {
     "name": "stderr",
     "output_type": "stream",
     "text": [
      " 40%|████████████████████████▊                                     | 20/50 [33:35<49:15, 98.51s/it]"
     ]
    },
    {
     "name": "stdout",
     "output_type": "stream",
     "text": [
      "without weights\n",
      "epoch [20/50], average D_loss: 0.6328, average G_loss: 0.8804\n",
      "calssifier: loss CE -- 0.7810901921987533, accuracy -- 83.07\n"
     ]
    },
    {
     "name": "stderr",
     "output_type": "stream",
     "text": [
      " 42%|██████████████████████████                                    | 21/50 [35:13<47:30, 98.30s/it]"
     ]
    },
    {
     "name": "stdout",
     "output_type": "stream",
     "text": [
      "without weights\n",
      "epoch [21/50], average D_loss: 0.6384, average G_loss: 0.8644\n",
      "calssifier: loss CE -- 0.9120686956644058, accuracy -- 77.97\n"
     ]
    },
    {
     "name": "stderr",
     "output_type": "stream",
     "text": [
      " 44%|███████████████████████████▎                                  | 22/50 [36:52<45:59, 98.54s/it]"
     ]
    },
    {
     "name": "stdout",
     "output_type": "stream",
     "text": [
      "without weights\n",
      "epoch [22/50], average D_loss: 0.6395, average G_loss: 0.8609\n",
      "calssifier: loss CE -- 0.6857348772525788, accuracy -- 83.3\n"
     ]
    },
    {
     "name": "stderr",
     "output_type": "stream",
     "text": [
      " 46%|████████████████████████████▌                                 | 23/50 [38:31<44:21, 98.56s/it]"
     ]
    },
    {
     "name": "stdout",
     "output_type": "stream",
     "text": [
      "without weights\n",
      "epoch [23/50], average D_loss: 0.6452, average G_loss: 0.8438\n",
      "calssifier: loss CE -- 0.6779260382294655, accuracy -- 82.34\n"
     ]
    },
    {
     "name": "stderr",
     "output_type": "stream",
     "text": [
      " 48%|█████████████████████████████▊                                | 24/50 [40:12<43:03, 99.35s/it]"
     ]
    },
    {
     "name": "stdout",
     "output_type": "stream",
     "text": [
      "without weights\n",
      "epoch [24/50], average D_loss: 0.6450, average G_loss: 0.8419\n",
      "calssifier: loss CE -- 0.9889541147470474, accuracy -- 81.62\n"
     ]
    },
    {
     "name": "stderr",
     "output_type": "stream",
     "text": [
      " 50%|███████████████████████████████                               | 25/50 [41:52<41:23, 99.36s/it]"
     ]
    },
    {
     "name": "stdout",
     "output_type": "stream",
     "text": [
      "without weights\n",
      "epoch [25/50], average D_loss: 0.6507, average G_loss: 0.8295\n",
      "calssifier: loss CE -- 0.49938047455251217, accuracy -- 87.0\n"
     ]
    },
    {
     "name": "stderr",
     "output_type": "stream",
     "text": [
      " 52%|████████████████████████████████▏                             | 26/50 [43:31<39:44, 99.37s/it]"
     ]
    },
    {
     "name": "stdout",
     "output_type": "stream",
     "text": [
      "without weights\n",
      "epoch [26/50], average D_loss: 0.6561, average G_loss: 0.8192\n",
      "calssifier: loss CE -- 0.8556829926729203, accuracy -- 79.84\n"
     ]
    },
    {
     "name": "stderr",
     "output_type": "stream",
     "text": [
      " 54%|█████████████████████████████████▍                            | 27/50 [45:11<38:06, 99.43s/it]"
     ]
    },
    {
     "name": "stdout",
     "output_type": "stream",
     "text": [
      "without weights\n",
      "epoch [27/50], average D_loss: 0.6518, average G_loss: 0.8173\n",
      "calssifier: loss CE -- 0.748954770720005, accuracy -- 82.64\n"
     ]
    },
    {
     "name": "stderr",
     "output_type": "stream",
     "text": [
      " 56%|██████████████████████████████████▋                           | 28/50 [46:50<36:26, 99.37s/it]"
     ]
    },
    {
     "name": "stdout",
     "output_type": "stream",
     "text": [
      "without weights\n",
      "epoch [28/50], average D_loss: 0.6569, average G_loss: 0.8047\n",
      "calssifier: loss CE -- 0.6321177147269249, accuracy -- 86.09\n"
     ]
    },
    {
     "name": "stderr",
     "output_type": "stream",
     "text": [
      " 58%|███████████████████████████████████▉                          | 29/50 [48:29<34:47, 99.42s/it]"
     ]
    },
    {
     "name": "stdout",
     "output_type": "stream",
     "text": [
      "without weights\n",
      "epoch [29/50], average D_loss: 0.6593, average G_loss: 0.8008\n",
      "calssifier: loss CE -- 0.5734466055989266, accuracy -- 87.03\n"
     ]
    },
    {
     "name": "stderr",
     "output_type": "stream",
     "text": [
      " 60%|█████████████████████████████████████▏                        | 30/50 [50:09<33:08, 99.42s/it]"
     ]
    },
    {
     "name": "stdout",
     "output_type": "stream",
     "text": [
      "without weights\n",
      "epoch [30/50], average D_loss: 0.6549, average G_loss: 0.8102\n",
      "calssifier: loss CE -- 0.512243911910057, accuracy -- 88.11\n"
     ]
    },
    {
     "name": "stderr",
     "output_type": "stream",
     "text": [
      " 62%|██████████████████████████████████████▍                       | 31/50 [51:48<31:27, 99.34s/it]"
     ]
    },
    {
     "name": "stdout",
     "output_type": "stream",
     "text": [
      "without weights\n",
      "epoch [31/50], average D_loss: 0.6553, average G_loss: 0.8066\n",
      "calssifier: loss CE -- 0.557759206700325, accuracy -- 86.14\n"
     ]
    },
    {
     "name": "stderr",
     "output_type": "stream",
     "text": [
      " 64%|███████████████████████████████████████▋                      | 32/50 [53:27<29:47, 99.30s/it]"
     ]
    },
    {
     "name": "stdout",
     "output_type": "stream",
     "text": [
      "without weights\n",
      "epoch [32/50], average D_loss: 0.6581, average G_loss: 0.7936\n",
      "calssifier: loss CE -- 0.34128030075728893, accuracy -- 91.4\n"
     ]
    },
    {
     "name": "stderr",
     "output_type": "stream",
     "text": [
      " 66%|████████████████████████████████████████▉                     | 33/50 [55:07<28:13, 99.62s/it]"
     ]
    },
    {
     "name": "stdout",
     "output_type": "stream",
     "text": [
      "without weights\n",
      "epoch [33/50], average D_loss: 0.6596, average G_loss: 0.7911\n",
      "calssifier: loss CE -- 0.32183263963386416, accuracy -- 91.69\n"
     ]
    },
    {
     "name": "stderr",
     "output_type": "stream",
     "text": [
      " 68%|██████████████████████████████████████████▏                   | 34/50 [56:46<26:30, 99.42s/it]"
     ]
    },
    {
     "name": "stdout",
     "output_type": "stream",
     "text": [
      "without weights\n",
      "epoch [34/50], average D_loss: 0.6630, average G_loss: 0.7821\n",
      "calssifier: loss CE -- 0.39050892628729345, accuracy -- 90.02\n"
     ]
    },
    {
     "name": "stderr",
     "output_type": "stream",
     "text": [
      " 70%|███████████████████████████████████████████▍                  | 35/50 [58:26<24:51, 99.41s/it]"
     ]
    },
    {
     "name": "stdout",
     "output_type": "stream",
     "text": [
      "without weights\n",
      "epoch [35/50], average D_loss: 0.6643, average G_loss: 0.7788\n",
      "calssifier: loss CE -- 0.3347220532685518, accuracy -- 90.93\n"
     ]
    },
    {
     "name": "stderr",
     "output_type": "stream",
     "text": [
      " 72%|███████████████████████████████████████████▏                | 36/50 [1:00:05<23:09, 99.28s/it]"
     ]
    },
    {
     "name": "stdout",
     "output_type": "stream",
     "text": [
      "without weights\n",
      "epoch [36/50], average D_loss: 0.6644, average G_loss: 0.7752\n",
      "calssifier: loss CE -- 0.2630530856266618, accuracy -- 92.9\n"
     ]
    },
    {
     "name": "stderr",
     "output_type": "stream",
     "text": [
      " 74%|████████████████████████████████████████████▍               | 37/50 [1:01:44<21:31, 99.32s/it]"
     ]
    },
    {
     "name": "stdout",
     "output_type": "stream",
     "text": [
      "without weights\n",
      "epoch [37/50], average D_loss: 0.6665, average G_loss: 0.7682\n",
      "calssifier: loss CE -- 0.28768830984458327, accuracy -- 92.25999999999999\n"
     ]
    },
    {
     "name": "stderr",
     "output_type": "stream",
     "text": [
      " 76%|█████████████████████████████████████████████▌              | 38/50 [1:03:23<19:51, 99.29s/it]"
     ]
    },
    {
     "name": "stdout",
     "output_type": "stream",
     "text": [
      "without weights\n",
      "epoch [38/50], average D_loss: 0.6651, average G_loss: 0.7680\n",
      "calssifier: loss CE -- 0.3340439149826765, accuracy -- 91.45\n"
     ]
    },
    {
     "name": "stderr",
     "output_type": "stream",
     "text": [
      " 78%|██████████████████████████████████████████████▊             | 39/50 [1:05:03<18:13, 99.40s/it]"
     ]
    },
    {
     "name": "stdout",
     "output_type": "stream",
     "text": [
      "without weights\n",
      "epoch [39/50], average D_loss: 0.6661, average G_loss: 0.7641\n",
      "calssifier: loss CE -- 0.27284127160422506, accuracy -- 92.51\n"
     ]
    },
    {
     "name": "stderr",
     "output_type": "stream",
     "text": [
      " 80%|████████████████████████████████████████████████            | 40/50 [1:06:43<16:35, 99.53s/it]"
     ]
    },
    {
     "name": "stdout",
     "output_type": "stream",
     "text": [
      "without weights\n",
      "epoch [40/50], average D_loss: 0.6666, average G_loss: 0.7635\n",
      "calssifier: loss CE -- 0.3286216589868069, accuracy -- 91.36\n"
     ]
    },
    {
     "name": "stderr",
     "output_type": "stream",
     "text": [
      " 82%|█████████████████████████████████████████████████▏          | 41/50 [1:08:22<14:54, 99.40s/it]"
     ]
    },
    {
     "name": "stdout",
     "output_type": "stream",
     "text": [
      "without weights\n",
      "epoch [41/50], average D_loss: 0.6689, average G_loss: 0.7548\n",
      "calssifier: loss CE -- 0.30798882029727104, accuracy -- 91.69\n"
     ]
    },
    {
     "name": "stderr",
     "output_type": "stream",
     "text": [
      " 84%|██████████████████████████████████████████████████▍         | 42/50 [1:10:01<13:15, 99.39s/it]"
     ]
    },
    {
     "name": "stdout",
     "output_type": "stream",
     "text": [
      "without weights\n",
      "epoch [42/50], average D_loss: 0.6680, average G_loss: 0.7558\n",
      "calssifier: loss CE -- 0.32451997036263347, accuracy -- 91.14999999999999\n"
     ]
    },
    {
     "name": "stderr",
     "output_type": "stream",
     "text": [
      " 86%|███████████████████████████████████████████████████▌        | 43/50 [1:11:42<11:39, 99.88s/it]"
     ]
    },
    {
     "name": "stdout",
     "output_type": "stream",
     "text": [
      "without weights\n",
      "epoch [43/50], average D_loss: 0.6670, average G_loss: 0.7572\n",
      "calssifier: loss CE -- 0.27101989653110503, accuracy -- 92.21000000000001\n"
     ]
    },
    {
     "name": "stderr",
     "output_type": "stream",
     "text": [
      " 88%|████████████████████████████████████████████████████▊       | 44/50 [1:13:22<09:59, 99.94s/it]"
     ]
    },
    {
     "name": "stdout",
     "output_type": "stream",
     "text": [
      "without weights\n",
      "epoch [44/50], average D_loss: 0.6668, average G_loss: 0.7554\n",
      "calssifier: loss CE -- 0.22610577537342905, accuracy -- 93.54\n"
     ]
    },
    {
     "name": "stderr",
     "output_type": "stream",
     "text": [
      " 90%|██████████████████████████████████████████████████████      | 45/50 [1:15:02<08:18, 99.79s/it]"
     ]
    },
    {
     "name": "stdout",
     "output_type": "stream",
     "text": [
      "without weights\n",
      "epoch [45/50], average D_loss: 0.6670, average G_loss: 0.7555\n",
      "calssifier: loss CE -- 0.23683653507977723, accuracy -- 93.61\n"
     ]
    },
    {
     "name": "stderr",
     "output_type": "stream",
     "text": [
      " 92%|███████████████████████████████████████████████████████▏    | 46/50 [1:16:42<06:39, 99.89s/it]"
     ]
    },
    {
     "name": "stdout",
     "output_type": "stream",
     "text": [
      "without weights\n",
      "epoch [46/50], average D_loss: 0.6658, average G_loss: 0.7587\n",
      "calssifier: loss CE -- 0.21767743168920278, accuracy -- 93.7\n"
     ]
    },
    {
     "name": "stderr",
     "output_type": "stream",
     "text": [
      " 94%|████████████████████████████████████████████████████████▍   | 47/50 [1:18:22<04:59, 99.84s/it]"
     ]
    },
    {
     "name": "stdout",
     "output_type": "stream",
     "text": [
      "without weights\n",
      "epoch [47/50], average D_loss: 0.6644, average G_loss: 0.7585\n",
      "calssifier: loss CE -- 0.2367640531539917, accuracy -- 93.36\n"
     ]
    },
    {
     "name": "stderr",
     "output_type": "stream",
     "text": [
      " 96%|█████████████████████████████████████████████████████████▌  | 48/50 [1:20:01<03:19, 99.77s/it]"
     ]
    },
    {
     "name": "stdout",
     "output_type": "stream",
     "text": [
      "without weights\n",
      "epoch [48/50], average D_loss: 0.6659, average G_loss: 0.7627\n",
      "calssifier: loss CE -- 0.23928473348654808, accuracy -- 93.03\n"
     ]
    },
    {
     "name": "stderr",
     "output_type": "stream",
     "text": [
      " 98%|██████████████████████████████████████████████████████████▊ | 49/50 [1:21:41<01:39, 99.68s/it]"
     ]
    },
    {
     "name": "stdout",
     "output_type": "stream",
     "text": [
      "without weights\n",
      "epoch [49/50], average D_loss: 0.6663, average G_loss: 0.7600\n",
      "calssifier: loss CE -- 0.22012406674213708, accuracy -- 93.67\n"
     ]
    },
    {
     "name": "stderr",
     "output_type": "stream",
     "text": [
      "100%|███████████████████████████████████████████████████████████| 50/50 [1:23:21<00:00, 100.02s/it]\n"
     ]
    }
   ],
   "source": [
    "G = Generator().to(device=device)\n",
    "D = Discriminator().to(device=device)\n",
    "# criterion = nn.BCELoss()\n",
    "# loss_function = nn.BCELoss()\n",
    "loss_function = WeightedVarianceBCE()\n",
    "learning_rate_G = 0.0001\n",
    "learning_rate_D = 0.0001\n",
    "# lr = 0.0001\n",
    "NUM_EPOCHS = 50\n",
    "\n",
    "import math \n",
    "NUM_BATCHES = math.ceil(len(train_loader.dataset)/train_loader.batch_size)\n",
    "print(f'NUM_BATCHES: {NUM_BATCHES}')\n",
    "D_optimizer = torch.optim.Adam(D.parameters(), lr=learning_rate_G)\n",
    "G_optimizer = torch.optim.Adam(G.parameters(), lr=learning_rate_D)\n",
    "\n",
    "max_lr = 0.00015\n",
    "\n",
    "scheduler_D = OneCycleLR(D_optimizer, max_lr=max_lr, total_steps=NUM_EPOCHS * NUM_BATCHES)\n",
    "scheduler_G = OneCycleLR(G_optimizer, max_lr=max_lr, total_steps=NUM_EPOCHS * NUM_BATCHES)\n",
    "\n",
    "NAME = 'base_gan__lr_0,0001__1_8'\n",
    "\n",
    "D_losses_final, G_losses_final = train(\n",
    "    num_epochs = NUM_EPOCHS,\n",
    "    data_loader = train_loader,\n",
    "    D = D,\n",
    "    G = G,\n",
    "    D_optimizer = D_optimizer,\n",
    "    G_optimizer = G_optimizer, \n",
    "    criterion = loss_function,\n",
    "    device = device,\n",
    "    name = NAME, \n",
    "    save_path = save_path, \n",
    "    progress_generator = True,\n",
    "    plot_process = True,\n",
    "    info_n = 1,\n",
    "    classifier = CLASSIFIER,\n",
    "    fid = True,\n",
    "    fid_dataset = train_loader,\n",
    "    weights_bce = False,\n",
    "    test_fid = True,\n",
    "    scheduler_D = scheduler_D,\n",
    "    scheduler_G = scheduler_G\n",
    ")\n"
   ]
  },
  {
   "cell_type": "code",
   "execution_count": 153,
   "id": "5cc9d5b7-ccd1-43eb-9731-4b60e9e2d3dd",
   "metadata": {},
   "outputs": [
    {
     "name": "stdout",
     "output_type": "stream",
     "text": [
      "Model saved at: /Users/serafim/Desktop/Job/projects/science/hse/GAN-Estimation-Uncertainty/uncertainty/custom_mnist_tests/base_gan__lr_0,0001__1_8/Generator\n",
      "Model saved at: /Users/serafim/Desktop/Job/projects/science/hse/GAN-Estimation-Uncertainty/uncertainty/custom_mnist_tests/base_gan__lr_0,0001__1_8/Discriminator\n"
     ]
    }
   ],
   "source": [
    "save_model(G, save_path, NAME, name2 = 'Generator')\n",
    "save_model(D, save_path, NAME, name2 = 'Discriminator')"
   ]
  },
  {
   "cell_type": "code",
   "execution_count": null,
   "id": "973cbb54-d8d5-4a09-93e9-3a1433532729",
   "metadata": {},
   "outputs": [],
   "source": [
    "G = Generator().to(device=device)\n",
    "D = Discriminator().to(device=device)\n",
    "# criterion = nn.BCELoss()\n",
    "# loss_function = nn.BCELoss()\n",
    "loss_function = WeightedVarianceBCE()\n",
    "learning_rate_G = 0.0001\n",
    "learning_rate_D = 0.0001\n",
    "# lr = 0.0001\n",
    "NUM_EPOCHS = 50\n",
    "\n",
    "import math \n",
    "NUM_BATCHES = math.ceil(len(train_loader.dataset)/train_loader.batch_size)\n",
    "print(f'NUM_BATCHES: {NUM_BATCHES}')\n",
    "D_optimizer = torch.optim.Adam(D.parameters(), lr=learning_rate_G)\n",
    "G_optimizer = torch.optim.Adam(G.parameters(), lr=learning_rate_D)\n",
    "\n",
    "max_lr = 0.0005\n",
    "\n",
    "scheduler_D = OneCycleLR(D_optimizer, max_lr=max_lr, total_steps=NUM_EPOCHS * NUM_BATCHES)\n",
    "scheduler_G = OneCycleLR(G_optimizer, max_lr=max_lr, total_steps=NUM_EPOCHS * NUM_BATCHES)\n",
    "\n",
    "NAME = 'base_gan__lr_0,0001__1_6'\n",
    "\n",
    "D_losses_final, G_losses_final = train(\n",
    "    num_epochs = NUM_EPOCHS,\n",
    "    data_loader = train_loader,\n",
    "    D = D,\n",
    "    G = G,\n",
    "    D_optimizer = D_optimizer,\n",
    "    G_optimizer = G_optimizer, \n",
    "    criterion = loss_function,\n",
    "    device = device,\n",
    "    name = NAME, \n",
    "    save_path = save_path, \n",
    "    progress_generator = True,\n",
    "    plot_process = True,\n",
    "    info_n = 1,\n",
    "    classifier = CLASSIFIER,\n",
    "    fid = True,\n",
    "    fid_dataset = train_loader,\n",
    "    weights_bce = False,\n",
    "    test_fid = True,\n",
    "    scheduler_D = scheduler_D,\n",
    "    scheduler_G = scheduler_G\n",
    ")\n"
   ]
  },
  {
   "cell_type": "code",
   "execution_count": 51,
   "id": "f26c0489-4c16-4903-bea2-38b38e014fd9",
   "metadata": {},
   "outputs": [
    {
     "name": "stdout",
     "output_type": "stream",
     "text": [
      "Model saved at: /Users/serafim/Desktop/Job/projects/science/hse/GAN-Estimation-Uncertainty/uncertainty/custom_mnist_tests/base_gan__lr_0,0001__1_4/Generator\n",
      "Model saved at: /Users/serafim/Desktop/Job/projects/science/hse/GAN-Estimation-Uncertainty/uncertainty/custom_mnist_tests/base_gan__lr_0,0001__1_4/Discriminator\n"
     ]
    }
   ],
   "source": [
    "save_model(G, save_path, NAME, name2 = 'Generator')\n",
    "save_model(D, save_path, NAME, name2 = 'Discriminator')"
   ]
  },
  {
   "cell_type": "markdown",
   "id": "7c7171dc-d163-4217-9557-e2aeb8bcb985",
   "metadata": {},
   "source": [
    "### Compare models(with weights and without it)"
   ]
  },
  {
   "cell_type": "markdown",
   "id": "00b9761a-998c-49e1-a674-677e617960bf",
   "metadata": {},
   "source": [
    "> load lists with fid and vfid for every class for model with weights and without it and compare thier values\n"
   ]
  },
  {
   "cell_type": "code",
   "execution_count": 12,
   "id": "2cdbe047-5793-46ff-809f-9df5b1b76eeb",
   "metadata": {},
   "outputs": [],
   "source": [
    "import pickle\n",
    "import os"
   ]
  },
  {
   "cell_type": "code",
   "execution_count": 20,
   "id": "886d0a03-2785-471d-b22b-cd98bda339b7",
   "metadata": {},
   "outputs": [],
   "source": [
    "\n",
    "\n",
    "m1_path_base = 'mnist_tests/base_gan__lr_0,0001__1_8'\n",
    "m2_path_base = 'mnist_tests/base_wgan__lr_0,0001__1_3'\n",
    "\n",
    "# m1_path = f'{m1_path_base}/fid_test.pickle' 'mnist_tests/base_gan__lr_0,0001__1_12/fid_test.pickle' \n",
    "# m2_path = 'mnist_tests/base_wgan__lr_0,0001__1_11/fid_test.pickle'\n",
    "\n",
    "m1_fid_path = os.path.join(m1_path_base, f'fid_test.pickle')\n",
    "m2_fid_path = os.path.join(m2_path_base, f'fid_test.pickle')\n",
    "\n",
    "m1_vfid_path = os.path.join(m1_path_base, f'vfid_test.pickle')\n",
    "m2_vfid_path = os.path.join(m2_path_base, f'vfid_test.pickle')\n",
    "\n",
    "\n",
    "with open(m1_fid_path, 'rb') as f:\n",
    "    m1_fid = pickle.load(f)\n",
    "    \n",
    "with open(m2_fid_path, 'rb') as f:\n",
    "    m2_fid = pickle.load(f)\n",
    "    \n",
    "with open(m1_vfid_path, 'rb') as f:\n",
    "    m1_vfid = pickle.load(f)\n",
    "    \n",
    "with open(m2_vfid_path, 'rb') as f:\n",
    "    m2_vfid = pickle.load(f)"
   ]
  },
  {
   "cell_type": "code",
   "execution_count": 31,
   "id": "3c5a1780-d60b-4ec4-b3de-0edd7b6ec773",
   "metadata": {},
   "outputs": [],
   "source": [
    "def plot_grouped_bar(m1, m2, title, y_label, x_label = 'digits', bar_width=0.35, legend_labels=('Standard', 'Weighted'),\n",
    "                    save_path = None):\n",
    "    \"\"\"\n",
    "    Plots a grouped bar chart with two sets of data.\n",
    "    \n",
    "    Args:\n",
    "    - m1 (list): List of tuples containing x, y values for the first set of bars.\n",
    "    - m2 (list): List of tuples containing x, y values for the second set of bars.\n",
    "    - title (str): Title of the plot.\n",
    "    - x_label (str): Label for the x-axis.\n",
    "    - y_label (str): Label for the y-axis.\n",
    "    - bar_width (float): Width of the bars. Default is 0.35.\n",
    "    - legend_labels (tuple): Labels for the legend. Default is ('Standard', 'Weighted').\n",
    "    \"\"\"\n",
    "    \n",
    "    # Extract the x values (indices) and y values\n",
    "    x = [item[0] for item in m1]\n",
    "    y1 = [item[1] for item in m1]\n",
    "    y2 = [item[1] for item in m2]\n",
    "\n",
    "    # Define the positions of the bars for m1 and m2\n",
    "    x_pos_m1 = np.array(x) - bar_width / 2\n",
    "    x_pos_m2 = np.array(x) + bar_width / 2\n",
    "    \n",
    "    # Create the bar plot\n",
    "    plt.bar(x_pos_m1, y1, width=bar_width, label=legend_labels[0], color='r')\n",
    "    plt.bar(x_pos_m2, y2, width=bar_width, label=legend_labels[1], color='black')\n",
    "    \n",
    "    # Labeling and title\n",
    "    plt.xlabel(x_label)\n",
    "    plt.ylabel(y_label)\n",
    "    plt.title(title)\n",
    "    plt.xticks(x)  # Set the ticks at the center of the groups\n",
    "    plt.legend()\n",
    "    if save_path:\n",
    "        save_filename = os.path.join(save_path,  'fid4digits')\n",
    "        plt.savefig(save_filename, dpi=300)\n",
    "        plt.close()\n",
    "        return\n",
    "\n",
    "    # Show the plot\n",
    "    plt.show()"
   ]
  },
  {
   "cell_type": "code",
   "execution_count": 22,
   "id": "6887e4ec-52dc-490d-bd2b-fa913969338b",
   "metadata": {},
   "outputs": [
    {
     "data": {
      "image/png": "[encoded data removed]",
      "text/plain": [
       "<Figure size 432x288 with 1 Axes>"
      ]
     },
     "metadata": {
      "needs_background": "light"
     },
     "output_type": "display_data"
    }
   ],
   "source": [
    "plot_grouped_bar(m1_fid, m2_fid, title = 'FID for digits', y_label = 'FID')"
   ]
  },
  {
   "cell_type": "code",
   "execution_count": 23,
   "id": "3abe2960-d26a-40e5-ae4d-e4f0fdd18db7",
   "metadata": {},
   "outputs": [
    {
     "data": {
      "image/png": "[encoded data removed]",
      "text/plain": [
       "<Figure size 432x288 with 1 Axes>"
      ]
     },
     "metadata": {
      "needs_background": "light"
     },
     "output_type": "display_data"
    }
   ],
   "source": [
    "plot_grouped_bar(m1_vfid, m2_vfid, title = 'vFID for digits', y_label = 'vFID')"
   ]
  },
  {
   "cell_type": "code",
   "execution_count": 178,
   "id": "a6af7bd3-1046-42f7-913d-815bcf0dd888",
   "metadata": {},
   "outputs": [
    {
     "data": {
      "text/plain": [
       "<module 'posixpath' from '/Library/Developer/CommandLineTools/Library/Frameworks/Python3.framework/Versions/3.8/lib/python3.8/posixpath.py'>"
      ]
     },
     "execution_count": 178,
     "metadata": {},
     "output_type": "execute_result"
    }
   ],
   "source": [
    "os.path"
   ]
  },
  {
   "cell_type": "markdown",
   "id": "453b2ce0-b47c-41c0-8440-5ad369380649",
   "metadata": {},
   "source": [
    "Load standard and weighted Generator and Discriminator"
   ]
  },
  {
   "cell_type": "code",
   "execution_count": 27,
   "id": "0d1a6580-504b-4ab0-8286-2a6837489383",
   "metadata": {},
   "outputs": [],
   "source": [
    "standard_model_path = 'base_gan__lr_0,0001__1_4'\n",
    "# standard_model_path = 'base_wgan__lr_0,0001__1_1'\n",
    "w_model_path = 'base_wgan__lr_0,0001__1_3'\n",
    "save_path = '/Users/serafim/Desktop/Job/projects/science/hse/GAN-Estimation-Uncertainty/uncertainty/custom_mnist_tests_metric1'\n",
    "save_path = '/Users/serafim/Desktop/Job/projects/science/hse/GAN-Estimation-Uncertainty/uncertainty/custom_mnist_tests'\n",
    "save_path = '/Users/serafim/Desktop/Job/projects/science/hse/GAN-Estimation-Uncertainty/uncertainty/mnist_tests'\n",
    "# save_path = '/Users/serafim/Desktop/Job/projects/science/hse/GAN-Estimation-Uncertainty/uncertainty/custom_mnist_tests_v'\n",
    "# save_path = '/Users/serafim/Desktop/Job/projects/science/hse/GAN-Estimation-Uncertainty/uncertainty/custom_mnist_tests_D'\n",
    "# save_path = '/Users/serafim/Desktop/Job/projects/science/hse/GAN-Estimation-Uncertainty/uncertainty/mnist_tests_D'"
   ]
  },
  {
   "cell_type": "code",
   "execution_count": 28,
   "id": "60cf86ba-a69f-4420-8d92-51e7b049f62b",
   "metadata": {},
   "outputs": [],
   "source": [
    "standard_G = Generator().to(device=device)\n",
    "standard_D = Discriminator().to(device=device)\n",
    "\n",
    "path = os.path.join(save_path, standard_model_path, 'Generator')\n",
    "standard_G.load_state_dict(torch.load(path))\n",
    "standard_G.eval();\n",
    "\n",
    "path = os.path.join(save_path, standard_model_path, 'Discriminator')\n",
    "standard_D.load_state_dict(torch.load(path))\n",
    "standard_D.eval();"
   ]
  },
  {
   "cell_type": "code",
   "execution_count": 330,
   "id": "b869d6b5-67d1-477b-b287-f1a17400e399",
   "metadata": {},
   "outputs": [
    {
     "data": {
      "text/plain": [
       "Discriminator(\n",
       "  (label_embedding): Embedding(10, 10)\n",
       "  (model): Sequential(\n",
       "    (0): Linear(in_features=794, out_features=512, bias=True)\n",
       "    (1): LeakyReLU(negative_slope=0.2, inplace=True)\n",
       "    (2): Dropout(p=0.3, inplace=False)\n",
       "    (3): Linear(in_features=512, out_features=512, bias=True)\n",
       "    (4): LeakyReLU(negative_slope=0.2, inplace=True)\n",
       "    (5): Dropout(p=0.3, inplace=False)\n",
       "    (6): Linear(in_features=512, out_features=512, bias=True)\n",
       "    (7): LeakyReLU(negative_slope=0.2, inplace=True)\n",
       "    (8): Dropout(p=0.3, inplace=False)\n",
       "    (9): Linear(in_features=512, out_features=1, bias=True)\n",
       "    (10): Sigmoid()\n",
       "  )\n",
       ")"
      ]
     },
     "execution_count": 330,
     "metadata": {},
     "output_type": "execute_result"
    }
   ],
   "source": [
    "standard_D.eval()"
   ]
  },
  {
   "cell_type": "code",
   "execution_count": 17,
   "id": "472b8110-0296-4b6d-9477-70434cbb0827",
   "metadata": {},
   "outputs": [],
   "source": [
    "Weighted_G = Generator().to(device=device)\n",
    "Weighted_D = Discriminator().to(device=device)\n",
    "\n",
    "path = os.path.join(save_path, w_model_path, 'Generator')\n",
    "Weighted_G.load_state_dict(torch.load(path))\n",
    "Weighted_G.eval();\n",
    "\n",
    "path = os.path.join(save_path, w_model_path, 'Discriminator')\n",
    "Weighted_D.load_state_dict(torch.load(path))\n",
    "Weighted_D.eval();"
   ]
  },
  {
   "cell_type": "markdown",
   "id": "7d78a981-947b-4398-b842-202d2d7729a8",
   "metadata": {},
   "source": [
    "Load classifier to get feature representation model"
   ]
  },
  {
   "cell_type": "code",
   "execution_count": 18,
   "id": "204fa4c1-9bf2-4e77-bae6-dbd538fcc319",
   "metadata": {},
   "outputs": [
    {
     "data": {
      "text/plain": [
       "CNN3(\n",
       "  (model): Sequential(\n",
       "    (0): Conv2d(1, 32, kernel_size=(3, 3), stride=(2, 2), padding=(1, 1))\n",
       "    (1): BatchNorm2d(32, eps=1e-05, momentum=0.1, affine=True, track_running_stats=True)\n",
       "    (2): LeakyReLU(negative_slope=0.2, inplace=True)\n",
       "    (3): Dropout(p=0.1, inplace=False)\n",
       "    (4): Conv2d(32, 64, kernel_size=(3, 3), stride=(2, 2), padding=(1, 1))\n",
       "    (5): BatchNorm2d(64, eps=1e-05, momentum=0.1, affine=True, track_running_stats=True)\n",
       "    (6): LeakyReLU(negative_slope=0.2, inplace=True)\n",
       "    (7): Dropout(p=0.1, inplace=False)\n",
       "    (8): Conv2d(64, 128, kernel_size=(3, 3), stride=(2, 2), padding=(1, 1))\n",
       "    (9): BatchNorm2d(128, eps=1e-05, momentum=0.1, affine=True, track_running_stats=True)\n",
       "    (10): LeakyReLU(negative_slope=0.2, inplace=True)\n",
       "    (11): Dropout(p=0.1, inplace=False)\n",
       "    (12): Conv2d(128, 256, kernel_size=(3, 3), stride=(2, 2), padding=(1, 1))\n",
       "    (13): BatchNorm2d(256, eps=1e-05, momentum=0.1, affine=True, track_running_stats=True)\n",
       "    (14): LeakyReLU(negative_slope=0.2, inplace=True)\n",
       "    (15): Dropout(p=0.1, inplace=False)\n",
       "    (16): Conv2d(256, 512, kernel_size=(3, 3), stride=(2, 2), padding=(1, 1))\n",
       "    (17): BatchNorm2d(512, eps=1e-05, momentum=0.1, affine=True, track_running_stats=True)\n",
       "    (18): LeakyReLU(negative_slope=0.2, inplace=True)\n",
       "    (19): Dropout(p=0.1, inplace=False)\n",
       "    (20): Conv2d(512, 10, kernel_size=(1, 1), stride=(1, 1))\n",
       "    (21): Flatten(start_dim=1, end_dim=-1)\n",
       "  )\n",
       ")"
      ]
     },
     "execution_count": 18,
     "metadata": {},
     "output_type": "execute_result"
    }
   ],
   "source": [
    "from modules.mnist_classifier import eval_model\n",
    "from modules.mnist_models import CNN, CNN2, CNN3\n",
    "CLASSIFIER = CNN3().to(device=device)\n",
    "PATH = './mnist_tests_classifier/classifier__CNN3__1_9_32/classifier_model.pt'\n",
    "CLASSIFIER.load_state_dict(torch.load(PATH))\n",
    "CLASSIFIER.eval()"
   ]
  },
  {
   "cell_type": "code",
   "execution_count": 19,
   "id": "e74b41f4-19a0-48f8-a6cf-e9c945f5022e",
   "metadata": {},
   "outputs": [],
   "source": [
    "from modules.mnist_models import CNNClassifierWrapper\n",
    "\n",
    "FEATURE_EXTRACTOR = CNNClassifierWrapper(CLASSIFIER, layer_index = -6, use_global_pooling = False)\n",
    "FEATURE_EXTRACTOR.register_hook()"
   ]
  },
  {
   "cell_type": "markdown",
   "id": "e575f680-0fd6-4e0b-9507-7a4037a24d08",
   "metadata": {},
   "source": [
    "Check that FEATURE_EXTRACTOR works correctly"
   ]
  },
  {
   "cell_type": "code",
   "execution_count": 160,
   "id": "9cb3c5d6-9919-4fc8-acd9-9d3f75fdf60a",
   "metadata": {},
   "outputs": [
    {
     "name": "stdout",
     "output_type": "stream",
     "text": [
      "torch.Size([32, 512])\n"
     ]
    }
   ],
   "source": [
    "# FEATURE_EXTRACTOR = CNNClassifierWrapper(CLASSIFIER, layer_index = -6, use_global_pooling = False)\n",
    "\n",
    "img_example = torch.rand(32, 1, 28, 28)  #image 28 on 28 with 1 chanel like in mnist\n",
    "# FEATURE_EXTRACTOR.register_hook()  # Register hook before making predictions\n",
    "output = FEATURE_EXTRACTOR(img_example)\n",
    "# FEATURE_EXTRACTOR.remove_hook()\n",
    "print(output.size())"
   ]
  },
  {
   "cell_type": "code",
   "execution_count": 21,
   "id": "6ae03ced-2cb5-47e0-961f-9d69b924c7d5",
   "metadata": {},
   "outputs": [],
   "source": [
    "from modules.fid import split_mnist_loader_cats, calculate_multiple_fid\n",
    "from modules.mnist_classifier import calculate_confusion_matrix\n",
    "from modules.mnist import get_fake_dataloader, FakeDataset"
   ]
  },
  {
   "cell_type": "code",
   "execution_count": 22,
   "id": "019a5f6e-fbce-45d5-9a68-d39a857b5805",
   "metadata": {},
   "outputs": [],
   "source": [
    "fake_loader_eval = get_fake_dataloader(Weighted_G,\n",
    "                                              device,\n",
    "                                              batch_size=32,\n",
    "                                              num_examples_per_class=10000,\n",
    "                                              noise_dim=100,\n",
    "                                              shuffle=True)"
   ]
  },
  {
   "cell_type": "code",
   "execution_count": 109,
   "id": "2d32e960-8dca-4216-9610-8326b0c195f3",
   "metadata": {},
   "outputs": [],
   "source": [
    "# fake_loader_eval[0]"
   ]
  },
  {
   "cell_type": "code",
   "execution_count": 110,
   "id": "919808ce-ed55-478a-9f62-3332def8d157",
   "metadata": {},
   "outputs": [],
   "source": [
    "# ls\n",
    "# ls /Users/serafim/Desktop"
   ]
  },
  {
   "cell_type": "code",
   "execution_count": 282,
   "id": "d19d0592-c996-4eef-ae28-9eb87d9cb442",
   "metadata": {},
   "outputs": [],
   "source": [
    "a = calculate_confusion_matrix(CLASSIFIER, fake_loader_eval, device, epoch = 50, save_path = '/Users/serafim/Desktop', name = 'cf', metrics = True)\n"
   ]
  },
  {
   "cell_type": "code",
   "execution_count": 23,
   "id": "8c27bf22-84c1-4b10-9b9a-cf9dabbdd8b2",
   "metadata": {},
   "outputs": [],
   "source": [
    "b = calculate_confusion_matrix(CLASSIFIER, fake_loader_eval, device, epoch = 50, save_path = '/Users/serafim/Desktop', name = 'cf', metrics = True)\n"
   ]
  },
  {
   "cell_type": "code",
   "execution_count": 24,
   "id": "005bd491-5f43-4fd7-b8e4-a40ee76ec0c1",
   "metadata": {
    "collapsed": true,
    "jupyter": {
     "outputs_hidden": true
    }
   },
   "outputs": [
    {
     "data": {
      "text/plain": [
       "{'0': {'precision': 0.9941854636591478,\n",
       "  'recall': 0.9917,\n",
       "  'f1-score': 0.9929411764705882,\n",
       "  'support': 10000},\n",
       " '1': {'precision': 0.9871601966094894,\n",
       "  'recall': 0.9841,\n",
       "  'f1-score': 0.9856277229706044,\n",
       "  'support': 10000},\n",
       " '2': {'precision': 0.9770847862907244,\n",
       "  'recall': 0.9807,\n",
       "  'f1-score': 0.9788890552477917,\n",
       "  'support': 10000},\n",
       " '3': {'precision': 0.9586309523809524,\n",
       "  'recall': 0.9663,\n",
       "  'f1-score': 0.9624501992031872,\n",
       "  'support': 10000},\n",
       " '4': {'precision': 0.9778813727435033,\n",
       "  'recall': 0.9859,\n",
       "  'f1-score': 0.9818743153072405,\n",
       "  'support': 10000},\n",
       " '5': {'precision': 0.9681451612903226,\n",
       "  'recall': 0.9604,\n",
       "  'f1-score': 0.9642570281124498,\n",
       "  'support': 10000},\n",
       " '6': {'precision': 0.980458287868267,\n",
       "  'recall': 0.9884,\n",
       "  'f1-score': 0.9844131268363129,\n",
       "  'support': 10000},\n",
       " '7': {'precision': 0.9401461315183666,\n",
       "  'recall': 0.9393,\n",
       "  'f1-score': 0.9397228752938823,\n",
       "  'support': 10000},\n",
       " '8': {'precision': 0.972543497938248,\n",
       "  'recall': 0.967,\n",
       "  'f1-score': 0.969763826906684,\n",
       "  'support': 10000},\n",
       " '9': {'precision': 0.9404353960894981,\n",
       "  'recall': 0.9331,\n",
       "  'f1-score': 0.9367533380182713,\n",
       "  'support': 10000},\n",
       " 'accuracy': 0.96969,\n",
       " 'macro avg': {'precision': 0.9696671246388521,\n",
       "  'recall': 0.9696899999999999,\n",
       "  'f1-score': 0.9696692664367011,\n",
       "  'support': 100000},\n",
       " 'weighted avg': {'precision': 0.9696671246388519,\n",
       "  'recall': 0.96969,\n",
       "  'f1-score': 0.9696692664367011,\n",
       "  'support': 100000}}"
      ]
     },
     "execution_count": 24,
     "metadata": {},
     "output_type": "execute_result"
    }
   ],
   "source": [
    "b"
   ]
  },
  {
   "cell_type": "code",
   "execution_count": 347,
   "id": "f05bcc99-6648-448c-8b31-41d1312b53ad",
   "metadata": {
    "collapsed": true,
    "jupyter": {
     "outputs_hidden": true
    }
   },
   "outputs": [
    {
     "data": {
      "text/plain": [
       "{'0': {'precision': 0.9780740740740741,\n",
       "  'recall': 0.9903,\n",
       "  'f1-score': 0.9841490683229813,\n",
       "  'support': 10000},\n",
       " '1': {'precision': 0.9798830641165395,\n",
       "  'recall': 0.9888,\n",
       "  'f1-score': 0.984321337912498,\n",
       "  'support': 10000},\n",
       " '2': {'precision': 0.9842393787117405,\n",
       "  'recall': 0.8618,\n",
       "  'f1-score': 0.9189592663680957,\n",
       "  'support': 10000},\n",
       " '3': {'precision': 0.9230623639632819,\n",
       "  'recall': 0.9754,\n",
       "  'f1-score': 0.9485097486264403,\n",
       "  'support': 10000},\n",
       " '4': {'precision': 0.9730133439553874,\n",
       "  'recall': 0.9771,\n",
       "  'f1-score': 0.9750523899810398,\n",
       "  'support': 10000},\n",
       " '5': {'precision': 0.945517109539285,\n",
       "  'recall': 0.9892,\n",
       "  'f1-score': 0.9668654090509237,\n",
       "  'support': 10000},\n",
       " '6': {'precision': 0.9802165354330709,\n",
       "  'recall': 0.9959,\n",
       "  'f1-score': 0.9879960317460317,\n",
       "  'support': 10000},\n",
       " '7': {'precision': 0.9433779119930975,\n",
       "  'recall': 0.8747,\n",
       "  'f1-score': 0.907741801577418,\n",
       "  'support': 10000},\n",
       " '8': {'precision': 0.9584051724137931,\n",
       "  'recall': 0.8894,\n",
       "  'f1-score': 0.9226141078838173,\n",
       "  'support': 10000},\n",
       " '9': {'precision': 0.8522899066251668,\n",
       "  'recall': 0.9584,\n",
       "  'f1-score': 0.9022358201929865,\n",
       "  'support': 10000},\n",
       " 'accuracy': 0.9501,\n",
       " 'macro avg': {'precision': 0.9518078860825436,\n",
       "  'recall': 0.9501,\n",
       "  'f1-score': 0.9498444981662232,\n",
       "  'support': 100000},\n",
       " 'weighted avg': {'precision': 0.9518078860825435,\n",
       "  'recall': 0.9501,\n",
       "  'f1-score': 0.9498444981662233,\n",
       "  'support': 100000}}"
      ]
     },
     "execution_count": 347,
     "metadata": {},
     "output_type": "execute_result"
    }
   ],
   "source": [
    "b"
   ]
  },
  {
   "cell_type": "code",
   "execution_count": 283,
   "id": "5168150d-8245-4da6-9bf3-7c39e3756dc7",
   "metadata": {
    "collapsed": true,
    "jupyter": {
     "outputs_hidden": true
    }
   },
   "outputs": [
    {
     "data": {
      "text/plain": [
       "{'0': {'precision': 0.9946856512583977,\n",
       "  'recall': 0.992,\n",
       "  'f1-score': 0.9933410103639914,\n",
       "  'support': 10000},\n",
       " '1': {'precision': 0.9928492295296606,\n",
       "  'recall': 0.9858,\n",
       "  'f1-score': 0.9893120578052086,\n",
       "  'support': 10000},\n",
       " '2': {'precision': 0.9903242408646423,\n",
       "  'recall': 0.9621,\n",
       "  'f1-score': 0.9760081156479837,\n",
       "  'support': 10000},\n",
       " '3': {'precision': 0.9619526925012581,\n",
       "  'recall': 0.9557,\n",
       "  'f1-score': 0.9588161524956107,\n",
       "  'support': 10000},\n",
       " '4': {'precision': 0.9828931572629052,\n",
       "  'recall': 0.9825,\n",
       "  'f1-score': 0.9826965393078616,\n",
       "  'support': 10000},\n",
       " '5': {'precision': 0.9550716107514224,\n",
       "  'recall': 0.9736,\n",
       "  'f1-score': 0.964246805981975,\n",
       "  'support': 10000},\n",
       " '6': {'precision': 0.9862809424396063,\n",
       "  'recall': 0.9921,\n",
       "  'f1-score': 0.9891819133556008,\n",
       "  'support': 10000},\n",
       " '7': {'precision': 0.9579030195731287,\n",
       "  'recall': 0.9739,\n",
       "  'f1-score': 0.9658352754499926,\n",
       "  'support': 10000},\n",
       " '8': {'precision': 0.9691987719124493,\n",
       "  'recall': 0.9786,\n",
       "  'f1-score': 0.9738766980146291,\n",
       "  'support': 10000},\n",
       " '9': {'precision': 0.9671867136386513,\n",
       "  'recall': 0.9609,\n",
       "  'f1-score': 0.9640331075996991,\n",
       "  'support': 10000},\n",
       " 'accuracy': 0.97572,\n",
       " 'macro avg': {'precision': 0.9758346029732122,\n",
       "  'recall': 0.9757200000000001,\n",
       "  'f1-score': 0.9757347676022553,\n",
       "  'support': 100000},\n",
       " 'weighted avg': {'precision': 0.9758346029732121,\n",
       "  'recall': 0.97572,\n",
       "  'f1-score': 0.9757347676022553,\n",
       "  'support': 100000}}"
      ]
     },
     "execution_count": 283,
     "metadata": {},
     "output_type": "execute_result"
    }
   ],
   "source": [
    "a"
   ]
  },
  {
   "cell_type": "code",
   "execution_count": null,
   "id": "e794106e-68b4-4d58-8078-815a5b43622c",
   "metadata": {},
   "outputs": [],
   "source": [
    "'accuracy': 0.98388,\n",
    " 'macro avg': {'precision': 0.9839122704969807,\n",
    "  'recall': 0.9838800000000001,\n",
    "  'f1-score': 0.9838827441740126,\n",
    "  'support': 100000},\n",
    " 'weighted avg': {'precision': 0.9839122704969808,\n",
    "  'recall': 0.98388,\n",
    "  'f1-score': 0.9838827441740123,\n",
    "  'support': 100000}}\n",
    "\n",
    "\n"
   ]
  },
  {
   "cell_type": "code",
   "execution_count": 18,
   "id": "a3d0e0e8-cf12-4e46-ba5a-38cb5f22b094",
   "metadata": {},
   "outputs": [],
   "source": [
    "\n",
    "# category_data_real = split_mnist_loader_cats(train_loader, max_images = None)\n",
    "# fid_cats, vfid_cats = calculate_multiple_fid(standard_G, FEATURE_EXTRACTOR, category_data_real, device)\n"
   ]
  },
  {
   "cell_type": "code",
   "execution_count": 25,
   "id": "cb0d1462-f996-4cf9-ab0d-8745308817b1",
   "metadata": {},
   "outputs": [],
   "source": [
    "category_data_real = split_mnist_loader_cats(test_loader, max_images = None)"
   ]
  },
  {
   "cell_type": "code",
   "execution_count": 41,
   "id": "80dda5e7-9473-4a3b-8d0d-43d94b80de2b",
   "metadata": {},
   "outputs": [],
   "source": [
    "# fid_cats, vfid_cats = calculate_multiple_fid(standard_G, FEATURE_EXTRACTOR, category_data_real, device)\n",
    "w_fid_cats, w_vfid_cats = calculate_multiple_fid(Weighted_G, FEATURE_EXTRACTOR, category_data_real, device)\n"
   ]
  },
  {
   "cell_type": "code",
   "execution_count": 235,
   "id": "6b4e90ab-360c-4c4c-897b-fb2b20fba683",
   "metadata": {},
   "outputs": [],
   "source": [
    "# w_fid_cats, w_vfid_cats"
   ]
  },
  {
   "cell_type": "markdown",
   "id": "74749ec4-5881-4c15-bb93-6e4086c8a56a",
   "metadata": {},
   "source": [
    "custom dataset with `{2:1000, 8: 1000, 7: 1000}`(there are 1000 images of 2, and etc...)"
   ]
  },
  {
   "cell_type": "code",
   "execution_count": 350,
   "id": "350542ab-6004-413a-8023-e5ddea342066",
   "metadata": {
    "tags": []
   },
   "outputs": [],
   "source": [
    "plot_grouped_bar(list(fid_cats.items()), list(w_fid_cats.items()), title = 'FID for digits', y_label = 'FID', save_path = '/Users/serafim/Desktop/cf')"
   ]
  },
  {
   "cell_type": "code",
   "execution_count": 351,
   "id": "2abfa090-84bb-4671-8785-46cf65dcbea3",
   "metadata": {},
   "outputs": [
    {
     "data": {
      "image/png": "[encoded data removed]",
      "text/plain": [
       "<Figure size 432x288 with 1 Axes>"
      ]
     },
     "metadata": {
      "needs_background": "light"
     },
     "output_type": "display_data"
    }
   ],
   "source": [
    "plot_grouped_bar(list(vfid_cats.items()), list(w_vfid_cats.items()), title = 'vFID for digits', y_label = 'vFID')"
   ]
  },
  {
   "cell_type": "code",
   "execution_count": 35,
   "id": "ca4f2edf-e02e-4947-bb5a-89cc8a86e9a9",
   "metadata": {},
   "outputs": [
    {
     "data": {
      "image/png": "[encoded data removed]",
      "text/plain": [
       "<Figure size 432x288 with 1 Axes>"
      ]
     },
     "metadata": {
      "needs_background": "light"
     },
     "output_type": "display_data"
    }
   ],
   "source": [
    "plot_grouped_bar(list(fid_cats.items()), list(w_fid_cats.items()), title = 'FID for digits', y_label = 'FID')"
   ]
  },
  {
   "cell_type": "code",
   "execution_count": 42,
   "id": "a0a83eb9-6b24-4db2-80f3-fb5b067cfb4c",
   "metadata": {},
   "outputs": [
    {
     "data": {
      "text/plain": [
       "(42.73318215552381, 42.95883731505394)"
      ]
     },
     "execution_count": 42,
     "metadata": {},
     "output_type": "execute_result"
    }
   ],
   "source": [
    "sum(fid_cats.values())/len(fid_cats), sum(w_fid_cats.values())/len(w_fid_cats)"
   ]
  },
  {
   "cell_type": "code",
   "execution_count": null,
   "id": "47912b36-6d1e-490d-8858-6b6f7acc7f89",
   "metadata": {},
   "outputs": [],
   "source": [
    "(34.62795008633528, 36.0239711077637)"
   ]
  },
  {
   "cell_type": "markdown",
   "id": "ad7cd9da-38f1-4f44-97cf-7b6cdd0c2226",
   "metadata": {},
   "source": [
    "standard dataset"
   ]
  },
  {
   "cell_type": "code",
   "execution_count": null,
   "id": "fcbd37df-3ee4-420f-aa32-deb7f0397b23",
   "metadata": {},
   "outputs": [],
   "source": [
    "plot_grouped_bar(list(fid_cats.items()), list(w_fid_cats.items()), title = 'FID for digits', y_label = 'FID')\n"
   ]
  },
  {
   "cell_type": "code",
   "execution_count": null,
   "id": "a4c405f9-3669-4630-87a9-19f43b68d1e4",
   "metadata": {},
   "outputs": [],
   "source": [
    "plot_grouped_bar(list(vfid_cats.items()), list(w_vfid_cats.items()), title = 'vFID for digits', y_label = 'vFID')"
   ]
  },
  {
   "cell_type": "code",
   "execution_count": 308,
   "id": "5a2fc7dc-c67c-4501-abe8-2359c8e195f4",
   "metadata": {},
   "outputs": [
    {
     "data": {
      "text/plain": [
       "87.92219366591685"
      ]
     },
     "execution_count": 308,
     "metadata": {},
     "output_type": "execute_result"
    }
   ],
   "source": [
    "sum(fid_cats.values())/len(fid_cats)"
   ]
  },
  {
   "cell_type": "code",
   "execution_count": 309,
   "id": "2de28624-af21-44b5-9478-39d0e202c7ac",
   "metadata": {},
   "outputs": [
    {
     "data": {
      "text/plain": [
       "68.5584964665752"
      ]
     },
     "execution_count": 309,
     "metadata": {},
     "output_type": "execute_result"
    }
   ],
   "source": [
    "sum(w_fid_cats.values())/len(w_fid_cats)"
   ]
  },
  {
   "cell_type": "code",
   "execution_count": 294,
   "id": "c84e87de-b49c-4672-84b1-a0292fcbf894",
   "metadata": {},
   "outputs": [],
   "source": [
    "# plot_grouped_bar(list(fid_cats.items()), list(w_fid_cats.items()), title = 'FID for digits', y_label = 'FID', save_path = '/Users/serafim/Desktop/cf')"
   ]
  },
  {
   "cell_type": "code",
   "execution_count": 47,
   "id": "219f33dd-9f80-4ead-af63-7de3f6c1aede",
   "metadata": {},
   "outputs": [],
   "source": [
    "a, b = calculate_multiple_fid(Weighted_G, FEATURE_EXTRACTOR, category_data_real, device)"
   ]
  },
  {
   "cell_type": "code",
   "execution_count": 49,
   "id": "78a040a6-1a32-4bb5-80a4-a60203528be7",
   "metadata": {},
   "outputs": [
    {
     "data": {
      "text/plain": [
       "{0: 196.26971342834383,\n",
       " 1: 104.77639108243164,\n",
       " 2: 348.7643231859217,\n",
       " 3: 246.946262029369,\n",
       " 4: 251.4037574358366,\n",
       " 5: 297.6989749184397,\n",
       " 6: 236.92337471797947,\n",
       " 7: 260.4103219580959,\n",
       " 8: 296.8813508833998,\n",
       " 9: 209.83111314012837}"
      ]
     },
     "execution_count": 49,
     "metadata": {},
     "output_type": "execute_result"
    }
   ],
   "source": [
    "a"
   ]
  },
  {
   "cell_type": "code",
   "execution_count": 51,
   "id": "5410e83f-92ec-4a0a-af8b-39b563b7405f",
   "metadata": {},
   "outputs": [],
   "source": [
    "# b"
   ]
  },
  {
   "cell_type": "code",
   "execution_count": 52,
   "id": "dca71748-3702-4085-9c51-e8158067a12c",
   "metadata": {
    "collapsed": true,
    "jupyter": {
     "outputs_hidden": true
    },
    "scrolled": true
   },
   "outputs": [
    {
     "ename": "TypeError",
     "evalue": "float() argument must be a string or a number, not 'dict'",
     "output_type": "error",
     "traceback": [
      "\u001b[0;31m---------------------------------------------------------------------------\u001b[0m",
      "\u001b[0;31mTypeError\u001b[0m                                 Traceback (most recent call last)",
      "\u001b[0;32m/var/folders/zw/rd1vhmbn34vgll3fpyhd2dwh0000gn/T/ipykernel_32827/3260400492.py\u001b[0m in \u001b[0;36m<module>\u001b[0;34m\u001b[0m\n\u001b[0;32m----> 1\u001b[0;31m \u001b[0mplt\u001b[0m\u001b[0;34m.\u001b[0m\u001b[0mplot\u001b[0m\u001b[0;34m(\u001b[0m\u001b[0ma\u001b[0m\u001b[0;34m)\u001b[0m\u001b[0;34m\u001b[0m\u001b[0;34m\u001b[0m\u001b[0m\n\u001b[0m",
      "\u001b[0;32m~/Library/Python/3.8/lib/python/site-packages/matplotlib/pyplot.py\u001b[0m in \u001b[0;36mplot\u001b[0;34m(scalex, scaley, data, *args, **kwargs)\u001b[0m\n\u001b[1;32m   2810\u001b[0m \u001b[0;34m@\u001b[0m\u001b[0m_copy_docstring_and_deprecators\u001b[0m\u001b[0;34m(\u001b[0m\u001b[0mAxes\u001b[0m\u001b[0;34m.\u001b[0m\u001b[0mplot\u001b[0m\u001b[0;34m)\u001b[0m\u001b[0;34m\u001b[0m\u001b[0;34m\u001b[0m\u001b[0m\n\u001b[1;32m   2811\u001b[0m \u001b[0;32mdef\u001b[0m \u001b[0mplot\u001b[0m\u001b[0;34m(\u001b[0m\u001b[0;34m*\u001b[0m\u001b[0margs\u001b[0m\u001b[0;34m,\u001b[0m \u001b[0mscalex\u001b[0m\u001b[0;34m=\u001b[0m\u001b[0;32mTrue\u001b[0m\u001b[0;34m,\u001b[0m \u001b[0mscaley\u001b[0m\u001b[0;34m=\u001b[0m\u001b[0;32mTrue\u001b[0m\u001b[0;34m,\u001b[0m \u001b[0mdata\u001b[0m\u001b[0;34m=\u001b[0m\u001b[0;32mNone\u001b[0m\u001b[0;34m,\u001b[0m \u001b[0;34m**\u001b[0m\u001b[0mkwargs\u001b[0m\u001b[0;34m)\u001b[0m\u001b[0;34m:\u001b[0m\u001b[0;34m\u001b[0m\u001b[0;34m\u001b[0m\u001b[0m\n\u001b[0;32m-> 2812\u001b[0;31m     return gca().plot(\n\u001b[0m\u001b[1;32m   2813\u001b[0m         \u001b[0;34m*\u001b[0m\u001b[0margs\u001b[0m\u001b[0;34m,\u001b[0m \u001b[0mscalex\u001b[0m\u001b[0;34m=\u001b[0m\u001b[0mscalex\u001b[0m\u001b[0;34m,\u001b[0m \u001b[0mscaley\u001b[0m\u001b[0;34m=\u001b[0m\u001b[0mscaley\u001b[0m\u001b[0;34m,\u001b[0m\u001b[0;34m\u001b[0m\u001b[0;34m\u001b[0m\u001b[0m\n\u001b[1;32m   2814\u001b[0m         **({\"data\": data} if data is not None else {}), **kwargs)\n",
      "\u001b[0;32m~/Library/Python/3.8/lib/python/site-packages/matplotlib/axes/_axes.py\u001b[0m in \u001b[0;36mplot\u001b[0;34m(self, scalex, scaley, data, *args, **kwargs)\u001b[0m\n\u001b[1;32m   1688\u001b[0m         \u001b[0mlines\u001b[0m \u001b[0;34m=\u001b[0m \u001b[0;34m[\u001b[0m\u001b[0;34m*\u001b[0m\u001b[0mself\u001b[0m\u001b[0;34m.\u001b[0m\u001b[0m_get_lines\u001b[0m\u001b[0;34m(\u001b[0m\u001b[0;34m*\u001b[0m\u001b[0margs\u001b[0m\u001b[0;34m,\u001b[0m \u001b[0mdata\u001b[0m\u001b[0;34m=\u001b[0m\u001b[0mdata\u001b[0m\u001b[0;34m,\u001b[0m \u001b[0;34m**\u001b[0m\u001b[0mkwargs\u001b[0m\u001b[0;34m)\u001b[0m\u001b[0;34m]\u001b[0m\u001b[0;34m\u001b[0m\u001b[0;34m\u001b[0m\u001b[0m\n\u001b[1;32m   1689\u001b[0m         \u001b[0;32mfor\u001b[0m \u001b[0mline\u001b[0m \u001b[0;32min\u001b[0m \u001b[0mlines\u001b[0m\u001b[0;34m:\u001b[0m\u001b[0;34m\u001b[0m\u001b[0;34m\u001b[0m\u001b[0m\n\u001b[0;32m-> 1690\u001b[0;31m             \u001b[0mself\u001b[0m\u001b[0;34m.\u001b[0m\u001b[0madd_line\u001b[0m\u001b[0;34m(\u001b[0m\u001b[0mline\u001b[0m\u001b[0;34m)\u001b[0m\u001b[0;34m\u001b[0m\u001b[0;34m\u001b[0m\u001b[0m\n\u001b[0m\u001b[1;32m   1691\u001b[0m         \u001b[0;32mif\u001b[0m \u001b[0mscalex\u001b[0m\u001b[0;34m:\u001b[0m\u001b[0;34m\u001b[0m\u001b[0;34m\u001b[0m\u001b[0m\n\u001b[1;32m   1692\u001b[0m             \u001b[0mself\u001b[0m\u001b[0;34m.\u001b[0m\u001b[0m_request_autoscale_view\u001b[0m\u001b[0;34m(\u001b[0m\u001b[0;34m\"x\"\u001b[0m\u001b[0;34m)\u001b[0m\u001b[0;34m\u001b[0m\u001b[0;34m\u001b[0m\u001b[0m\n",
      "\u001b[0;32m~/Library/Python/3.8/lib/python/site-packages/matplotlib/axes/_base.py\u001b[0m in \u001b[0;36madd_line\u001b[0;34m(self, line)\u001b[0m\n\u001b[1;32m   2302\u001b[0m             \u001b[0mline\u001b[0m\u001b[0;34m.\u001b[0m\u001b[0mset_clip_path\u001b[0m\u001b[0;34m(\u001b[0m\u001b[0mself\u001b[0m\u001b[0;34m.\u001b[0m\u001b[0mpatch\u001b[0m\u001b[0;34m)\u001b[0m\u001b[0;34m\u001b[0m\u001b[0;34m\u001b[0m\u001b[0m\n\u001b[1;32m   2303\u001b[0m \u001b[0;34m\u001b[0m\u001b[0m\n\u001b[0;32m-> 2304\u001b[0;31m         \u001b[0mself\u001b[0m\u001b[0;34m.\u001b[0m\u001b[0m_update_line_limits\u001b[0m\u001b[0;34m(\u001b[0m\u001b[0mline\u001b[0m\u001b[0;34m)\u001b[0m\u001b[0;34m\u001b[0m\u001b[0;34m\u001b[0m\u001b[0m\n\u001b[0m\u001b[1;32m   2305\u001b[0m         \u001b[0;32mif\u001b[0m \u001b[0;32mnot\u001b[0m \u001b[0mline\u001b[0m\u001b[0;34m.\u001b[0m\u001b[0mget_label\u001b[0m\u001b[0;34m(\u001b[0m\u001b[0;34m)\u001b[0m\u001b[0;34m:\u001b[0m\u001b[0;34m\u001b[0m\u001b[0;34m\u001b[0m\u001b[0m\n\u001b[1;32m   2306\u001b[0m             \u001b[0mline\u001b[0m\u001b[0;34m.\u001b[0m\u001b[0mset_label\u001b[0m\u001b[0;34m(\u001b[0m\u001b[0;34mf'_child{len(self._children)}'\u001b[0m\u001b[0;34m)\u001b[0m\u001b[0;34m\u001b[0m\u001b[0;34m\u001b[0m\u001b[0m\n",
      "\u001b[0;32m~/Library/Python/3.8/lib/python/site-packages/matplotlib/axes/_base.py\u001b[0m in \u001b[0;36m_update_line_limits\u001b[0;34m(self, line)\u001b[0m\n\u001b[1;32m   2325\u001b[0m         \u001b[0mFigures\u001b[0m \u001b[0mout\u001b[0m \u001b[0mthe\u001b[0m \u001b[0mdata\u001b[0m \u001b[0mlimit\u001b[0m \u001b[0mof\u001b[0m \u001b[0mthe\u001b[0m \u001b[0mgiven\u001b[0m \u001b[0mline\u001b[0m\u001b[0;34m,\u001b[0m \u001b[0mupdating\u001b[0m \u001b[0mself\u001b[0m\u001b[0;34m.\u001b[0m\u001b[0mdataLim\u001b[0m\u001b[0;34m.\u001b[0m\u001b[0;34m\u001b[0m\u001b[0;34m\u001b[0m\u001b[0m\n\u001b[1;32m   2326\u001b[0m         \"\"\"\n\u001b[0;32m-> 2327\u001b[0;31m         \u001b[0mpath\u001b[0m \u001b[0;34m=\u001b[0m \u001b[0mline\u001b[0m\u001b[0;34m.\u001b[0m\u001b[0mget_path\u001b[0m\u001b[0;34m(\u001b[0m\u001b[0;34m)\u001b[0m\u001b[0;34m\u001b[0m\u001b[0;34m\u001b[0m\u001b[0m\n\u001b[0m\u001b[1;32m   2328\u001b[0m         \u001b[0;32mif\u001b[0m \u001b[0mpath\u001b[0m\u001b[0;34m.\u001b[0m\u001b[0mvertices\u001b[0m\u001b[0;34m.\u001b[0m\u001b[0msize\u001b[0m \u001b[0;34m==\u001b[0m \u001b[0;36m0\u001b[0m\u001b[0;34m:\u001b[0m\u001b[0;34m\u001b[0m\u001b[0;34m\u001b[0m\u001b[0m\n\u001b[1;32m   2329\u001b[0m             \u001b[0;32mreturn\u001b[0m\u001b[0;34m\u001b[0m\u001b[0;34m\u001b[0m\u001b[0m\n",
      "\u001b[0;32m~/Library/Python/3.8/lib/python/site-packages/matplotlib/lines.py\u001b[0m in \u001b[0;36mget_path\u001b[0;34m(self)\u001b[0m\n\u001b[1;32m   1026\u001b[0m         \u001b[0;34m\"\"\"Return the `~matplotlib.path.Path` associated with this line.\"\"\"\u001b[0m\u001b[0;34m\u001b[0m\u001b[0;34m\u001b[0m\u001b[0m\n\u001b[1;32m   1027\u001b[0m         \u001b[0;32mif\u001b[0m \u001b[0mself\u001b[0m\u001b[0;34m.\u001b[0m\u001b[0m_invalidy\u001b[0m \u001b[0;32mor\u001b[0m \u001b[0mself\u001b[0m\u001b[0;34m.\u001b[0m\u001b[0m_invalidx\u001b[0m\u001b[0;34m:\u001b[0m\u001b[0;34m\u001b[0m\u001b[0;34m\u001b[0m\u001b[0m\n\u001b[0;32m-> 1028\u001b[0;31m             \u001b[0mself\u001b[0m\u001b[0;34m.\u001b[0m\u001b[0mrecache\u001b[0m\u001b[0;34m(\u001b[0m\u001b[0;34m)\u001b[0m\u001b[0;34m\u001b[0m\u001b[0;34m\u001b[0m\u001b[0m\n\u001b[0m\u001b[1;32m   1029\u001b[0m         \u001b[0;32mreturn\u001b[0m \u001b[0mself\u001b[0m\u001b[0;34m.\u001b[0m\u001b[0m_path\u001b[0m\u001b[0;34m\u001b[0m\u001b[0;34m\u001b[0m\u001b[0m\n\u001b[1;32m   1030\u001b[0m \u001b[0;34m\u001b[0m\u001b[0m\n",
      "\u001b[0;32m~/Library/Python/3.8/lib/python/site-packages/matplotlib/lines.py\u001b[0m in \u001b[0;36mrecache\u001b[0;34m(self, always)\u001b[0m\n\u001b[1;32m    662\u001b[0m         \u001b[0;32mif\u001b[0m \u001b[0malways\u001b[0m \u001b[0;32mor\u001b[0m \u001b[0mself\u001b[0m\u001b[0;34m.\u001b[0m\u001b[0m_invalidy\u001b[0m\u001b[0;34m:\u001b[0m\u001b[0;34m\u001b[0m\u001b[0;34m\u001b[0m\u001b[0m\n\u001b[1;32m    663\u001b[0m             \u001b[0myconv\u001b[0m \u001b[0;34m=\u001b[0m \u001b[0mself\u001b[0m\u001b[0;34m.\u001b[0m\u001b[0mconvert_yunits\u001b[0m\u001b[0;34m(\u001b[0m\u001b[0mself\u001b[0m\u001b[0;34m.\u001b[0m\u001b[0m_yorig\u001b[0m\u001b[0;34m)\u001b[0m\u001b[0;34m\u001b[0m\u001b[0;34m\u001b[0m\u001b[0m\n\u001b[0;32m--> 664\u001b[0;31m             \u001b[0my\u001b[0m \u001b[0;34m=\u001b[0m \u001b[0m_to_unmasked_float_array\u001b[0m\u001b[0;34m(\u001b[0m\u001b[0myconv\u001b[0m\u001b[0;34m)\u001b[0m\u001b[0;34m.\u001b[0m\u001b[0mravel\u001b[0m\u001b[0;34m(\u001b[0m\u001b[0;34m)\u001b[0m\u001b[0;34m\u001b[0m\u001b[0;34m\u001b[0m\u001b[0m\n\u001b[0m\u001b[1;32m    665\u001b[0m         \u001b[0;32melse\u001b[0m\u001b[0;34m:\u001b[0m\u001b[0;34m\u001b[0m\u001b[0;34m\u001b[0m\u001b[0m\n\u001b[1;32m    666\u001b[0m             \u001b[0my\u001b[0m \u001b[0;34m=\u001b[0m \u001b[0mself\u001b[0m\u001b[0;34m.\u001b[0m\u001b[0m_y\u001b[0m\u001b[0;34m\u001b[0m\u001b[0;34m\u001b[0m\u001b[0m\n",
      "\u001b[0;32m~/Library/Python/3.8/lib/python/site-packages/matplotlib/cbook/__init__.py\u001b[0m in \u001b[0;36m_to_unmasked_float_array\u001b[0;34m(x)\u001b[0m\n\u001b[1;32m   1343\u001b[0m         \u001b[0;32mreturn\u001b[0m \u001b[0mnp\u001b[0m\u001b[0;34m.\u001b[0m\u001b[0mma\u001b[0m\u001b[0;34m.\u001b[0m\u001b[0masarray\u001b[0m\u001b[0;34m(\u001b[0m\u001b[0mx\u001b[0m\u001b[0;34m,\u001b[0m \u001b[0mfloat\u001b[0m\u001b[0;34m)\u001b[0m\u001b[0;34m.\u001b[0m\u001b[0mfilled\u001b[0m\u001b[0;34m(\u001b[0m\u001b[0mnp\u001b[0m\u001b[0;34m.\u001b[0m\u001b[0mnan\u001b[0m\u001b[0;34m)\u001b[0m\u001b[0;34m\u001b[0m\u001b[0;34m\u001b[0m\u001b[0m\n\u001b[1;32m   1344\u001b[0m     \u001b[0;32melse\u001b[0m\u001b[0;34m:\u001b[0m\u001b[0;34m\u001b[0m\u001b[0;34m\u001b[0m\u001b[0m\n\u001b[0;32m-> 1345\u001b[0;31m         \u001b[0;32mreturn\u001b[0m \u001b[0mnp\u001b[0m\u001b[0;34m.\u001b[0m\u001b[0masarray\u001b[0m\u001b[0;34m(\u001b[0m\u001b[0mx\u001b[0m\u001b[0;34m,\u001b[0m \u001b[0mfloat\u001b[0m\u001b[0;34m)\u001b[0m\u001b[0;34m\u001b[0m\u001b[0;34m\u001b[0m\u001b[0m\n\u001b[0m\u001b[1;32m   1346\u001b[0m \u001b[0;34m\u001b[0m\u001b[0m\n\u001b[1;32m   1347\u001b[0m \u001b[0;34m\u001b[0m\u001b[0m\n",
      "\u001b[0;31mTypeError\u001b[0m: float() argument must be a string or a number, not 'dict'"
     ]
    },
    {
     "data": {
      "image/png": "[encoded data removed]",
      "text/plain": [
       "<Figure size 432x288 with 1 Axes>"
      ]
     },
     "metadata": {
      "needs_background": "light"
     },
     "output_type": "display_data"
    }
   ],
   "source": [
    "plt.plot(a)"
   ]
  },
  {
   "cell_type": "code",
   "execution_count": 62,
   "id": "a0c8726e-78b7-485a-ba09-739139776ac7",
   "metadata": {},
   "outputs": [],
   "source": [
    "# Extracting keys and values\n",
    "keys = list(a.keys())\n",
    "values = list(a.values())\n",
    "\n",
    "# Creating the bar plot\n",
    "plt.figure(figsize=(8, 5))\n",
    "plt.bar(keys, values, color='red')\n",
    "\n",
    "# Adding titles and labels\n",
    "plt.title('Trace of Covariance Matrix for Real Objects in MNIST')\n",
    "plt.xlabel('Digits')\n",
    "plt.ylabel('Trace Value')\n",
    "\n",
    "save_filename = os.path.join(save_path,  'var4digits')\n",
    "plt.savefig(save_filename, dpi=300)\n",
    "plt.close()\n",
    "# Display the plot\n",
    "# plt.show()"
   ]
  },
  {
   "cell_type": "code",
   "execution_count": 60,
   "id": "5b221150-0645-474d-966a-d7df0ce937b1",
   "metadata": {},
   "outputs": [
    {
     "data": {
      "text/plain": [
       "'/Users/serafim/Desktop/Job/projects/science/hse/GAN-Estimation-Uncertainty/uncertainty/mnist_tests/var4digits'"
      ]
     },
     "execution_count": 60,
     "metadata": {},
     "output_type": "execute_result"
    }
   ],
   "source": [
    "save_filename"
   ]
  },
  {
   "cell_type": "code",
   "execution_count": null,
   "id": "2291e406-03ce-4749-b5ba-b7de1475dc6b",
   "metadata": {},
   "outputs": [],
   "source": []
  }
 ],
 "metadata": {
  "kernelspec": {
   "display_name": "Python 3 (ipykernel)",
   "language": "python",
   "name": "python3"
  },
  "language_info": {
   "codemirror_mode": {
    "name": "ipython",
    "version": 3
   },
   "file_extension": ".py",
   "mimetype": "text/x-python",
   "name": "python",
   "nbconvert_exporter": "python",
   "pygments_lexer": "ipython3",
   "version": "3.9.6"
  }
 },
 "nbformat": 4,
 "nbformat_minor": 5
}
