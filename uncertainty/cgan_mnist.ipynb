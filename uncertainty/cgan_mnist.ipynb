{
 "cells": [
  {
   "cell_type": "code",
   "execution_count": null,
   "id": "38750f2a-9b2f-4a35-8b12-b7cd34b0b3c0",
   "metadata": {},
   "outputs": [],
   "source": [
    "%load_ext autoreload\n",
    "%autoreload 2"
   ]
  },
  {
   "cell_type": "code",
   "execution_count": null,
   "id": "84d674f0-d9ab-4af1-82d4-ac84a29e77a9",
   "metadata": {},
   "outputs": [],
   "source": [
    "import torch\n",
    "import torch.nn as nn\n",
    "import torch.optim as optim\n",
    "import torchvision\n",
    "import torchvision.transforms as transforms\n",
    "from torch.utils.data import DataLoader\n",
    "from torchvision.datasets import MNIST\n",
    "from torch.optim.lr_scheduler import CosineAnnealingLR, OneCycleLR\n",
    "\n",
    "\n",
    "import numpy as np\n",
    "import matplotlib.pyplot as plt\n",
    "\n",
    "\n"
   ]
  },
  {
   "cell_type": "markdown",
   "id": "9276ee99-cc4d-4242-b3e5-62f7b9c7eb07",
   "metadata": {},
   "source": [
    "Images in MNIST have pixel values ranging from 0 to 1. After normalization using `transforms.Normalize(mean=(0.5,), std=(0.5,))`, the transformed images have pixel values ranging from -1 to 1.\n",
    "\n",
    "Due to this transformation, the generator's last layer typically uses the hyperbolic tangent (tanh) activation function to get pixel values ranging from -1 to 1.\n",
    "\n"
   ]
  },
  {
   "cell_type": "code",
   "execution_count": null,
   "id": "549a643b-448c-4e45-8de6-216488fd5988",
   "metadata": {},
   "outputs": [],
   "source": [
    "BATCH_SIZE = 32\n",
    "\n",
    "# Image processing\n",
    "transform = transforms.Compose([\n",
    "    transforms.ToTensor(),\n",
    "    transforms.Normalize(mean=(0.5,), std=(0.5,))\n",
    "])\n",
    "\n",
    "# MNIST dataset\n",
    "train_dataset = MNIST(root='./data', \n",
    "                      train=True, \n",
    "                      transform=transform,\n",
    "                      download=True)\n",
    "\n",
    "test_dataset = MNIST(root='./data', \n",
    "                     train=False, \n",
    "                     transform=transform,\n",
    "                     download=True)\n",
    "\n",
    "\n",
    "train_loader = DataLoader(dataset=train_dataset, \n",
    "                          batch_size=BATCH_SIZE, \n",
    "                          shuffle=True)\n",
    "\n",
    "test_loader = DataLoader(dataset=test_dataset, \n",
    "                         batch_size=BATCH_SIZE, \n",
    "                         shuffle=False)"
   ]
  },
  {
   "cell_type": "markdown",
   "id": "fabc329a-39b3-4f4d-8aa0-ba08cddea2c3",
   "metadata": {},
   "source": [
    "#### CustomMNIST\n",
    "\n",
    "To restrict the dataset to certain digits, such as creating a dataset with fewer instances of the digit '1', you can use this class.\n",
    "\n",
    "This can be very useful when you want to make it more challenging for a generator to produce specific digits."
   ]
  },
  {
   "cell_type": "code",
   "execution_count": null,
   "id": "53e28ed4-4e83-4010-ae15-052b2b5830d6",
   "metadata": {},
   "outputs": [],
   "source": [
    "import torch\n",
    "from torchvision.datasets import MNIST\n",
    "from torch.utils.data import Dataset, DataLoader\n",
    "from torchvision import transforms\n",
    "\n",
    "class CustomMNIST(Dataset):\n",
    "    def __init__(self, root, train=True, transform=None, download=False, digit_limits=None):\n",
    "        self.mnist = MNIST(root=root, train=train, transform=transform, download=download)\n",
    "        self.transform = transform\n",
    "        self.digit_limits = digit_limits\n",
    "        self.indices = self._get_indices()\n",
    "\n",
    "    def _get_indices(self):\n",
    "        digit_count = {i: 0 for i in range(10)}\n",
    "        indices = []\n",
    "\n",
    "        for i, (image, label) in enumerate(self.mnist):\n",
    "            limit = self.digit_limits.get(label, None)\n",
    "            if limit is None or digit_count[label] < limit:\n",
    "                indices.append(i)\n",
    "                digit_count[label] += 1\n",
    "\n",
    "        return indices\n",
    "\n",
    "    def __len__(self):\n",
    "        return len(self.indices)\n",
    "\n",
    "    def __getitem__(self, idx):\n",
    "        idx = self.indices[idx]\n",
    "        return self.mnist[idx]\n",
    "\n",
    "    \n",
    "digit_limits = {2:1000, 8: 1000, 7: 1000}\n",
    "\n",
    "train_dataset = CustomMNIST(\n",
    "    root='./data',\n",
    "    train=True,\n",
    "    transform=transform,\n",
    "    download=True,\n",
    "    digit_limits=digit_limits\n",
    ")\n",
    "train_loader = DataLoader(dataset=train_dataset, \n",
    "                          batch_size=BATCH_SIZE, \n",
    "                          shuffle=True)"
   ]
  },
  {
   "cell_type": "code",
   "execution_count": null,
   "id": "a545613b-de04-4880-b6f7-3cb417f03002",
   "metadata": {},
   "outputs": [],
   "source": [
    "test_dataset"
   ]
  },
  {
   "cell_type": "markdown",
   "id": "4c066e40-38ca-46f9-8458-f856f1d7f967",
   "metadata": {},
   "source": [
    "##### Mnist samples\n",
    "Here an image and some pixels from it"
   ]
  },
  {
   "cell_type": "code",
   "execution_count": null,
   "id": "7e11f2c7-8648-4f44-b879-a3762707bc44",
   "metadata": {},
   "outputs": [],
   "source": [
    "img, label = train_dataset[0]\n",
    "print('Label: ', label)\n",
    "print(img[:,10:15,10:15])\n",
    "torch.min(img), torch.max(img)"
   ]
  },
  {
   "cell_type": "code",
   "execution_count": null,
   "id": "5c9633b3-7ac8-4535-841d-cdc7056b7149",
   "metadata": {},
   "outputs": [],
   "source": [
    "def denorm(x):\n",
    "    out = (x + 1) / 2\n",
    "    # print(out)\n",
    "    return out.clamp(0, 1)"
   ]
  },
  {
   "cell_type": "code",
   "execution_count": null,
   "id": "aa3c7a13-04d3-45e6-8f66-ee6cd4f9427d",
   "metadata": {},
   "outputs": [],
   "source": [
    "inputs, classes = next(iter(train_loader))\n",
    "inputs = inputs[:6]\n",
    "inputs = [el[0] for el in inputs]\n",
    "classes = classes[:6]\n",
    "\n",
    "fig = plt.figure()\n",
    "for i in range(6):\n",
    "    plt.subplot(2,3,i+1)\n",
    "    plt.imshow(denorm(inputs[i]), cmap='gray', interpolation='none');\n",
    "    plt.title(\"Ground Truth: {}\".format(classes[i]))\n",
    "    # plt.xticks([])\n",
    "    # plt.yticks([])\n",
    "    \n",
    "plt.tight_layout()\n",
    "plt.show()"
   ]
  },
  {
   "cell_type": "code",
   "execution_count": null,
   "id": "94ce1432-2e62-4544-a6b7-5df084d2dd8a",
   "metadata": {},
   "outputs": [],
   "source": []
  },
  {
   "cell_type": "code",
   "execution_count": null,
   "id": "ce502852-b3d2-4a78-8535-51ae12ef0399",
   "metadata": {},
   "outputs": [],
   "source": [
    "IMAGE_SIZE = 784\n",
    "device = torch.device('cuda' if torch.cuda.is_available() else 'cpu')\n",
    "print(device)"
   ]
  },
  {
   "cell_type": "markdown",
   "id": "c65a6e23-f3a0-4d4b-b070-d675eae4b7e8",
   "metadata": {},
   "source": [
    "### Load pretrained classifier\n",
    "\n",
    "use it to calculate FID and accuracy"
   ]
  },
  {
   "cell_type": "code",
   "execution_count": null,
   "id": "155e9af2-1b14-46ff-b0a0-2a7e45b76f5f",
   "metadata": {},
   "outputs": [],
   "source": [
    "from modules.mnist_classifier import eval_model\n",
    "from modules.mnist_models import CNN, CNN2, CNN3\n",
    "CLASSIFIER = CNN3().to(device=device)\n",
    "PATH = './mnist_tests_classifier/classifier__CNN3__1_9_32/classifier_model.pt'\n",
    "CLASSIFIER.load_state_dict(torch.load(PATH))\n",
    "CLASSIFIER.eval()"
   ]
  },
  {
   "cell_type": "code",
   "execution_count": null,
   "id": "cbf86bbb-5fab-40d1-a9be-d35a655bec98",
   "metadata": {},
   "outputs": [],
   "source": [
    "# CLASSIFIER\n",
    "loss_test, accuracy_test = eval_model(test_loader,\n",
    "                                      CLASSIFIER,\n",
    "                                      criterion = nn.CrossEntropyLoss(),\n",
    "                                      device = device)\n",
    "print(loss_test, accuracy_test)"
   ]
  },
  {
   "cell_type": "markdown",
   "id": "bdcad907-ce16-4129-9826-93e447a552ac",
   "metadata": {},
   "source": [
    "### Train\n"
   ]
  },
  {
   "cell_type": "code",
   "execution_count": null,
   "id": "b505e79e-576b-41e0-9ae3-9aafa9752cac",
   "metadata": {},
   "outputs": [],
   "source": [
    "from modules.mnist import Generator, Discriminator, train\n",
    "from modules.weighted_bce import WeightedVarianceBCE"
   ]
  },
  {
   "cell_type": "code",
   "execution_count": null,
   "id": "0ab7684b-757f-4214-b219-640856b548f0",
   "metadata": {},
   "outputs": [],
   "source": [
    "save_path = '/Users/serafim/Desktop/Job/projects/science/hse/GAN-Estimation-Uncertainty/uncertainty/mnist_tests'\n",
    "# save_path = '/Users/serafim/Desktop/Job/projects/science/hse/GAN-Estimation-Uncertainty/uncertainty/custom_mnist_tests'\n",
    "# save_path = '/Users/serafim/Desktop/Job/projects/science/hse/GAN-Estimation-Uncertainty/uncertainty/custom_mnist_tests_v'\n",
    "# save_path = '/Users/serafim/Desktop/Job/projects/science/hse/GAN-Estimation-Uncertainty/uncertainty/custom_mnist_tests_metric1'\n",
    "save_path = '/Users/serafim/Desktop/Job/projects/science/hse/GAN-Estimation-Uncertainty/uncertainty/custom_mnist_tests_D'\n",
    "save_path = '/Users/serafim/Desktop/Job/projects/science/hse/GAN-Estimation-Uncertainty/uncertainty/mnist_tests_D'"
   ]
  },
  {
   "cell_type": "code",
   "execution_count": null,
   "id": "a79e38c4-d92f-4412-beb0-3b08735371cf",
   "metadata": {
    "tags": []
   },
   "outputs": [],
   "source": [
    "G = Generator().to(device=device)\n",
    "D = Discriminator().to(device=device)\n",
    "# criterion = nn.BCELoss()\n",
    "# loss_function = nn.BCELoss()\n",
    "loss_function = WeightedVarianceBCE()\n",
    "learning_rate_G = 0.0001\n",
    "learning_rate_D = 0.0001\n",
    "# lr = 0.0001\n",
    "NUM_EPOCHS = 50\n",
    "\n",
    "import math \n",
    "NUM_BATCHES = math.ceil(len(train_loader.dataset)/train_loader.batch_size)\n",
    "print(f'NUM_BATCHES: {NUM_BATCHES}')\n",
    "D_optimizer = torch.optim.Adam(D.parameters(), lr=learning_rate_G)\n",
    "G_optimizer = torch.optim.Adam(G.parameters(), lr=learning_rate_D)\n",
    "\n",
    "max_lr = 0.00015\n",
    "\n",
    "scheduler_D = OneCycleLR(D_optimizer, max_lr=max_lr, total_steps=NUM_EPOCHS * NUM_BATCHES)\n",
    "scheduler_G = OneCycleLR(G_optimizer, max_lr=max_lr, total_steps=NUM_EPOCHS * NUM_BATCHES)\n",
    "\n",
    "# save_path = '/Users/serafim/Desktop/Job/projects/science/hse/GAN-Estimation-Uncertainty/uncertainty/custom_mnist_tests'\n",
    "NAME = 'base_wgan__lr_0,0001__1_3'\n",
    "\n",
    "D_losses_final, G_losses_final = train(\n",
    "    num_epochs = NUM_EPOCHS,\n",
    "    data_loader = train_loader,\n",
    "    D = D,\n",
    "    G = G,\n",
    "    D_optimizer = D_optimizer,\n",
    "    G_optimizer = G_optimizer, \n",
    "    criterion = loss_function,\n",
    "    device = device,\n",
    "    name = NAME, \n",
    "    save_path = save_path, \n",
    "    progress_generator = True,\n",
    "    plot_process = True,\n",
    "    info_n = 1,\n",
    "    classifier = CLASSIFIER,\n",
    "    fid = True,\n",
    "    fid_dataset = train_loader,\n",
    "    weights_bce = True,\n",
    "    test_fid = True,\n",
    "    scheduler_D = scheduler_D,\n",
    "    scheduler_G = scheduler_G\n",
    ")\n",
    "# plot_sine(G, save_path = save_path, name = NAME)\n"
   ]
  },
  {
   "cell_type": "code",
   "execution_count": null,
   "id": "7841b44b-202c-47f1-8459-d2582d0d007c",
   "metadata": {},
   "outputs": [],
   "source": [
    "Discriminator(\n",
    "  (label_embedding): Embedding(10, 10)\n",
    "  (model): Sequential(\n",
    "    (0): Linear(in_features=794, out_features=512, bias=True)\n",
    "    (1): LeakyReLU(negative_slope=0.2, inplace=True)\n",
    "    (2): Dropout(p=0.3, inplace=False)\n",
    "    (3): Linear(in_features=512, out_features=512, bias=True)\n",
    "    (4): LeakyReLU(negative_slope=0.2, inplace=True)\n",
    "    (5): Dropout(p=0.3, inplace=False)\n",
    "    (6): Linear(in_features=512, out_features=512, bias=True)\n",
    "    (7): LeakyReLU(negative_slope=0.2, inplace=True)\n",
    "    (8): Dropout(p=0.3, inplace=False)\n",
    "    (9): Linear(in_features=512, out_features=1, bias=True)\n",
    "    (10): Sigmoid()\n",
    "  )\n",
    ")"
   ]
  },
  {
   "cell_type": "markdown",
   "id": "c244c2f6-166e-4fa2-b9ee-e3556ac264f2",
   "metadata": {},
   "source": [
    "Save model, Generator and Discriminator"
   ]
  },
  {
   "cell_type": "code",
   "execution_count": null,
   "id": "1eb8c843-ddff-478a-a2b6-b9d3875b9f28",
   "metadata": {},
   "outputs": [],
   "source": [
    "import os\n",
    "def save_model(model, save_path, name, name2):\n",
    "    filepath = os.path.join(save_path, name, name2)\n",
    "    model.eval()\n",
    "    torch.save(model.state_dict(), filepath)\n",
    "    print(f\"Model saved at: {filepath}\")\n",
    "    \n"
   ]
  },
  {
   "cell_type": "code",
   "execution_count": null,
   "id": "96b88bde-54b8-49e7-895e-5c501745faca",
   "metadata": {},
   "outputs": [],
   "source": [
    "save_model(G, save_path, NAME, name2 = 'Generator')\n",
    "save_model(D, save_path, NAME, name2 = 'Discriminator')"
   ]
  },
  {
   "cell_type": "code",
   "execution_count": null,
   "id": "5da506c5-b912-4e7d-8690-246c65d62c64",
   "metadata": {
    "scrolled": true
   },
   "outputs": [],
   "source": [
    "G = Generator().to(device=device)\n",
    "D = Discriminator().to(device=device)\n",
    "# criterion = nn.BCELoss()\n",
    "# loss_function = nn.BCELoss()\n",
    "loss_function = WeightedVarianceBCE()\n",
    "learning_rate_G = 0.0001\n",
    "learning_rate_D = 0.0001\n",
    "# lr = 0.0001\n",
    "NUM_EPOCHS = 50\n",
    "\n",
    "import math \n",
    "NUM_BATCHES = math.ceil(len(train_loader.dataset)/train_loader.batch_size)\n",
    "print(f'NUM_BATCHES: {NUM_BATCHES}')\n",
    "D_optimizer = torch.optim.Adam(D.parameters(), lr=learning_rate_G)\n",
    "G_optimizer = torch.optim.Adam(G.parameters(), lr=learning_rate_D)\n",
    "\n",
    "max_lr = 0.00015\n",
    "\n",
    "scheduler_D = OneCycleLR(D_optimizer, max_lr=max_lr, total_steps=NUM_EPOCHS * NUM_BATCHES)\n",
    "scheduler_G = OneCycleLR(G_optimizer, max_lr=max_lr, total_steps=NUM_EPOCHS * NUM_BATCHES)\n",
    "\n",
    "# save_path = '/Users/serafim/Desktop/Job/projects/science/hse/GAN-Estimation-Uncertainty/uncertainty/custom_mnist_tests'\n",
    "NAME = 'base_wgan__lr_0,0001__1_3'\n",
    "\n",
    "D_losses_final, G_losses_final = train(\n",
    "    num_epochs = NUM_EPOCHS,\n",
    "    data_loader = train_loader,\n",
    "    D = D,\n",
    "    G = G,\n",
    "    D_optimizer = D_optimizer,\n",
    "    G_optimizer = G_optimizer, \n",
    "    criterion = loss_function,\n",
    "    device = device,\n",
    "    name = NAME, \n",
    "    save_path = save_path, \n",
    "    progress_generator = True,\n",
    "    plot_process = True,\n",
    "    info_n = 1,\n",
    "    classifier = CLASSIFIER,\n",
    "    fid = True,\n",
    "    fid_dataset = train_loader,\n",
    "    weights_bce = True,\n",
    "    test_fid = True,\n",
    "    scheduler_D = scheduler_D,\n",
    "    scheduler_G = scheduler_G\n",
    ")\n",
    "# plot_sine(G, save_path = save_path, name = NAME)\n"
   ]
  },
  {
   "cell_type": "code",
   "execution_count": null,
   "id": "19de36f5-5728-47c9-a298-e8bfd6aca8af",
   "metadata": {},
   "outputs": [],
   "source": [
    "save_model(G, save_path, NAME, name2 = 'Generator')\n",
    "save_model(D, save_path, NAME, name2 = 'Discriminator')"
   ]
  },
  {
   "cell_type": "markdown",
   "id": "69fe1a82-d414-4b0d-9060-1bb4fc434e77",
   "metadata": {},
   "source": [
    "### Training without weights"
   ]
  },
  {
   "cell_type": "code",
   "execution_count": null,
   "id": "5975ea36-beb0-4407-b4e8-46afa89cd993",
   "metadata": {
    "tags": []
   },
   "outputs": [],
   "source": [
    "G = Generator().to(device=device)\n",
    "D = Discriminator().to(device=device)\n",
    "# criterion = nn.BCELoss()\n",
    "# loss_function = nn.BCELoss()\n",
    "loss_function = WeightedVarianceBCE()\n",
    "learning_rate_G = 0.0001\n",
    "learning_rate_D = 0.0001\n",
    "# lr = 0.0001\n",
    "NUM_EPOCHS = 50\n",
    "\n",
    "import math \n",
    "NUM_BATCHES = math.ceil(len(train_loader.dataset)/train_loader.batch_size)\n",
    "print(f'NUM_BATCHES: {NUM_BATCHES}')\n",
    "D_optimizer = torch.optim.Adam(D.parameters(), lr=learning_rate_G)\n",
    "G_optimizer = torch.optim.Adam(G.parameters(), lr=learning_rate_D)\n",
    "\n",
    "max_lr = 0.00015\n",
    "\n",
    "scheduler_D = OneCycleLR(D_optimizer, max_lr=max_lr, total_steps=NUM_EPOCHS * NUM_BATCHES)\n",
    "scheduler_G = OneCycleLR(G_optimizer, max_lr=max_lr, total_steps=NUM_EPOCHS * NUM_BATCHES)\n",
    "\n",
    "NAME = 'base_gan__lr_0,0001__1_6'\n",
    "\n",
    "D_losses_final, G_losses_final = train(\n",
    "    num_epochs = NUM_EPOCHS,\n",
    "    data_loader = train_loader,\n",
    "    D = D,\n",
    "    G = G,\n",
    "    D_optimizer = D_optimizer,\n",
    "    G_optimizer = G_optimizer, \n",
    "    criterion = loss_function,\n",
    "    device = device,\n",
    "    name = NAME, \n",
    "    save_path = save_path, \n",
    "    progress_generator = True,\n",
    "    plot_process = True,\n",
    "    info_n = 1,\n",
    "    classifier = CLASSIFIER,\n",
    "    fid = True,\n",
    "    fid_dataset = train_loader,\n",
    "    weights_bce = False,\n",
    "    test_fid = True,\n",
    "    scheduler_D = scheduler_D,\n",
    "    scheduler_G = scheduler_G\n",
    ")\n"
   ]
  },
  {
   "cell_type": "markdown",
   "id": "4a86028a-8d11-4a83-b2e0-0a62acf33bb0",
   "metadata": {},
   "source": [
    "Save model"
   ]
  },
  {
   "cell_type": "code",
   "execution_count": null,
   "id": "aa45bc6f-858a-4cf1-9532-3814cb41bbe4",
   "metadata": {},
   "outputs": [],
   "source": [
    "save_model(G, save_path, NAME, name2 = 'Generator')\n",
    "save_model(D, save_path, NAME, name2 = 'Discriminator')"
   ]
  },
  {
   "cell_type": "code",
   "execution_count": null,
   "id": "5a99a786-ec0b-4ad9-af4a-f1aa0a695890",
   "metadata": {
    "tags": []
   },
   "outputs": [],
   "source": [
    "G = Generator().to(device=device)\n",
    "D = Discriminator().to(device=device)\n",
    "# criterion = nn.BCELoss()\n",
    "# loss_function = nn.BCELoss()\n",
    "loss_function = WeightedVarianceBCE()\n",
    "learning_rate_G = 0.0001\n",
    "learning_rate_D = 0.0001\n",
    "# lr = 0.0001\n",
    "NUM_EPOCHS = 50\n",
    "\n",
    "import math \n",
    "NUM_BATCHES = math.ceil(len(train_loader.dataset)/train_loader.batch_size)\n",
    "print(f'NUM_BATCHES: {NUM_BATCHES}')\n",
    "D_optimizer = torch.optim.Adam(D.parameters(), lr=learning_rate_G)\n",
    "G_optimizer = torch.optim.Adam(G.parameters(), lr=learning_rate_D)\n",
    "\n",
    "max_lr = 0.00015\n",
    "\n",
    "scheduler_D = OneCycleLR(D_optimizer, max_lr=max_lr, total_steps=NUM_EPOCHS * NUM_BATCHES)\n",
    "scheduler_G = OneCycleLR(G_optimizer, max_lr=max_lr, total_steps=NUM_EPOCHS * NUM_BATCHES)\n",
    "\n",
    "NAME = 'base_gan__lr_0,0001__1_8'\n",
    "\n",
    "D_losses_final, G_losses_final = train(\n",
    "    num_epochs = NUM_EPOCHS,\n",
    "    data_loader = train_loader,\n",
    "    D = D,\n",
    "    G = G,\n",
    "    D_optimizer = D_optimizer,\n",
    "    G_optimizer = G_optimizer, \n",
    "    criterion = loss_function,\n",
    "    device = device,\n",
    "    name = NAME, \n",
    "    save_path = save_path, \n",
    "    progress_generator = True,\n",
    "    plot_process = True,\n",
    "    info_n = 1,\n",
    "    classifier = CLASSIFIER,\n",
    "    fid = True,\n",
    "    fid_dataset = train_loader,\n",
    "    weights_bce = False,\n",
    "    test_fid = True,\n",
    "    scheduler_D = scheduler_D,\n",
    "    scheduler_G = scheduler_G\n",
    ")\n"
   ]
  },
  {
   "cell_type": "code",
   "execution_count": null,
   "id": "5cc9d5b7-ccd1-43eb-9731-4b60e9e2d3dd",
   "metadata": {},
   "outputs": [],
   "source": [
    "save_model(G, save_path, NAME, name2 = 'Generator')\n",
    "save_model(D, save_path, NAME, name2 = 'Discriminator')"
   ]
  },
  {
   "cell_type": "code",
   "execution_count": null,
   "id": "973cbb54-d8d5-4a09-93e9-3a1433532729",
   "metadata": {},
   "outputs": [],
   "source": [
    "G = Generator().to(device=device)\n",
    "D = Discriminator().to(device=device)\n",
    "# criterion = nn.BCELoss()\n",
    "# loss_function = nn.BCELoss()\n",
    "loss_function = WeightedVarianceBCE()\n",
    "learning_rate_G = 0.0001\n",
    "learning_rate_D = 0.0001\n",
    "# lr = 0.0001\n",
    "NUM_EPOCHS = 50\n",
    "\n",
    "import math \n",
    "NUM_BATCHES = math.ceil(len(train_loader.dataset)/train_loader.batch_size)\n",
    "print(f'NUM_BATCHES: {NUM_BATCHES}')\n",
    "D_optimizer = torch.optim.Adam(D.parameters(), lr=learning_rate_G)\n",
    "G_optimizer = torch.optim.Adam(G.parameters(), lr=learning_rate_D)\n",
    "\n",
    "max_lr = 0.0005\n",
    "\n",
    "scheduler_D = OneCycleLR(D_optimizer, max_lr=max_lr, total_steps=NUM_EPOCHS * NUM_BATCHES)\n",
    "scheduler_G = OneCycleLR(G_optimizer, max_lr=max_lr, total_steps=NUM_EPOCHS * NUM_BATCHES)\n",
    "\n",
    "NAME = 'base_gan__lr_0,0001__1_6'\n",
    "\n",
    "D_losses_final, G_losses_final = train(\n",
    "    num_epochs = NUM_EPOCHS,\n",
    "    data_loader = train_loader,\n",
    "    D = D,\n",
    "    G = G,\n",
    "    D_optimizer = D_optimizer,\n",
    "    G_optimizer = G_optimizer, \n",
    "    criterion = loss_function,\n",
    "    device = device,\n",
    "    name = NAME, \n",
    "    save_path = save_path, \n",
    "    progress_generator = True,\n",
    "    plot_process = True,\n",
    "    info_n = 1,\n",
    "    classifier = CLASSIFIER,\n",
    "    fid = True,\n",
    "    fid_dataset = train_loader,\n",
    "    weights_bce = False,\n",
    "    test_fid = True,\n",
    "    scheduler_D = scheduler_D,\n",
    "    scheduler_G = scheduler_G\n",
    ")\n"
   ]
  },
  {
   "cell_type": "code",
   "execution_count": null,
   "id": "f26c0489-4c16-4903-bea2-38b38e014fd9",
   "metadata": {},
   "outputs": [],
   "source": [
    "save_model(G, save_path, NAME, name2 = 'Generator')\n",
    "save_model(D, save_path, NAME, name2 = 'Discriminator')"
   ]
  },
  {
   "cell_type": "markdown",
   "id": "7c7171dc-d163-4217-9557-e2aeb8bcb985",
   "metadata": {},
   "source": [
    "### Compare models(with weights and without it)"
   ]
  },
  {
   "cell_type": "markdown",
   "id": "00b9761a-998c-49e1-a674-677e617960bf",
   "metadata": {},
   "source": [
    "> load lists with fid and vfid for every class for model with weights and without it and compare thier values\n"
   ]
  },
  {
   "cell_type": "code",
   "execution_count": null,
   "id": "2cdbe047-5793-46ff-809f-9df5b1b76eeb",
   "metadata": {},
   "outputs": [],
   "source": [
    "import pickle\n",
    "import os"
   ]
  },
  {
   "cell_type": "code",
   "execution_count": null,
   "id": "886d0a03-2785-471d-b22b-cd98bda339b7",
   "metadata": {},
   "outputs": [],
   "source": [
    "\n",
    "\n",
    "m1_path_base = 'mnist_tests/base_gan__lr_0,0001__1_8'\n",
    "m2_path_base = 'mnist_tests/base_wgan__lr_0,0001__1_3'\n",
    "\n",
    "# m1_path = f'{m1_path_base}/fid_test.pickle' 'mnist_tests/base_gan__lr_0,0001__1_12/fid_test.pickle' \n",
    "# m2_path = 'mnist_tests/base_wgan__lr_0,0001__1_11/fid_test.pickle'\n",
    "\n",
    "m1_fid_path = os.path.join(m1_path_base, f'fid_test.pickle')\n",
    "m2_fid_path = os.path.join(m2_path_base, f'fid_test.pickle')\n",
    "\n",
    "m1_vfid_path = os.path.join(m1_path_base, f'vfid_test.pickle')\n",
    "m2_vfid_path = os.path.join(m2_path_base, f'vfid_test.pickle')\n",
    "\n",
    "\n",
    "with open(m1_fid_path, 'rb') as f:\n",
    "    m1_fid = pickle.load(f)\n",
    "    \n",
    "with open(m2_fid_path, 'rb') as f:\n",
    "    m2_fid = pickle.load(f)\n",
    "    \n",
    "with open(m1_vfid_path, 'rb') as f:\n",
    "    m1_vfid = pickle.load(f)\n",
    "    \n",
    "with open(m2_vfid_path, 'rb') as f:\n",
    "    m2_vfid = pickle.load(f)"
   ]
  },
  {
   "cell_type": "code",
   "execution_count": null,
   "id": "3c5a1780-d60b-4ec4-b3de-0edd7b6ec773",
   "metadata": {},
   "outputs": [],
   "source": [
    "def plot_grouped_bar(m1, m2, title, y_label, x_label = 'digits', bar_width=0.35, legend_labels=('Standard', 'Weighted'),\n",
    "                    save_path = None):\n",
    "    \"\"\"\n",
    "    Plots a grouped bar chart with two sets of data.\n",
    "    \n",
    "    Args:\n",
    "    - m1 (list): List of tuples containing x, y values for the first set of bars.\n",
    "    - m2 (list): List of tuples containing x, y values for the second set of bars.\n",
    "    - title (str): Title of the plot.\n",
    "    - x_label (str): Label for the x-axis.\n",
    "    - y_label (str): Label for the y-axis.\n",
    "    - bar_width (float): Width of the bars. Default is 0.35.\n",
    "    - legend_labels (tuple): Labels for the legend. Default is ('Standard', 'Weighted').\n",
    "    \"\"\"\n",
    "    \n",
    "    # Extract the x values (indices) and y values\n",
    "    x = [item[0] for item in m1]\n",
    "    y1 = [item[1] for item in m1]\n",
    "    y2 = [item[1] for item in m2]\n",
    "\n",
    "    # Define the positions of the bars for m1 and m2\n",
    "    x_pos_m1 = np.array(x) - bar_width / 2\n",
    "    x_pos_m2 = np.array(x) + bar_width / 2\n",
    "    \n",
    "    # Create the bar plot\n",
    "    plt.bar(x_pos_m1, y1, width=bar_width, label=legend_labels[0], color='r')\n",
    "    plt.bar(x_pos_m2, y2, width=bar_width, label=legend_labels[1], color='black')\n",
    "    \n",
    "    # Labeling and title\n",
    "    plt.xlabel(x_label)\n",
    "    plt.ylabel(y_label)\n",
    "    plt.title(title)\n",
    "    plt.xticks(x)  # Set the ticks at the center of the groups\n",
    "    plt.legend()\n",
    "    if save_path:\n",
    "        save_filename = os.path.join(save_path,  'fid4digits')\n",
    "        plt.savefig(save_filename, dpi=300)\n",
    "        plt.close()\n",
    "        return\n",
    "\n",
    "    # Show the plot\n",
    "    plt.show()"
   ]
  },
  {
   "cell_type": "code",
   "execution_count": null,
   "id": "6887e4ec-52dc-490d-bd2b-fa913969338b",
   "metadata": {},
   "outputs": [],
   "source": [
    "plot_grouped_bar(m1_fid, m2_fid, title = 'FID for digits', y_label = 'FID')"
   ]
  },
  {
   "cell_type": "code",
   "execution_count": null,
   "id": "3abe2960-d26a-40e5-ae4d-e4f0fdd18db7",
   "metadata": {},
   "outputs": [],
   "source": [
    "plot_grouped_bar(m1_vfid, m2_vfid, title = 'vFID for digits', y_label = 'vFID')"
   ]
  },
  {
   "cell_type": "code",
   "execution_count": null,
   "id": "a6af7bd3-1046-42f7-913d-815bcf0dd888",
   "metadata": {},
   "outputs": [],
   "source": [
    "os.path"
   ]
  },
  {
   "cell_type": "markdown",
   "id": "453b2ce0-b47c-41c0-8440-5ad369380649",
   "metadata": {},
   "source": [
    "Load standard and weighted Generator and Discriminator"
   ]
  },
  {
   "cell_type": "code",
   "execution_count": null,
   "id": "0d1a6580-504b-4ab0-8286-2a6837489383",
   "metadata": {},
   "outputs": [],
   "source": [
    "standard_model_path = 'base_gan__lr_0,0001__1_4'\n",
    "# standard_model_path = 'base_wgan__lr_0,0001__1_1'\n",
    "w_model_path = 'base_wgan__lr_0,0001__1_3'\n",
    "save_path = '/Users/serafim/Desktop/Job/projects/science/hse/GAN-Estimation-Uncertainty/uncertainty/custom_mnist_tests_metric1'\n",
    "save_path = '/Users/serafim/Desktop/Job/projects/science/hse/GAN-Estimation-Uncertainty/uncertainty/custom_mnist_tests'\n",
    "save_path = '/Users/serafim/Desktop/Job/projects/science/hse/GAN-Estimation-Uncertainty/uncertainty/mnist_tests'\n",
    "# save_path = '/Users/serafim/Desktop/Job/projects/science/hse/GAN-Estimation-Uncertainty/uncertainty/custom_mnist_tests_v'\n",
    "# save_path = '/Users/serafim/Desktop/Job/projects/science/hse/GAN-Estimation-Uncertainty/uncertainty/custom_mnist_tests_D'\n",
    "# save_path = '/Users/serafim/Desktop/Job/projects/science/hse/GAN-Estimation-Uncertainty/uncertainty/mnist_tests_D'"
   ]
  },
  {
   "cell_type": "code",
   "execution_count": null,
   "id": "60cf86ba-a69f-4420-8d92-51e7b049f62b",
   "metadata": {},
   "outputs": [],
   "source": [
    "standard_G = Generator().to(device=device)\n",
    "standard_D = Discriminator().to(device=device)\n",
    "\n",
    "path = os.path.join(save_path, standard_model_path, 'Generator')\n",
    "standard_G.load_state_dict(torch.load(path))\n",
    "standard_G.eval();\n",
    "\n",
    "path = os.path.join(save_path, standard_model_path, 'Discriminator')\n",
    "standard_D.load_state_dict(torch.load(path))\n",
    "standard_D.eval();"
   ]
  },
  {
   "cell_type": "code",
   "execution_count": null,
   "id": "b869d6b5-67d1-477b-b287-f1a17400e399",
   "metadata": {},
   "outputs": [],
   "source": [
    "standard_D.eval()"
   ]
  },
  {
   "cell_type": "code",
   "execution_count": null,
   "id": "472b8110-0296-4b6d-9477-70434cbb0827",
   "metadata": {},
   "outputs": [],
   "source": [
    "Weighted_G = Generator().to(device=device)\n",
    "Weighted_D = Discriminator().to(device=device)\n",
    "\n",
    "path = os.path.join(save_path, w_model_path, 'Generator')\n",
    "Weighted_G.load_state_dict(torch.load(path))\n",
    "Weighted_G.eval();\n",
    "\n",
    "path = os.path.join(save_path, w_model_path, 'Discriminator')\n",
    "Weighted_D.load_state_dict(torch.load(path))\n",
    "Weighted_D.eval();"
   ]
  },
  {
   "cell_type": "markdown",
   "id": "7d78a981-947b-4398-b842-202d2d7729a8",
   "metadata": {},
   "source": [
    "Load classifier to get feature representation model"
   ]
  },
  {
   "cell_type": "code",
   "execution_count": null,
   "id": "204fa4c1-9bf2-4e77-bae6-dbd538fcc319",
   "metadata": {},
   "outputs": [],
   "source": [
    "from modules.mnist_classifier import eval_model\n",
    "from modules.mnist_models import CNN, CNN2, CNN3\n",
    "CLASSIFIER = CNN3().to(device=device)\n",
    "PATH = './mnist_tests_classifier/classifier__CNN3__1_9_32/classifier_model.pt'\n",
    "CLASSIFIER.load_state_dict(torch.load(PATH))\n",
    "CLASSIFIER.eval()"
   ]
  },
  {
   "cell_type": "code",
   "execution_count": null,
   "id": "e74b41f4-19a0-48f8-a6cf-e9c945f5022e",
   "metadata": {},
   "outputs": [],
   "source": [
    "from modules.mnist_models import CNNClassifierWrapper\n",
    "\n",
    "FEATURE_EXTRACTOR = CNNClassifierWrapper(CLASSIFIER, layer_index = -6, use_global_pooling = False)\n",
    "FEATURE_EXTRACTOR.register_hook()"
   ]
  },
  {
   "cell_type": "markdown",
   "id": "e575f680-0fd6-4e0b-9507-7a4037a24d08",
   "metadata": {},
   "source": [
    "Check that FEATURE_EXTRACTOR works correctly"
   ]
  },
  {
   "cell_type": "code",
   "execution_count": null,
   "id": "9cb3c5d6-9919-4fc8-acd9-9d3f75fdf60a",
   "metadata": {},
   "outputs": [],
   "source": [
    "# FEATURE_EXTRACTOR = CNNClassifierWrapper(CLASSIFIER, layer_index = -6, use_global_pooling = False)\n",
    "\n",
    "img_example = torch.rand(32, 1, 28, 28)  #image 28 on 28 with 1 chanel like in mnist\n",
    "# FEATURE_EXTRACTOR.register_hook()  # Register hook before making predictions\n",
    "output = FEATURE_EXTRACTOR(img_example)\n",
    "# FEATURE_EXTRACTOR.remove_hook()\n",
    "print(output.size())"
   ]
  },
  {
   "cell_type": "code",
   "execution_count": null,
   "id": "6ae03ced-2cb5-47e0-961f-9d69b924c7d5",
   "metadata": {},
   "outputs": [],
   "source": [
    "from modules.fid import split_mnist_loader_cats, calculate_multiple_fid\n",
    "from modules.mnist_classifier import calculate_confusion_matrix\n",
    "from modules.mnist import get_fake_dataloader, FakeDataset"
   ]
  },
  {
   "cell_type": "code",
   "execution_count": null,
   "id": "019a5f6e-fbce-45d5-9a68-d39a857b5805",
   "metadata": {},
   "outputs": [],
   "source": [
    "fake_loader_eval = get_fake_dataloader(Weighted_G,\n",
    "                                              device,\n",
    "                                              batch_size=32,\n",
    "                                              num_examples_per_class=10000,\n",
    "                                              noise_dim=100,\n",
    "                                              shuffle=True)"
   ]
  },
  {
   "cell_type": "code",
   "execution_count": null,
   "id": "2d32e960-8dca-4216-9610-8326b0c195f3",
   "metadata": {},
   "outputs": [],
   "source": [
    "# fake_loader_eval[0]"
   ]
  },
  {
   "cell_type": "code",
   "execution_count": null,
   "id": "919808ce-ed55-478a-9f62-3332def8d157",
   "metadata": {},
   "outputs": [],
   "source": [
    "# ls\n",
    "# ls /Users/serafim/Desktop"
   ]
  },
  {
   "cell_type": "code",
   "execution_count": null,
   "id": "d19d0592-c996-4eef-ae28-9eb87d9cb442",
   "metadata": {},
   "outputs": [],
   "source": [
    "a = calculate_confusion_matrix(CLASSIFIER, fake_loader_eval, device, epoch = 50, save_path = '/Users/serafim/Desktop', name = 'cf', metrics = True)\n"
   ]
  },
  {
   "cell_type": "code",
   "execution_count": null,
   "id": "8c27bf22-84c1-4b10-9b9a-cf9dabbdd8b2",
   "metadata": {},
   "outputs": [],
   "source": [
    "b = calculate_confusion_matrix(CLASSIFIER, fake_loader_eval, device, epoch = 50, save_path = '/Users/serafim/Desktop', name = 'cf', metrics = True)\n"
   ]
  },
  {
   "cell_type": "code",
   "execution_count": null,
   "id": "005bd491-5f43-4fd7-b8e4-a40ee76ec0c1",
   "metadata": {},
   "outputs": [],
   "source": [
    "b"
   ]
  },
  {
   "cell_type": "code",
   "execution_count": null,
   "id": "f05bcc99-6648-448c-8b31-41d1312b53ad",
   "metadata": {},
   "outputs": [],
   "source": [
    "b"
   ]
  },
  {
   "cell_type": "code",
   "execution_count": null,
   "id": "5168150d-8245-4da6-9bf3-7c39e3756dc7",
   "metadata": {},
   "outputs": [],
   "source": [
    "a"
   ]
  },
  {
   "cell_type": "code",
   "execution_count": null,
   "id": "e794106e-68b4-4d58-8078-815a5b43622c",
   "metadata": {},
   "outputs": [],
   "source": [
    "'accuracy': 0.98388,\n",
    " 'macro avg': {'precision': 0.9839122704969807,\n",
    "  'recall': 0.9838800000000001,\n",
    "  'f1-score': 0.9838827441740126,\n",
    "  'support': 100000},\n",
    " 'weighted avg': {'precision': 0.9839122704969808,\n",
    "  'recall': 0.98388,\n",
    "  'f1-score': 0.9838827441740123,\n",
    "  'support': 100000}}\n",
    "\n",
    "\n"
   ]
  },
  {
   "cell_type": "code",
   "execution_count": null,
   "id": "a3d0e0e8-cf12-4e46-ba5a-38cb5f22b094",
   "metadata": {},
   "outputs": [],
   "source": [
    "\n",
    "# category_data_real = split_mnist_loader_cats(train_loader, max_images = None)\n",
    "# fid_cats, vfid_cats = calculate_multiple_fid(standard_G, FEATURE_EXTRACTOR, category_data_real, device)\n"
   ]
  },
  {
   "cell_type": "code",
   "execution_count": null,
   "id": "cb0d1462-f996-4cf9-ab0d-8745308817b1",
   "metadata": {},
   "outputs": [],
   "source": [
    "category_data_real = split_mnist_loader_cats(test_loader, max_images = None)"
   ]
  },
  {
   "cell_type": "code",
   "execution_count": null,
   "id": "80dda5e7-9473-4a3b-8d0d-43d94b80de2b",
   "metadata": {},
   "outputs": [],
   "source": [
    "# fid_cats, vfid_cats = calculate_multiple_fid(standard_G, FEATURE_EXTRACTOR, category_data_real, device)\n",
    "w_fid_cats, w_vfid_cats = calculate_multiple_fid(Weighted_G, FEATURE_EXTRACTOR, category_data_real, device)\n"
   ]
  },
  {
   "cell_type": "code",
   "execution_count": null,
   "id": "6b4e90ab-360c-4c4c-897b-fb2b20fba683",
   "metadata": {},
   "outputs": [],
   "source": [
    "# w_fid_cats, w_vfid_cats"
   ]
  },
  {
   "cell_type": "markdown",
   "id": "74749ec4-5881-4c15-bb93-6e4086c8a56a",
   "metadata": {},
   "source": [
    "custom dataset with `{2:1000, 8: 1000, 7: 1000}`(there are 1000 images of 2, and etc...)"
   ]
  },
  {
   "cell_type": "code",
   "execution_count": null,
   "id": "350542ab-6004-413a-8023-e5ddea342066",
   "metadata": {
    "tags": []
   },
   "outputs": [],
   "source": [
    "plot_grouped_bar(list(fid_cats.items()), list(w_fid_cats.items()), title = 'FID for digits', y_label = 'FID', save_path = '/Users/serafim/Desktop/cf')"
   ]
  },
  {
   "cell_type": "code",
   "execution_count": null,
   "id": "2abfa090-84bb-4671-8785-46cf65dcbea3",
   "metadata": {},
   "outputs": [],
   "source": [
    "plot_grouped_bar(list(vfid_cats.items()), list(w_vfid_cats.items()), title = 'vFID for digits', y_label = 'vFID')"
   ]
  },
  {
   "cell_type": "code",
   "execution_count": null,
   "id": "ca4f2edf-e02e-4947-bb5a-89cc8a86e9a9",
   "metadata": {},
   "outputs": [],
   "source": [
    "plot_grouped_bar(list(fid_cats.items()), list(w_fid_cats.items()), title = 'FID for digits', y_label = 'FID')"
   ]
  },
  {
   "cell_type": "code",
   "execution_count": null,
   "id": "a0a83eb9-6b24-4db2-80f3-fb5b067cfb4c",
   "metadata": {},
   "outputs": [],
   "source": [
    "sum(fid_cats.values())/len(fid_cats), sum(w_fid_cats.values())/len(w_fid_cats)"
   ]
  },
  {
   "cell_type": "code",
   "execution_count": null,
   "id": "47912b36-6d1e-490d-8858-6b6f7acc7f89",
   "metadata": {},
   "outputs": [],
   "source": [
    "(34.62795008633528, 36.0239711077637)"
   ]
  },
  {
   "cell_type": "markdown",
   "id": "ad7cd9da-38f1-4f44-97cf-7b6cdd0c2226",
   "metadata": {},
   "source": [
    "standard dataset"
   ]
  },
  {
   "cell_type": "code",
   "execution_count": null,
   "id": "fcbd37df-3ee4-420f-aa32-deb7f0397b23",
   "metadata": {},
   "outputs": [],
   "source": [
    "plot_grouped_bar(list(fid_cats.items()), list(w_fid_cats.items()), title = 'FID for digits', y_label = 'FID')\n"
   ]
  },
  {
   "cell_type": "code",
   "execution_count": null,
   "id": "a4c405f9-3669-4630-87a9-19f43b68d1e4",
   "metadata": {},
   "outputs": [],
   "source": [
    "plot_grouped_bar(list(vfid_cats.items()), list(w_vfid_cats.items()), title = 'vFID for digits', y_label = 'vFID')"
   ]
  },
  {
   "cell_type": "code",
   "execution_count": null,
   "id": "5a2fc7dc-c67c-4501-abe8-2359c8e195f4",
   "metadata": {},
   "outputs": [],
   "source": [
    "sum(fid_cats.values())/len(fid_cats)"
   ]
  },
  {
   "cell_type": "code",
   "execution_count": null,
   "id": "2de28624-af21-44b5-9478-39d0e202c7ac",
   "metadata": {},
   "outputs": [],
   "source": [
    "sum(w_fid_cats.values())/len(w_fid_cats)"
   ]
  },
  {
   "cell_type": "code",
   "execution_count": null,
   "id": "c84e87de-b49c-4672-84b1-a0292fcbf894",
   "metadata": {},
   "outputs": [],
   "source": [
    "# plot_grouped_bar(list(fid_cats.items()), list(w_fid_cats.items()), title = 'FID for digits', y_label = 'FID', save_path = '/Users/serafim/Desktop/cf')"
   ]
  },
  {
   "cell_type": "code",
   "execution_count": null,
   "id": "219f33dd-9f80-4ead-af63-7de3f6c1aede",
   "metadata": {},
   "outputs": [],
   "source": [
    "a, b = calculate_multiple_fid(Weighted_G, FEATURE_EXTRACTOR, category_data_real, device)"
   ]
  },
  {
   "cell_type": "code",
   "execution_count": null,
   "id": "78a040a6-1a32-4bb5-80a4-a60203528be7",
   "metadata": {},
   "outputs": [],
   "source": [
    "a"
   ]
  },
  {
   "cell_type": "code",
   "execution_count": null,
   "id": "5410e83f-92ec-4a0a-af8b-39b563b7405f",
   "metadata": {},
   "outputs": [],
   "source": [
    "# b"
   ]
  },
  {
   "cell_type": "code",
   "execution_count": null,
   "id": "dca71748-3702-4085-9c51-e8158067a12c",
   "metadata": {
    "scrolled": true
   },
   "outputs": [],
   "source": [
    "plt.plot(a)"
   ]
  },
  {
   "cell_type": "code",
   "execution_count": null,
   "id": "a0c8726e-78b7-485a-ba09-739139776ac7",
   "metadata": {},
   "outputs": [],
   "source": [
    "# Extracting keys and values\n",
    "keys = list(a.keys())\n",
    "values = list(a.values())\n",
    "\n",
    "# Creating the bar plot\n",
    "plt.figure(figsize=(8, 5))\n",
    "plt.bar(keys, values, color='red')\n",
    "\n",
    "# Adding titles and labels\n",
    "plt.title('Trace of Covariance Matrix for Real Objects in MNIST')\n",
    "plt.xlabel('Digits')\n",
    "plt.ylabel('Trace Value')\n",
    "\n",
    "save_filename = os.path.join(save_path,  'var4digits')\n",
    "plt.savefig(save_filename, dpi=300)\n",
    "plt.close()\n",
    "# Display the plot\n",
    "# plt.show()"
   ]
  },
  {
   "cell_type": "code",
   "execution_count": null,
   "id": "5b221150-0645-474d-966a-d7df0ce937b1",
   "metadata": {},
   "outputs": [],
   "source": [
    "save_filename"
   ]
  },
  {
   "cell_type": "code",
   "execution_count": null,
   "id": "2291e406-03ce-4749-b5ba-b7de1475dc6b",
   "metadata": {},
   "outputs": [],
   "source": []
  }
 ],
 "metadata": {
  "kernelspec": {
   "display_name": "Python 3 (ipykernel)",
   "language": "python",
   "name": "python3"
  },
  "language_info": {
   "codemirror_mode": {
    "name": "ipython",
    "version": 3
   },
   "file_extension": ".py",
   "mimetype": "text/x-python",
   "name": "python",
   "nbconvert_exporter": "python",
   "pygments_lexer": "ipython3",
   "version": "3.9.6"
  }
 },
 "nbformat": 4,
 "nbformat_minor": 5
}
